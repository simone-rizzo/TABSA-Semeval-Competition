{
  "cells": [
    {
      "cell_type": "markdown",
      "source": [
        "# **SemEval 2015 Task 12**"
      ],
      "metadata": {
        "id": "aQllfvzysWsv"
      }
    },
    {
      "cell_type": "code",
      "execution_count": null,
      "metadata": {
        "id": "bC8devvBgwdH"
      },
      "outputs": [],
      "source": [
        "!pip install transformers\n",
        "from tokenizers import BertWordPieceTokenizer\n",
        "from transformers import BertTokenizer, TFBertModel, BertConfig\n",
        "import os\n",
        "# Save the slow pretrained tokenizer\n",
        "slow_tokenizer = BertTokenizer.from_pretrained(\"bert-base-uncased\")\n",
        "save_path = \"bert_base_uncased/\"\n",
        "if not os.path.exists(save_path):\n",
        "    os.makedirs(save_path)\n",
        "slow_tokenizer.save_pretrained(save_path)\n",
        "\n",
        "# Load the fast tokenizer from saved file\n",
        "tokenizer = BertWordPieceTokenizer(\"bert_base_uncased/vocab.txt\", lowercase=True)"
      ]
    },
    {
      "cell_type": "code",
      "execution_count": null,
      "metadata": {
        "colab": {
          "base_uri": "https://localhost:8080/"
        },
        "id": "Pm9F7MGCr08B",
        "outputId": "5558c5d7-4cc7-4eed-b97c-d09a270e6744"
      },
      "outputs": [
        {
          "output_type": "stream",
          "name": "stdout",
          "text": [
            "Mounted at /content/drive\n"
          ]
        }
      ],
      "source": [
        "from google.colab import drive\n",
        "drive.mount('/content/drive')"
      ]
    },
    {
      "cell_type": "code",
      "source": [
        " encoder = TFBertModel.from_pretrained(\"bert-base-uncased\")"
      ],
      "metadata": {
        "colab": {
          "base_uri": "https://localhost:8080/",
          "height": 156,
          "referenced_widgets": [
            "77b9ac899d724d0eb4246ba47061eb71",
            "b1f31b25e15149b89f6e04827439b1f2",
            "fcec08fd554a4284aafa08eeba9a9fed",
            "9e5b0ae4e386465b892af86c37e21fb7",
            "05022614f2f945dfbb79c7ecda2b5cf8",
            "9d5593ff4a6a4653b23eda14d497ccff",
            "8da2cbc75ffe4c649838d0dc7a0a1990",
            "bd36a07085aa40a08adba7844b9e25f6",
            "1397738b8e794d28ad66d22f5fc2a1d1",
            "26f0dcf3c5624240983563ad63954490",
            "dc07f6b87a8d441d8ffe8d7998629e0f"
          ]
        },
        "id": "wmpTqjoOtAY2",
        "outputId": "0bb1baa1-f7be-4cd2-d536-9ff43359e2e6"
      },
      "execution_count": null,
      "outputs": [
        {
          "output_type": "display_data",
          "data": {
            "text/plain": [
              "Downloading:   0%|          | 0.00/511M [00:00<?, ?B/s]"
            ],
            "application/vnd.jupyter.widget-view+json": {
              "version_major": 2,
              "version_minor": 0,
              "model_id": "77b9ac899d724d0eb4246ba47061eb71"
            }
          },
          "metadata": {}
        },
        {
          "output_type": "stream",
          "name": "stderr",
          "text": [
            "Some layers from the model checkpoint at bert-base-uncased were not used when initializing TFBertModel: ['nsp___cls', 'mlm___cls']\n",
            "- This IS expected if you are initializing TFBertModel from the checkpoint of a model trained on another task or with another architecture (e.g. initializing a BertForSequenceClassification model from a BertForPreTraining model).\n",
            "- This IS NOT expected if you are initializing TFBertModel from the checkpoint of a model that you expect to be exactly identical (initializing a BertForSequenceClassification model from a BertForSequenceClassification model).\n",
            "All the layers of TFBertModel were initialized from the model checkpoint at bert-base-uncased.\n",
            "If your task is similar to the task the model of the checkpoint was trained on, you can already use TFBertModel for predictions without further training.\n"
          ]
        }
      ]
    },
    {
      "cell_type": "code",
      "source": [
        "encoder(slow_tokenizer(\"hello how are you\", return_tensors=\"tf\"))['last_hidden_state'][0]"
      ],
      "metadata": {
        "colab": {
          "base_uri": "https://localhost:8080/"
        },
        "id": "ly5z7qS0tBT-",
        "outputId": "da99b5fe-ea95-4f3d-c0f5-78d4899c3956"
      },
      "execution_count": null,
      "outputs": [
        {
          "output_type": "execute_result",
          "data": {
            "text/plain": [
              "<tf.Tensor: shape=(6, 768), dtype=float32, numpy=\n",
              "array([[ 3.5377089e-02,  4.9712881e-03, -1.6398986e-01, ...,\n",
              "        -2.9469514e-01,  1.0046009e-01,  2.6906958e-01],\n",
              "       [ 1.9154608e-01,  1.5503927e-01,  3.9772588e-01, ...,\n",
              "        -6.0796332e-01,  5.2366585e-01, -2.5391939e-01],\n",
              "       [-3.5802642e-01, -6.1634368e-01,  4.8258886e-02, ...,\n",
              "        -2.8904155e-04,  7.1064633e-01, -6.0931194e-01],\n",
              "       [ 4.1431257e-01, -1.3597898e+00,  1.8618979e-01, ...,\n",
              "        -4.9402261e-01,  4.3869135e-01, -3.7817371e-01],\n",
              "       [-2.7346632e-01, -1.2541181e+00,  3.3194888e-01, ...,\n",
              "        -5.6550704e-02,  3.8558537e-01, -5.8725363e-01],\n",
              "       [ 5.2414024e-01, -2.5613758e-01, -3.2033288e-01, ...,\n",
              "         4.1231364e-01, -3.8296321e-01, -2.1611504e-01]], dtype=float32)>"
            ]
          },
          "metadata": {},
          "execution_count": 16
        }
      ]
    },
    {
      "cell_type": "markdown",
      "metadata": {
        "id": "MnQoO2eprypa"
      },
      "source": [
        "# Dataset"
      ]
    },
    {
      "cell_type": "code",
      "execution_count": null,
      "metadata": {
        "id": "WEWFnkYcr56Q"
      },
      "outputs": [],
      "source": [
        "import zipfile\n",
        "import pandas as pd\n",
        "import xml.etree.ElementTree as ET\n",
        "# !pip install tensorflow_text\n",
        "\n",
        "dataset_path = \"/content/drive/MyDrive/HLT/RestaurantTR.zip\"\n",
        "with zipfile.ZipFile(dataset_path,\"r\") as zip_ref:\n",
        "    zip_ref.extractall(\"./dataset\")"
      ]
    },
    {
      "cell_type": "markdown",
      "source": [
        "**Dataset creation**"
      ],
      "metadata": {
        "id": "NwM_j4P7l2-5"
      }
    },
    {
      "cell_type": "code",
      "execution_count": null,
      "metadata": {
        "id": "_3CTK1wOshFO"
      },
      "outputs": [],
      "source": [
        "import numpy as np\n",
        "xml_path = \"/content/dataset/ABSA15_RestaurantsTrain/ABSA-15_Restaurants_Train_Final.xml\"\n",
        "mytree = ET.parse(xml_path)\n",
        "reviews = mytree.getroot()\n",
        "rows_list = []\n",
        "for rew in reviews:\n",
        "  rid = rew.attrib['rid']\n",
        "  for sent in rew[0]: #cicle on single sentence in review.\n",
        "    sid = sent.attrib['id']\n",
        "    txt = sent[0].text\n",
        "    if len(sent)>1:\n",
        "      row_dict = {}\n",
        "      row_dict['rid'] = rid # Review id\n",
        "      row_dict['sid'] = sid # Sentence id\n",
        "      row_dict['txt'] = txt\n",
        "      row_dict['OOTS'] = False\n",
        "      row_dict['f'] = 'yes'\n",
        "      for opinion in sent[1]:\n",
        "        op_dict = opinion.attrib\n",
        "        rows_list.append({**row_dict,**op_dict})\n",
        "    else:\n",
        "      rows_list.append({'rid':rid,'sid':sid,'txt':txt,'OOTS':True,'target':np.nan,'category':np.nan,'polarity':np.nan,'from':0,'to':0,'f':'no'})\n",
        "df = pd.DataFrame(rows_list)"
      ]
    },
    {
      "cell_type": "code",
      "source": [
        "from matplotlib import pyplot as plt\n",
        "fig, axes = plt.subplots(1,2,figsize=(10,7))\n",
        "df.groupby(\"rid\").count()['sid'].plot.hist(ax=axes[0])\n",
        "df.groupby(\"rid\").count().boxplot(column=['sid'],ax=axes[1])\n",
        "axes[0].set_title(\"Sentence count distribution per review\")\n",
        "axes[1].set_title(\"Boxplot Sentence count per review\")\n",
        "axes[0].set_xlabel('number of sentences')\n",
        "axes[0].set_ylabel('frequency')\n",
        "axes[1].set_ylabel('number of sentences')\n",
        "plt.savefig(\"sentences_distribution.png\")"
      ],
      "metadata": {
        "colab": {
          "base_uri": "https://localhost:8080/",
          "height": 458
        },
        "id": "bvSqb03-zPad",
        "outputId": "46ee78aa-5092-4fa5-abb7-0dc1a15b8837"
      },
      "execution_count": null,
      "outputs": [
        {
          "output_type": "display_data",
          "data": {
            "text/plain": [
              "<Figure size 720x504 with 2 Axes>"
            ],
            "image/png": "[encoded data removed]"
          },
          "metadata": {
            "needs_background": "light"
          }
        }
      ]
    },
    {
      "cell_type": "code",
      "source": [
        "from matplotlib import pyplot as plt\n",
        "fig, axes = plt.subplots(1,2,figsize=(10,5))\n",
        "df.groupby(\"sid\").count()['rid'].plot.hist(ax=axes[0])\n",
        "df.groupby(\"sid\").count().boxplot(column=['rid'],ax=axes[1])\n",
        "axes[0].set_title(\"Opinion count distribution per sentence\")\n",
        "axes[1].set_title(\"Boxplot opinion count per sentence\")\n",
        "axes[0].set_xlabel('number of opinions')\n",
        "axes[0].set_ylabel('frequency')\n",
        "axes[1].set_ylabel('number of opinions')\n",
        "plt.savefig(\"opinions_distribution.png\")"
      ],
      "metadata": {
        "colab": {
          "base_uri": "https://localhost:8080/",
          "height": 350
        },
        "id": "KZvukcEL_e63",
        "outputId": "2d0ad181-5199-4713-f21a-a741dc2fe3b4"
      },
      "execution_count": null,
      "outputs": [
        {
          "output_type": "display_data",
          "data": {
            "text/plain": [
              "<Figure size 720x360 with 2 Axes>"
            ],
            "image/png": "[encoded data removed]"
          },
          "metadata": {
            "needs_background": "light"
          }
        }
      ]
    },
    {
      "cell_type": "code",
      "source": [
        "tmp = df.groupby(\"sid\").aggregate(list).reset_index()\n",
        "tmp['sentences']=tmp['target'].apply(lambda x: 'no opinions' if np.nan in x else 'has opinions')\n",
        "fig, ax = plt.subplots(figsize=(7,7))\n",
        "tmp['sentences'].value_counts().plot.pie(ax=ax, autopct=\"%.1f%%\");\n",
        "plt.title(\"Percentage of the sentences with opinions and without opinions.\")\n",
        "plt.savefig(\"sentence_wo_opinions.png\")"
      ],
      "metadata": {
        "colab": {
          "base_uri": "https://localhost:8080/",
          "height": 427
        },
        "id": "HRG7xie0B70Z",
        "outputId": "ce375ce8-fcc9-4f5f-cf4a-70f910af48c7"
      },
      "execution_count": null,
      "outputs": [
        {
          "output_type": "display_data",
          "data": {
            "text/plain": [
              "<Figure size 504x504 with 1 Axes>"
            ],
            "image/png": "[encoded data removed]"
          },
          "metadata": {}
        }
      ]
    },
    {
      "cell_type": "code",
      "source": [
        "tmp = df[df['f']=='yes']\n",
        "tmp['a']=tmp['target'].apply(lambda x: 'no target' if 'NULL' in x else 'has target')\n",
        "fig, ax = plt.subplots(figsize=(7,7))\n",
        "tmp['a'].value_counts().plot.pie(ax=ax, autopct=\"%.1f%%\");\n",
        "plt.title(\"Percentage of opinions with target.\")\n",
        "plt.savefig(\"target_opinions.png\")\n",
        "print(tmp.shape[0])"
      ],
      "metadata": {
        "colab": {
          "base_uri": "https://localhost:8080/",
          "height": 548
        },
        "id": "lCb9q9LBEwcn",
        "outputId": "2bd3646c-f187-4782-8ea1-df73e449288d"
      },
      "execution_count": null,
      "outputs": [
        {
          "output_type": "stream",
          "name": "stderr",
          "text": [
            "/usr/local/lib/python3.7/dist-packages/ipykernel_launcher.py:2: SettingWithCopyWarning: \n",
            "A value is trying to be set on a copy of a slice from a DataFrame.\n",
            "Try using .loc[row_indexer,col_indexer] = value instead\n",
            "\n",
            "See the caveats in the documentation: https://pandas.pydata.org/pandas-docs/stable/user_guide/indexing.html#returning-a-view-versus-a-copy\n",
            "  \n"
          ]
        },
        {
          "output_type": "stream",
          "name": "stdout",
          "text": [
            "1654\n"
          ]
        },
        {
          "output_type": "display_data",
          "data": {
            "text/plain": [
              "<Figure size 504x504 with 1 Axes>"
            ],
            "image/png": "[encoded data removed]"
          },
          "metadata": {}
        }
      ]
    },
    {
      "cell_type": "markdown",
      "source": [
        "**Cartesian product of the categories+polarities**"
      ],
      "metadata": {
        "id": "1Ei4u3cvl7Wb"
      }
    },
    {
      "cell_type": "code",
      "execution_count": null,
      "metadata": {
        "id": "LjQcNWNfwyLp",
        "colab": {
          "base_uri": "https://localhost:8080/"
        },
        "outputId": "674c78f4-dd35-44ee-dbaf-9ed4e0c15de6"
      },
      "outputs": [
        {
          "output_type": "stream",
          "name": "stdout",
          "text": [
            "39\n"
          ]
        }
      ],
      "source": [
        "import itertools\n",
        "categories = set(df[df['category'].notna()]['category'].values)\n",
        "polarities = set(df[df['polarity'].notna()]['polarity'].values)\n",
        "cat_pol_couples = set(list(itertools.product(categories,polarities)))\n",
        "print(len(cat_pol_couples))"
      ]
    },
    {
      "cell_type": "code",
      "source": [
        "cat_pol_couples"
      ],
      "metadata": {
        "id": "TOSOHqCpqSG2",
        "colab": {
          "base_uri": "https://localhost:8080/"
        },
        "outputId": "af6203fa-8d97-4f44-f11a-6e96980a9ec5"
      },
      "execution_count": null,
      "outputs": [
        {
          "output_type": "execute_result",
          "data": {
            "text/plain": [
              "{('AMBIENCE#GENERAL', 'negative'),\n",
              " ('AMBIENCE#GENERAL', 'neutral'),\n",
              " ('AMBIENCE#GENERAL', 'positive'),\n",
              " ('DRINKS#PRICES', 'negative'),\n",
              " ('DRINKS#PRICES', 'neutral'),\n",
              " ('DRINKS#PRICES', 'positive'),\n",
              " ('DRINKS#QUALITY', 'negative'),\n",
              " ('DRINKS#QUALITY', 'neutral'),\n",
              " ('DRINKS#QUALITY', 'positive'),\n",
              " ('DRINKS#STYLE_OPTIONS', 'negative'),\n",
              " ('DRINKS#STYLE_OPTIONS', 'neutral'),\n",
              " ('DRINKS#STYLE_OPTIONS', 'positive'),\n",
              " ('FOOD#GENERAL', 'negative'),\n",
              " ('FOOD#GENERAL', 'neutral'),\n",
              " ('FOOD#GENERAL', 'positive'),\n",
              " ('FOOD#PRICES', 'negative'),\n",
              " ('FOOD#PRICES', 'neutral'),\n",
              " ('FOOD#PRICES', 'positive'),\n",
              " ('FOOD#QUALITY', 'negative'),\n",
              " ('FOOD#QUALITY', 'neutral'),\n",
              " ('FOOD#QUALITY', 'positive'),\n",
              " ('FOOD#STYLE_OPTIONS', 'negative'),\n",
              " ('FOOD#STYLE_OPTIONS', 'neutral'),\n",
              " ('FOOD#STYLE_OPTIONS', 'positive'),\n",
              " ('LOCATION#GENERAL', 'negative'),\n",
              " ('LOCATION#GENERAL', 'neutral'),\n",
              " ('LOCATION#GENERAL', 'positive'),\n",
              " ('RESTAURANT#GENERAL', 'negative'),\n",
              " ('RESTAURANT#GENERAL', 'neutral'),\n",
              " ('RESTAURANT#GENERAL', 'positive'),\n",
              " ('RESTAURANT#MISCELLANEOUS', 'negative'),\n",
              " ('RESTAURANT#MISCELLANEOUS', 'neutral'),\n",
              " ('RESTAURANT#MISCELLANEOUS', 'positive'),\n",
              " ('RESTAURANT#PRICES', 'negative'),\n",
              " ('RESTAURANT#PRICES', 'neutral'),\n",
              " ('RESTAURANT#PRICES', 'positive'),\n",
              " ('SERVICE#GENERAL', 'negative'),\n",
              " ('SERVICE#GENERAL', 'neutral'),\n",
              " ('SERVICE#GENERAL', 'positive')}"
            ]
          },
          "metadata": {},
          "execution_count": 14
        }
      ]
    },
    {
      "cell_type": "markdown",
      "source": [
        "**Dataset augmentation with all possible combination of category and polarities different from the one with the values.**"
      ],
      "metadata": {
        "id": "sYLHcJAXmM0K"
      }
    },
    {
      "cell_type": "code",
      "execution_count": null,
      "metadata": {
        "id": "Mi_-38uiF8Jw"
      },
      "outputs": [],
      "source": [
        "# Dataset augmentation with all possible combination of category and polarities different from the one with the values.\n",
        "grouped_by_sid = df.groupby('sid').agg(list).reset_index()\n",
        "new_rows = []\n",
        "for index, row in grouped_by_sid.iterrows():\n",
        "  cats = row['category']\n",
        "  pols = row['polarity']\n",
        "  current_list = set()\n",
        "  if len(cats)>0 and (np.nan not in cats):\n",
        "    for (i,c) in enumerate(cats):\n",
        "      current_list.add((cats[i],pols[i]))\n",
        "  for (newc,newpol) in cat_pol_couples.difference(current_list): # nuovi da aggiungere\n",
        "    new_row = {'rid':row['rid'][0],'sid':row['sid'],'txt':row['txt'][0],'OOTS':'False','target':np.nan,'category':newc,'polarity':newpol,'from':0,'to':0,'f':'no'}\n",
        "    new_rows.append(new_row)"
      ]
    },
    {
      "cell_type": "code",
      "execution_count": null,
      "metadata": {
        "id": "aIY9lF3qMhpT",
        "colab": {
          "base_uri": "https://localhost:8080/",
          "height": 424
        },
        "outputId": "1290fb8e-af70-4eff-b39d-9989f0190ac3"
      },
      "outputs": [
        {
          "output_type": "execute_result",
          "data": {
            "text/plain": [
              "           rid        sid                                                txt  \\\n",
              "0      1004293  1004293:0  Judging from previous posts this used to be a ...   \n",
              "1      1004293  1004293:1  We, there were four of us, arrived at noon - t...   \n",
              "2      1004293  1004293:2  They never brought us complimentary noodles, i...   \n",
              "3      1004293  1004293:3  The food was lousy - too sweet or too salty an...   \n",
              "4      1004293  1004293:3  The food was lousy - too sweet or too salty an...   \n",
              "...        ...        ...                                                ...   \n",
              "49775   958809   958809:4  We got a little tipsy from the sake but isn't ...   \n",
              "49776   958809   958809:4  We got a little tipsy from the sake but isn't ...   \n",
              "49777   958809   958809:4  We got a little tipsy from the sake but isn't ...   \n",
              "49778   958809   958809:4  We got a little tipsy from the sake but isn't ...   \n",
              "49779   958809   958809:4  We got a little tipsy from the sake but isn't ...   \n",
              "\n",
              "        OOTS    f    target                  category  polarity from  to  \n",
              "0      False  yes     place        RESTAURANT#GENERAL  negative   51  56  \n",
              "1      False  yes     staff           SERVICE#GENERAL  negative   75  80  \n",
              "2      False  yes      NULL           SERVICE#GENERAL  negative    0   0  \n",
              "3      False  yes      food              FOOD#QUALITY  negative    4   8  \n",
              "4      False  yes  portions        FOOD#STYLE_OPTIONS  negative   52  60  \n",
              "...      ...  ...       ...                       ...       ...  ...  ..  \n",
              "49775  False   no       NaN         RESTAURANT#PRICES   neutral    0   0  \n",
              "49776  False   no       NaN            DRINKS#QUALITY  negative    0   0  \n",
              "49777  False   no       NaN  RESTAURANT#MISCELLANEOUS  positive    0   0  \n",
              "49778  False   no       NaN           SERVICE#GENERAL  negative    0   0  \n",
              "49779  False   no       NaN  RESTAURANT#MISCELLANEOUS   neutral    0   0  \n",
              "\n",
              "[51629 rows x 10 columns]"
            ],
            "text/html": [
              "\n",
              "  <div id=\"df-25de264c-5bc9-4b1f-825c-c8108bb97b74\">\n",
              "    <div class=\"colab-df-container\">\n",
              "      <div>\n",
              "<style scoped>\n",
              "    .dataframe tbody tr th:only-of-type {\n",
              "        vertical-align: middle;\n",
              "    }\n",
              "\n",
              "    .dataframe tbody tr th {\n",
              "        vertical-align: top;\n",
              "    }\n",
              "\n",
              "    .dataframe thead th {\n",
              "        text-align: right;\n",
              "    }\n",
              "</style>\n",
              "<table border=\"1\" class=\"dataframe\">\n",
              "  <thead>\n",
              "    <tr style=\"text-align: right;\">\n",
              "      <th></th>\n",
              "      <th>rid</th>\n",
              "      <th>sid</th>\n",
              "      <th>txt</th>\n",
              "      <th>OOTS</th>\n",
              "      <th>f</th>\n",
              "      <th>target</th>\n",
              "      <th>category</th>\n",
              "      <th>polarity</th>\n",
              "      <th>from</th>\n",
              "      <th>to</th>\n",
              "    </tr>\n",
              "  </thead>\n",
              "  <tbody>\n",
              "    <tr>\n",
              "      <th>0</th>\n",
              "      <td>1004293</td>\n",
              "      <td>1004293:0</td>\n",
              "      <td>Judging from previous posts this used to be a ...</td>\n",
              "      <td>False</td>\n",
              "      <td>yes</td>\n",
              "      <td>place</td>\n",
              "      <td>RESTAURANT#GENERAL</td>\n",
              "      <td>negative</td>\n",
              "      <td>51</td>\n",
              "      <td>56</td>\n",
              "    </tr>\n",
              "    <tr>\n",
              "      <th>1</th>\n",
              "      <td>1004293</td>\n",
              "      <td>1004293:1</td>\n",
              "      <td>We, there were four of us, arrived at noon - t...</td>\n",
              "      <td>False</td>\n",
              "      <td>yes</td>\n",
              "      <td>staff</td>\n",
              "      <td>SERVICE#GENERAL</td>\n",
              "      <td>negative</td>\n",
              "      <td>75</td>\n",
              "      <td>80</td>\n",
              "    </tr>\n",
              "    <tr>\n",
              "      <th>2</th>\n",
              "      <td>1004293</td>\n",
              "      <td>1004293:2</td>\n",
              "      <td>They never brought us complimentary noodles, i...</td>\n",
              "      <td>False</td>\n",
              "      <td>yes</td>\n",
              "      <td>NULL</td>\n",
              "      <td>SERVICE#GENERAL</td>\n",
              "      <td>negative</td>\n",
              "      <td>0</td>\n",
              "      <td>0</td>\n",
              "    </tr>\n",
              "    <tr>\n",
              "      <th>3</th>\n",
              "      <td>1004293</td>\n",
              "      <td>1004293:3</td>\n",
              "      <td>The food was lousy - too sweet or too salty an...</td>\n",
              "      <td>False</td>\n",
              "      <td>yes</td>\n",
              "      <td>food</td>\n",
              "      <td>FOOD#QUALITY</td>\n",
              "      <td>negative</td>\n",
              "      <td>4</td>\n",
              "      <td>8</td>\n",
              "    </tr>\n",
              "    <tr>\n",
              "      <th>4</th>\n",
              "      <td>1004293</td>\n",
              "      <td>1004293:3</td>\n",
              "      <td>The food was lousy - too sweet or too salty an...</td>\n",
              "      <td>False</td>\n",
              "      <td>yes</td>\n",
              "      <td>portions</td>\n",
              "      <td>FOOD#STYLE_OPTIONS</td>\n",
              "      <td>negative</td>\n",
              "      <td>52</td>\n",
              "      <td>60</td>\n",
              "    </tr>\n",
              "    <tr>\n",
              "      <th>...</th>\n",
              "      <td>...</td>\n",
              "      <td>...</td>\n",
              "      <td>...</td>\n",
              "      <td>...</td>\n",
              "      <td>...</td>\n",
              "      <td>...</td>\n",
              "      <td>...</td>\n",
              "      <td>...</td>\n",
              "      <td>...</td>\n",
              "      <td>...</td>\n",
              "    </tr>\n",
              "    <tr>\n",
              "      <th>49775</th>\n",
              "      <td>958809</td>\n",
              "      <td>958809:4</td>\n",
              "      <td>We got a little tipsy from the sake but isn't ...</td>\n",
              "      <td>False</td>\n",
              "      <td>no</td>\n",
              "      <td>NaN</td>\n",
              "      <td>RESTAURANT#PRICES</td>\n",
              "      <td>neutral</td>\n",
              "      <td>0</td>\n",
              "      <td>0</td>\n",
              "    </tr>\n",
              "    <tr>\n",
              "      <th>49776</th>\n",
              "      <td>958809</td>\n",
              "      <td>958809:4</td>\n",
              "      <td>We got a little tipsy from the sake but isn't ...</td>\n",
              "      <td>False</td>\n",
              "      <td>no</td>\n",
              "      <td>NaN</td>\n",
              "      <td>DRINKS#QUALITY</td>\n",
              "      <td>negative</td>\n",
              "      <td>0</td>\n",
              "      <td>0</td>\n",
              "    </tr>\n",
              "    <tr>\n",
              "      <th>49777</th>\n",
              "      <td>958809</td>\n",
              "      <td>958809:4</td>\n",
              "      <td>We got a little tipsy from the sake but isn't ...</td>\n",
              "      <td>False</td>\n",
              "      <td>no</td>\n",
              "      <td>NaN</td>\n",
              "      <td>RESTAURANT#MISCELLANEOUS</td>\n",
              "      <td>positive</td>\n",
              "      <td>0</td>\n",
              "      <td>0</td>\n",
              "    </tr>\n",
              "    <tr>\n",
              "      <th>49778</th>\n",
              "      <td>958809</td>\n",
              "      <td>958809:4</td>\n",
              "      <td>We got a little tipsy from the sake but isn't ...</td>\n",
              "      <td>False</td>\n",
              "      <td>no</td>\n",
              "      <td>NaN</td>\n",
              "      <td>SERVICE#GENERAL</td>\n",
              "      <td>negative</td>\n",
              "      <td>0</td>\n",
              "      <td>0</td>\n",
              "    </tr>\n",
              "    <tr>\n",
              "      <th>49779</th>\n",
              "      <td>958809</td>\n",
              "      <td>958809:4</td>\n",
              "      <td>We got a little tipsy from the sake but isn't ...</td>\n",
              "      <td>False</td>\n",
              "      <td>no</td>\n",
              "      <td>NaN</td>\n",
              "      <td>RESTAURANT#MISCELLANEOUS</td>\n",
              "      <td>neutral</td>\n",
              "      <td>0</td>\n",
              "      <td>0</td>\n",
              "    </tr>\n",
              "  </tbody>\n",
              "</table>\n",
              "<p>51629 rows × 10 columns</p>\n",
              "</div>\n",
              "      <button class=\"colab-df-convert\" onclick=\"convertToInteractive('df-25de264c-5bc9-4b1f-825c-c8108bb97b74')\"\n",
              "              title=\"Convert this dataframe to an interactive table.\"\n",
              "              style=\"display:none;\">\n",
              "        \n",
              "  <svg xmlns=\"http://www.w3.org/2000/svg\" height=\"24px\"viewBox=\"0 0 24 24\"\n",
              "       width=\"24px\">\n",
              "    <path d=\"M0 0h24v24H0V0z\" fill=\"none\"/>\n",
              "    <path d=\"M18.56 5.44l.94 2.06.94-2.06 2.06-.94-2.06-.94-.94-2.06-.94 2.06-2.06.94zm-11 1L8.5 8.5l.94-2.06 2.06-.94-2.06-.94L8.5 2.5l-.94 2.06-2.06.94zm10 10l.94 2.06.94-2.06 2.06-.94-2.06-.94-.94-2.06-.94 2.06-2.06.94z\"/><path d=\"M17.41 7.96l-1.37-1.37c-.4-.4-.92-.59-1.43-.59-.52 0-1.04.2-1.43.59L10.3 9.45l-7.72 7.72c-.78.78-.78 2.05 0 2.83L4 21.41c.39.39.9.59 1.41.59.51 0 1.02-.2 1.41-.59l7.78-7.78 2.81-2.81c.8-.78.8-2.07 0-2.86zM5.41 20L4 18.59l7.72-7.72 1.47 1.35L5.41 20z\"/>\n",
              "  </svg>\n",
              "      </button>\n",
              "      \n",
              "  <style>\n",
              "    .colab-df-container {\n",
              "      display:flex;\n",
              "      flex-wrap:wrap;\n",
              "      gap: 12px;\n",
              "    }\n",
              "\n",
              "    .colab-df-convert {\n",
              "      background-color: #E8F0FE;\n",
              "      border: none;\n",
              "      border-radius: 50%;\n",
              "      cursor: pointer;\n",
              "      display: none;\n",
              "      fill: #1967D2;\n",
              "      height: 32px;\n",
              "      padding: 0 0 0 0;\n",
              "      width: 32px;\n",
              "    }\n",
              "\n",
              "    .colab-df-convert:hover {\n",
              "      background-color: #E2EBFA;\n",
              "      box-shadow: 0px 1px 2px rgba(60, 64, 67, 0.3), 0px 1px 3px 1px rgba(60, 64, 67, 0.15);\n",
              "      fill: #174EA6;\n",
              "    }\n",
              "\n",
              "    [theme=dark] .colab-df-convert {\n",
              "      background-color: #3B4455;\n",
              "      fill: #D2E3FC;\n",
              "    }\n",
              "\n",
              "    [theme=dark] .colab-df-convert:hover {\n",
              "      background-color: #434B5C;\n",
              "      box-shadow: 0px 1px 3px 1px rgba(0, 0, 0, 0.15);\n",
              "      filter: drop-shadow(0px 1px 2px rgba(0, 0, 0, 0.3));\n",
              "      fill: #FFFFFF;\n",
              "    }\n",
              "  </style>\n",
              "\n",
              "      <script>\n",
              "        const buttonEl =\n",
              "          document.querySelector('#df-25de264c-5bc9-4b1f-825c-c8108bb97b74 button.colab-df-convert');\n",
              "        buttonEl.style.display =\n",
              "          google.colab.kernel.accessAllowed ? 'block' : 'none';\n",
              "\n",
              "        async function convertToInteractive(key) {\n",
              "          const element = document.querySelector('#df-25de264c-5bc9-4b1f-825c-c8108bb97b74');\n",
              "          const dataTable =\n",
              "            await google.colab.kernel.invokeFunction('convertToInteractive',\n",
              "                                                     [key], {});\n",
              "          if (!dataTable) return;\n",
              "\n",
              "          const docLinkHtml = 'Like what you see? Visit the ' +\n",
              "            '<a target=\"_blank\" href=https://colab.research.google.com/notebooks/data_table.ipynb>data table notebook</a>'\n",
              "            + ' to learn more about interactive tables.';\n",
              "          element.innerHTML = '';\n",
              "          dataTable['output_type'] = 'display_data';\n",
              "          await google.colab.output.renderOutput(dataTable, element);\n",
              "          const docLink = document.createElement('div');\n",
              "          docLink.innerHTML = docLinkHtml;\n",
              "          element.appendChild(docLink);\n",
              "        }\n",
              "      </script>\n",
              "    </div>\n",
              "  </div>\n",
              "  "
            ]
          },
          "metadata": {},
          "execution_count": 8
        }
      ],
      "source": [
        "augmented_dataset_part = pd.DataFrame(new_rows)\n",
        "df = pd.concat([df,augmented_dataset_part])\n",
        "df"
      ]
    },
    {
      "cell_type": "code",
      "source": [
        "df = df[df['category'].notna()] #this is needed because we already have inserted all the category combinatios also for no opinions reviews.\n",
        "df"
      ],
      "metadata": {
        "id": "Jh68_g2FkMRn",
        "colab": {
          "base_uri": "https://localhost:8080/",
          "height": 424
        },
        "outputId": "2d023a74-280f-4052-8159-a9e0888d80eb"
      },
      "execution_count": null,
      "outputs": [
        {
          "output_type": "execute_result",
          "data": {
            "text/plain": [
              "           rid        sid                                                txt  \\\n",
              "0      1004293  1004293:0  Judging from previous posts this used to be a ...   \n",
              "1      1004293  1004293:1  We, there were four of us, arrived at noon - t...   \n",
              "2      1004293  1004293:2  They never brought us complimentary noodles, i...   \n",
              "3      1004293  1004293:3  The food was lousy - too sweet or too salty an...   \n",
              "4      1004293  1004293:3  The food was lousy - too sweet or too salty an...   \n",
              "...        ...        ...                                                ...   \n",
              "49775   958809   958809:4  We got a little tipsy from the sake but isn't ...   \n",
              "49776   958809   958809:4  We got a little tipsy from the sake but isn't ...   \n",
              "49777   958809   958809:4  We got a little tipsy from the sake but isn't ...   \n",
              "49778   958809   958809:4  We got a little tipsy from the sake but isn't ...   \n",
              "49779   958809   958809:4  We got a little tipsy from the sake but isn't ...   \n",
              "\n",
              "        OOTS    f    target                  category  polarity from  to  \n",
              "0      False  yes     place        RESTAURANT#GENERAL  negative   51  56  \n",
              "1      False  yes     staff           SERVICE#GENERAL  negative   75  80  \n",
              "2      False  yes      NULL           SERVICE#GENERAL  negative    0   0  \n",
              "3      False  yes      food              FOOD#QUALITY  negative    4   8  \n",
              "4      False  yes  portions        FOOD#STYLE_OPTIONS  negative   52  60  \n",
              "...      ...  ...       ...                       ...       ...  ...  ..  \n",
              "49775  False   no       NaN         RESTAURANT#PRICES   neutral    0   0  \n",
              "49776  False   no       NaN            DRINKS#QUALITY  negative    0   0  \n",
              "49777  False   no       NaN  RESTAURANT#MISCELLANEOUS  positive    0   0  \n",
              "49778  False   no       NaN           SERVICE#GENERAL  negative    0   0  \n",
              "49779  False   no       NaN  RESTAURANT#MISCELLANEOUS   neutral    0   0  \n",
              "\n",
              "[51434 rows x 10 columns]"
            ],
            "text/html": [
              "\n",
              "  <div id=\"df-f4959b1b-9e72-49f4-81a2-65a9cfd4f80b\">\n",
              "    <div class=\"colab-df-container\">\n",
              "      <div>\n",
              "<style scoped>\n",
              "    .dataframe tbody tr th:only-of-type {\n",
              "        vertical-align: middle;\n",
              "    }\n",
              "\n",
              "    .dataframe tbody tr th {\n",
              "        vertical-align: top;\n",
              "    }\n",
              "\n",
              "    .dataframe thead th {\n",
              "        text-align: right;\n",
              "    }\n",
              "</style>\n",
              "<table border=\"1\" class=\"dataframe\">\n",
              "  <thead>\n",
              "    <tr style=\"text-align: right;\">\n",
              "      <th></th>\n",
              "      <th>rid</th>\n",
              "      <th>sid</th>\n",
              "      <th>txt</th>\n",
              "      <th>OOTS</th>\n",
              "      <th>f</th>\n",
              "      <th>target</th>\n",
              "      <th>category</th>\n",
              "      <th>polarity</th>\n",
              "      <th>from</th>\n",
              "      <th>to</th>\n",
              "    </tr>\n",
              "  </thead>\n",
              "  <tbody>\n",
              "    <tr>\n",
              "      <th>0</th>\n",
              "      <td>1004293</td>\n",
              "      <td>1004293:0</td>\n",
              "      <td>Judging from previous posts this used to be a ...</td>\n",
              "      <td>False</td>\n",
              "      <td>yes</td>\n",
              "      <td>place</td>\n",
              "      <td>RESTAURANT#GENERAL</td>\n",
              "      <td>negative</td>\n",
              "      <td>51</td>\n",
              "      <td>56</td>\n",
              "    </tr>\n",
              "    <tr>\n",
              "      <th>1</th>\n",
              "      <td>1004293</td>\n",
              "      <td>1004293:1</td>\n",
              "      <td>We, there were four of us, arrived at noon - t...</td>\n",
              "      <td>False</td>\n",
              "      <td>yes</td>\n",
              "      <td>staff</td>\n",
              "      <td>SERVICE#GENERAL</td>\n",
              "      <td>negative</td>\n",
              "      <td>75</td>\n",
              "      <td>80</td>\n",
              "    </tr>\n",
              "    <tr>\n",
              "      <th>2</th>\n",
              "      <td>1004293</td>\n",
              "      <td>1004293:2</td>\n",
              "      <td>They never brought us complimentary noodles, i...</td>\n",
              "      <td>False</td>\n",
              "      <td>yes</td>\n",
              "      <td>NULL</td>\n",
              "      <td>SERVICE#GENERAL</td>\n",
              "      <td>negative</td>\n",
              "      <td>0</td>\n",
              "      <td>0</td>\n",
              "    </tr>\n",
              "    <tr>\n",
              "      <th>3</th>\n",
              "      <td>1004293</td>\n",
              "      <td>1004293:3</td>\n",
              "      <td>The food was lousy - too sweet or too salty an...</td>\n",
              "      <td>False</td>\n",
              "      <td>yes</td>\n",
              "      <td>food</td>\n",
              "      <td>FOOD#QUALITY</td>\n",
              "      <td>negative</td>\n",
              "      <td>4</td>\n",
              "      <td>8</td>\n",
              "    </tr>\n",
              "    <tr>\n",
              "      <th>4</th>\n",
              "      <td>1004293</td>\n",
              "      <td>1004293:3</td>\n",
              "      <td>The food was lousy - too sweet or too salty an...</td>\n",
              "      <td>False</td>\n",
              "      <td>yes</td>\n",
              "      <td>portions</td>\n",
              "      <td>FOOD#STYLE_OPTIONS</td>\n",
              "      <td>negative</td>\n",
              "      <td>52</td>\n",
              "      <td>60</td>\n",
              "    </tr>\n",
              "    <tr>\n",
              "      <th>...</th>\n",
              "      <td>...</td>\n",
              "      <td>...</td>\n",
              "      <td>...</td>\n",
              "      <td>...</td>\n",
              "      <td>...</td>\n",
              "      <td>...</td>\n",
              "      <td>...</td>\n",
              "      <td>...</td>\n",
              "      <td>...</td>\n",
              "      <td>...</td>\n",
              "    </tr>\n",
              "    <tr>\n",
              "      <th>49775</th>\n",
              "      <td>958809</td>\n",
              "      <td>958809:4</td>\n",
              "      <td>We got a little tipsy from the sake but isn't ...</td>\n",
              "      <td>False</td>\n",
              "      <td>no</td>\n",
              "      <td>NaN</td>\n",
              "      <td>RESTAURANT#PRICES</td>\n",
              "      <td>neutral</td>\n",
              "      <td>0</td>\n",
              "      <td>0</td>\n",
              "    </tr>\n",
              "    <tr>\n",
              "      <th>49776</th>\n",
              "      <td>958809</td>\n",
              "      <td>958809:4</td>\n",
              "      <td>We got a little tipsy from the sake but isn't ...</td>\n",
              "      <td>False</td>\n",
              "      <td>no</td>\n",
              "      <td>NaN</td>\n",
              "      <td>DRINKS#QUALITY</td>\n",
              "      <td>negative</td>\n",
              "      <td>0</td>\n",
              "      <td>0</td>\n",
              "    </tr>\n",
              "    <tr>\n",
              "      <th>49777</th>\n",
              "      <td>958809</td>\n",
              "      <td>958809:4</td>\n",
              "      <td>We got a little tipsy from the sake but isn't ...</td>\n",
              "      <td>False</td>\n",
              "      <td>no</td>\n",
              "      <td>NaN</td>\n",
              "      <td>RESTAURANT#MISCELLANEOUS</td>\n",
              "      <td>positive</td>\n",
              "      <td>0</td>\n",
              "      <td>0</td>\n",
              "    </tr>\n",
              "    <tr>\n",
              "      <th>49778</th>\n",
              "      <td>958809</td>\n",
              "      <td>958809:4</td>\n",
              "      <td>We got a little tipsy from the sake but isn't ...</td>\n",
              "      <td>False</td>\n",
              "      <td>no</td>\n",
              "      <td>NaN</td>\n",
              "      <td>SERVICE#GENERAL</td>\n",
              "      <td>negative</td>\n",
              "      <td>0</td>\n",
              "      <td>0</td>\n",
              "    </tr>\n",
              "    <tr>\n",
              "      <th>49779</th>\n",
              "      <td>958809</td>\n",
              "      <td>958809:4</td>\n",
              "      <td>We got a little tipsy from the sake but isn't ...</td>\n",
              "      <td>False</td>\n",
              "      <td>no</td>\n",
              "      <td>NaN</td>\n",
              "      <td>RESTAURANT#MISCELLANEOUS</td>\n",
              "      <td>neutral</td>\n",
              "      <td>0</td>\n",
              "      <td>0</td>\n",
              "    </tr>\n",
              "  </tbody>\n",
              "</table>\n",
              "<p>51434 rows × 10 columns</p>\n",
              "</div>\n",
              "      <button class=\"colab-df-convert\" onclick=\"convertToInteractive('df-f4959b1b-9e72-49f4-81a2-65a9cfd4f80b')\"\n",
              "              title=\"Convert this dataframe to an interactive table.\"\n",
              "              style=\"display:none;\">\n",
              "        \n",
              "  <svg xmlns=\"http://www.w3.org/2000/svg\" height=\"24px\"viewBox=\"0 0 24 24\"\n",
              "       width=\"24px\">\n",
              "    <path d=\"M0 0h24v24H0V0z\" fill=\"none\"/>\n",
              "    <path d=\"M18.56 5.44l.94 2.06.94-2.06 2.06-.94-2.06-.94-.94-2.06-.94 2.06-2.06.94zm-11 1L8.5 8.5l.94-2.06 2.06-.94-2.06-.94L8.5 2.5l-.94 2.06-2.06.94zm10 10l.94 2.06.94-2.06 2.06-.94-2.06-.94-.94-2.06-.94 2.06-2.06.94z\"/><path d=\"M17.41 7.96l-1.37-1.37c-.4-.4-.92-.59-1.43-.59-.52 0-1.04.2-1.43.59L10.3 9.45l-7.72 7.72c-.78.78-.78 2.05 0 2.83L4 21.41c.39.39.9.59 1.41.59.51 0 1.02-.2 1.41-.59l7.78-7.78 2.81-2.81c.8-.78.8-2.07 0-2.86zM5.41 20L4 18.59l7.72-7.72 1.47 1.35L5.41 20z\"/>\n",
              "  </svg>\n",
              "      </button>\n",
              "      \n",
              "  <style>\n",
              "    .colab-df-container {\n",
              "      display:flex;\n",
              "      flex-wrap:wrap;\n",
              "      gap: 12px;\n",
              "    }\n",
              "\n",
              "    .colab-df-convert {\n",
              "      background-color: #E8F0FE;\n",
              "      border: none;\n",
              "      border-radius: 50%;\n",
              "      cursor: pointer;\n",
              "      display: none;\n",
              "      fill: #1967D2;\n",
              "      height: 32px;\n",
              "      padding: 0 0 0 0;\n",
              "      width: 32px;\n",
              "    }\n",
              "\n",
              "    .colab-df-convert:hover {\n",
              "      background-color: #E2EBFA;\n",
              "      box-shadow: 0px 1px 2px rgba(60, 64, 67, 0.3), 0px 1px 3px 1px rgba(60, 64, 67, 0.15);\n",
              "      fill: #174EA6;\n",
              "    }\n",
              "\n",
              "    [theme=dark] .colab-df-convert {\n",
              "      background-color: #3B4455;\n",
              "      fill: #D2E3FC;\n",
              "    }\n",
              "\n",
              "    [theme=dark] .colab-df-convert:hover {\n",
              "      background-color: #434B5C;\n",
              "      box-shadow: 0px 1px 3px 1px rgba(0, 0, 0, 0.15);\n",
              "      filter: drop-shadow(0px 1px 2px rgba(0, 0, 0, 0.3));\n",
              "      fill: #FFFFFF;\n",
              "    }\n",
              "  </style>\n",
              "\n",
              "      <script>\n",
              "        const buttonEl =\n",
              "          document.querySelector('#df-f4959b1b-9e72-49f4-81a2-65a9cfd4f80b button.colab-df-convert');\n",
              "        buttonEl.style.display =\n",
              "          google.colab.kernel.accessAllowed ? 'block' : 'none';\n",
              "\n",
              "        async function convertToInteractive(key) {\n",
              "          const element = document.querySelector('#df-f4959b1b-9e72-49f4-81a2-65a9cfd4f80b');\n",
              "          const dataTable =\n",
              "            await google.colab.kernel.invokeFunction('convertToInteractive',\n",
              "                                                     [key], {});\n",
              "          if (!dataTable) return;\n",
              "\n",
              "          const docLinkHtml = 'Like what you see? Visit the ' +\n",
              "            '<a target=\"_blank\" href=https://colab.research.google.com/notebooks/data_table.ipynb>data table notebook</a>'\n",
              "            + ' to learn more about interactive tables.';\n",
              "          element.innerHTML = '';\n",
              "          dataTable['output_type'] = 'display_data';\n",
              "          await google.colab.output.renderOutput(dataTable, element);\n",
              "          const docLink = document.createElement('div');\n",
              "          docLink.innerHTML = docLinkHtml;\n",
              "          element.appendChild(docLink);\n",
              "        }\n",
              "      </script>\n",
              "    </div>\n",
              "  </div>\n",
              "  "
            ]
          },
          "metadata": {},
          "execution_count": 9
        }
      ]
    },
    {
      "cell_type": "markdown",
      "source": [
        "**Distribution of opinions over sentences**"
      ],
      "metadata": {
        "id": "rBRg5D0VmdPd"
      }
    },
    {
      "cell_type": "code",
      "source": [
        "df['f'].value_counts()"
      ],
      "metadata": {
        "colab": {
          "base_uri": "https://localhost:8080/"
        },
        "id": "0IXa_vD3EvLT",
        "outputId": "fe948ea2-1352-40f9-afba-bc3d0701fd5b"
      },
      "execution_count": null,
      "outputs": [
        {
          "output_type": "execute_result",
          "data": {
            "text/plain": [
              "no     49780\n",
              "yes     1654\n",
              "Name: f, dtype: int64"
            ]
          },
          "metadata": {},
          "execution_count": 10
        }
      ]
    },
    {
      "cell_type": "code",
      "source": [
        "df.groupby('sid').agg(len).reset_index()['category'].value_counts()"
      ],
      "metadata": {
        "colab": {
          "base_uri": "https://localhost:8080/"
        },
        "id": "l8B_lHnPFSaI",
        "outputId": "441ea91b-9a11-4204-82b8-a1b5c1fbb4d0"
      },
      "execution_count": null,
      "outputs": [
        {
          "output_type": "execute_result",
          "data": {
            "text/plain": [
              "39    1205\n",
              "40      84\n",
              "41      18\n",
              "42       5\n",
              "43       2\n",
              "45       1\n",
              "Name: category, dtype: int64"
            ]
          },
          "metadata": {},
          "execution_count": 11
        }
      ]
    },
    {
      "cell_type": "markdown",
      "source": [
        "**Special character identification**"
      ],
      "metadata": {
        "id": "Lo74Hrgsmxy8"
      }
    },
    {
      "cell_type": "code",
      "execution_count": null,
      "metadata": {
        "colab": {
          "base_uri": "https://localhost:8080/"
        },
        "id": "sSYLYJaRl727",
        "outputId": "0ae9b086-df55-44b5-ce2b-a8d455e438a5"
      },
      "outputs": [
        {
          "output_type": "stream",
          "name": "stdout",
          "text": [
            "['this', 'is', 'a', 'different', '##ia', '##tor', '.', ',', '?', '!', ':']\n",
            "{'input_ids': [101, 2023, 2003, 1037, 2367, 2401, 4263, 1012, 1010, 1029, 999, 1024, 102], 'token_type_ids': [0, 0, 0, 0, 0, 0, 0, 0, 0, 0, 0, 0, 0], 'attention_mask': [1, 1, 1, 1, 1, 1, 1, 1, 1, 1, 1, 1, 1]}\n"
          ]
        }
      ],
      "source": [
        "#special_caracters = [1012, 1010, 1029, 999, 1024] #in order .,?!:\n",
        "special_caracters = ['.',',','?','!'] #in order .,?!:\n",
        "intersection = lambda x: list(set.intersection(set(x),set(special_caracters)))\n",
        "word = \"this is a differentiator.,?!:\"\n",
        "print(slow_tokenizer.tokenize(word))\n",
        "print(slow_tokenizer(word))"
      ]
    },
    {
      "cell_type": "code",
      "source": [
        "t=\"ao,\"\n",
        "len(t.replace(\"#\",\"\"))"
      ],
      "metadata": {
        "colab": {
          "base_uri": "https://localhost:8080/"
        },
        "id": "be1uEhxPzXCe",
        "outputId": "1896d674-602b-4dea-c559-94cab679b9c3"
      },
      "execution_count": null,
      "outputs": [
        {
          "output_type": "execute_result",
          "data": {
            "text/plain": [
              "3"
            ]
          },
          "metadata": {},
          "execution_count": 13
        }
      ]
    },
    {
      "cell_type": "markdown",
      "source": [
        "**New algorithm for BIO tagging**"
      ],
      "metadata": {
        "id": "4Pxf4JhzCDNE"
      }
    },
    {
      "cell_type": "code",
      "source": [
        "import re\n",
        "cleanString = lambda x: re.sub('\\W+','',x)\n",
        "list_of_tagging_list = []\n",
        "\n",
        "for index, row in df.iterrows():\n",
        "  tagging_list = []\n",
        "  if row['f'] == 'yes':\n",
        "    txt = row['txt'].split(' ')        # We split the sentence in words with ' ' spaces.\n",
        "    targets = row['target'].split(' ') # Target:'food pasta pizza'.\n",
        "    from_ = int(row['from'])\n",
        "    to = int(row['to']) \n",
        "    position = 0\n",
        "    old_tag = 'O'\n",
        "    for w in txt:\n",
        "      tokens = slow_tokenizer.tokenize(w) # We get the token for each word for istance: differentiator, -> ['different', '##ia', '##tor',',']\n",
        "      for t in tokens: #for each token\n",
        "        position+=len(t.replace(\"#\",\"\"))\n",
        "        if position-len(t.replace(\"#\",\"\"))>=from_ and position<=to:\n",
        "          if old_tag == 'O':\n",
        "            tagging_list.extend(['B'])\n",
        "          elif old_tag == 'B':\n",
        "            tagging_list.extend(['I'])\n",
        "          else:\n",
        "            tagging_list.extend(['I'])\n",
        "        else:\n",
        "          tagging_list.extend(['O'])\n",
        "      position+=1 #space\n",
        "      old_tag = tagging_list[-1]\n",
        "    token_all_phrase = slow_tokenizer.tokenize(row['txt'])\n",
        "    # print(\"txt: {} targets:{} tokens:{} tagging: {} correct: {}\".format(txt,targets,token_all_phrase,tagging_list,len(token_all_phrase)==len(tagging_list))) \n",
        "  else:\n",
        "    len_tokens = len(slow_tokenizer.tokenize(row['txt'])) # tags all O\n",
        "    tagging_list.extend(['O']*len_tokens)\n",
        "      \n",
        "  list_of_tagging_list.append(tagging_list)\n",
        "df['tagging'] = list_of_tagging_list"
      ],
      "metadata": {
        "id": "yFfGlg594WY3",
        "colab": {
          "base_uri": "https://localhost:8080/"
        },
        "outputId": "046134d1-7b4a-418b-d57e-7c2826c2c4f7"
      },
      "execution_count": null,
      "outputs": [
        {
          "output_type": "stream",
          "name": "stderr",
          "text": [
            "/usr/local/lib/python3.7/dist-packages/ipykernel_launcher.py:36: SettingWithCopyWarning: \n",
            "A value is trying to be set on a copy of a slice from a DataFrame.\n",
            "Try using .loc[row_indexer,col_indexer] = value instead\n",
            "\n",
            "See the caveats in the documentation: https://pandas.pydata.org/pandas-docs/stable/user_guide/indexing.html#returning-a-view-versus-a-copy\n"
          ]
        }
      ]
    },
    {
      "cell_type": "code",
      "source": [
        "# Check if there are some opinions with Target but without any 'B' in the tagging.\n",
        "tmp = df[df['target'].notna()]\n",
        "tmp = tmp[tmp['target']!=\"NULL\"]\n",
        "sum=0\n",
        "for i,row in tmp.iterrows():\n",
        "  if 'B' in row['tagging']:\n",
        "    sum+=1\n",
        "  else:\n",
        "    print(\"txt:{} tagging:{}\".format(row[\"txt\"],row['tagging']))\n",
        "print(sum)"
      ],
      "metadata": {
        "colab": {
          "base_uri": "https://localhost:8080/"
        },
        "id": "N0QU1yntzMw6",
        "outputId": "0175d266-11a8-4c50-c8f5-6453aa2a0ece"
      },
      "execution_count": null,
      "outputs": [
        {
          "output_type": "stream",
          "name": "stdout",
          "text": [
            "1279\n"
          ]
        }
      ]
    },
    {
      "cell_type": "markdown",
      "source": [
        "**New column with category+polarity for the input.**"
      ],
      "metadata": {
        "id": "NvRhr6UqnKfl"
      }
    },
    {
      "cell_type": "code",
      "source": [
        "#add the category column with the polarity.\n",
        "list_aspects=[]\n",
        "for i,row in df.iterrows():\n",
        "  categ=None\n",
        "  categ = (row[\"category\"].lower()).split('#')\n",
        "  new_text = categ[0]+\" \"+categ[1]+\" \"+row['polarity']\n",
        "  list_aspects.append(new_text)\n",
        "df['categ_txt'] = list_aspects\n",
        "df\n"
      ],
      "metadata": {
        "id": "V6MTEn9k5Nd9",
        "colab": {
          "base_uri": "https://localhost:8080/",
          "height": 750
        },
        "outputId": "5978d634-77f7-440b-b6b1-fc77124f789c"
      },
      "execution_count": null,
      "outputs": [
        {
          "output_type": "stream",
          "name": "stderr",
          "text": [
            "/usr/local/lib/python3.7/dist-packages/ipykernel_launcher.py:8: SettingWithCopyWarning: \n",
            "A value is trying to be set on a copy of a slice from a DataFrame.\n",
            "Try using .loc[row_indexer,col_indexer] = value instead\n",
            "\n",
            "See the caveats in the documentation: https://pandas.pydata.org/pandas-docs/stable/user_guide/indexing.html#returning-a-view-versus-a-copy\n",
            "  \n"
          ]
        },
        {
          "output_type": "execute_result",
          "data": {
            "text/plain": [
              "           rid        sid                                                txt  \\\n",
              "0      1004293  1004293:0  Judging from previous posts this used to be a ...   \n",
              "1      1004293  1004293:1  We, there were four of us, arrived at noon - t...   \n",
              "2      1004293  1004293:2  They never brought us complimentary noodles, i...   \n",
              "3      1004293  1004293:3  The food was lousy - too sweet or too salty an...   \n",
              "4      1004293  1004293:3  The food was lousy - too sweet or too salty an...   \n",
              "...        ...        ...                                                ...   \n",
              "49775   958809   958809:4  We got a little tipsy from the sake but isn't ...   \n",
              "49776   958809   958809:4  We got a little tipsy from the sake but isn't ...   \n",
              "49777   958809   958809:4  We got a little tipsy from the sake but isn't ...   \n",
              "49778   958809   958809:4  We got a little tipsy from the sake but isn't ...   \n",
              "49779   958809   958809:4  We got a little tipsy from the sake but isn't ...   \n",
              "\n",
              "        OOTS    f    target              category  polarity from  to  \\\n",
              "0      False  yes     place    RESTAURANT#GENERAL  negative   51  56   \n",
              "1      False  yes     staff       SERVICE#GENERAL  negative   75  80   \n",
              "2      False  yes      NULL       SERVICE#GENERAL  negative    0   0   \n",
              "3      False  yes      food          FOOD#QUALITY  negative    4   8   \n",
              "4      False  yes  portions    FOOD#STYLE_OPTIONS  negative   52  60   \n",
              "...      ...  ...       ...                   ...       ...  ...  ..   \n",
              "49775  False   no       NaN  DRINKS#STYLE_OPTIONS  negative    0   0   \n",
              "49776  False   no       NaN       SERVICE#GENERAL   neutral    0   0   \n",
              "49777  False   no       NaN    RESTAURANT#GENERAL  positive    0   0   \n",
              "49778  False   no       NaN    RESTAURANT#GENERAL  negative    0   0   \n",
              "49779  False   no       NaN    FOOD#STYLE_OPTIONS  positive    0   0   \n",
              "\n",
              "                                                 tagging  \\\n",
              "0      [O, O, O, O, O, O, O, O, O, O, B, O, O, O, O, ...   \n",
              "1      [O, O, O, O, O, O, O, O, O, O, O, O, O, O, O, ...   \n",
              "2      [O, O, O, O, O, O, O, O, O, O, O, O, O, O, O, ...   \n",
              "3       [O, B, O, O, O, O, O, O, O, O, O, O, O, O, O, O]   \n",
              "4       [O, O, O, O, O, O, O, O, O, O, O, O, O, B, O, O]   \n",
              "...                                                  ...   \n",
              "49775  [O, O, O, O, O, O, O, O, O, O, O, O, O, O, O, ...   \n",
              "49776  [O, O, O, O, O, O, O, O, O, O, O, O, O, O, O, ...   \n",
              "49777  [O, O, O, O, O, O, O, O, O, O, O, O, O, O, O, ...   \n",
              "49778  [O, O, O, O, O, O, O, O, O, O, O, O, O, O, O, ...   \n",
              "49779  [O, O, O, O, O, O, O, O, O, O, O, O, O, O, O, ...   \n",
              "\n",
              "                           categ_txt  \n",
              "0        restaurant general negative  \n",
              "1           service general negative  \n",
              "2           service general negative  \n",
              "3              food quality negative  \n",
              "4        food style_options negative  \n",
              "...                              ...  \n",
              "49775  drinks style_options negative  \n",
              "49776        service general neutral  \n",
              "49777    restaurant general positive  \n",
              "49778    restaurant general negative  \n",
              "49779    food style_options positive  \n",
              "\n",
              "[51434 rows x 12 columns]"
            ],
            "text/html": [
              "\n",
              "  <div id=\"df-df23b423-efe7-42db-a746-8692143db9e8\">\n",
              "    <div class=\"colab-df-container\">\n",
              "      <div>\n",
              "<style scoped>\n",
              "    .dataframe tbody tr th:only-of-type {\n",
              "        vertical-align: middle;\n",
              "    }\n",
              "\n",
              "    .dataframe tbody tr th {\n",
              "        vertical-align: top;\n",
              "    }\n",
              "\n",
              "    .dataframe thead th {\n",
              "        text-align: right;\n",
              "    }\n",
              "</style>\n",
              "<table border=\"1\" class=\"dataframe\">\n",
              "  <thead>\n",
              "    <tr style=\"text-align: right;\">\n",
              "      <th></th>\n",
              "      <th>rid</th>\n",
              "      <th>sid</th>\n",
              "      <th>txt</th>\n",
              "      <th>OOTS</th>\n",
              "      <th>f</th>\n",
              "      <th>target</th>\n",
              "      <th>category</th>\n",
              "      <th>polarity</th>\n",
              "      <th>from</th>\n",
              "      <th>to</th>\n",
              "      <th>tagging</th>\n",
              "      <th>categ_txt</th>\n",
              "    </tr>\n",
              "  </thead>\n",
              "  <tbody>\n",
              "    <tr>\n",
              "      <th>0</th>\n",
              "      <td>1004293</td>\n",
              "      <td>1004293:0</td>\n",
              "      <td>Judging from previous posts this used to be a ...</td>\n",
              "      <td>False</td>\n",
              "      <td>yes</td>\n",
              "      <td>place</td>\n",
              "      <td>RESTAURANT#GENERAL</td>\n",
              "      <td>negative</td>\n",
              "      <td>51</td>\n",
              "      <td>56</td>\n",
              "      <td>[O, O, O, O, O, O, O, O, O, O, B, O, O, O, O, ...</td>\n",
              "      <td>restaurant general negative</td>\n",
              "    </tr>\n",
              "    <tr>\n",
              "      <th>1</th>\n",
              "      <td>1004293</td>\n",
              "      <td>1004293:1</td>\n",
              "      <td>We, there were four of us, arrived at noon - t...</td>\n",
              "      <td>False</td>\n",
              "      <td>yes</td>\n",
              "      <td>staff</td>\n",
              "      <td>SERVICE#GENERAL</td>\n",
              "      <td>negative</td>\n",
              "      <td>75</td>\n",
              "      <td>80</td>\n",
              "      <td>[O, O, O, O, O, O, O, O, O, O, O, O, O, O, O, ...</td>\n",
              "      <td>service general negative</td>\n",
              "    </tr>\n",
              "    <tr>\n",
              "      <th>2</th>\n",
              "      <td>1004293</td>\n",
              "      <td>1004293:2</td>\n",
              "      <td>They never brought us complimentary noodles, i...</td>\n",
              "      <td>False</td>\n",
              "      <td>yes</td>\n",
              "      <td>NULL</td>\n",
              "      <td>SERVICE#GENERAL</td>\n",
              "      <td>negative</td>\n",
              "      <td>0</td>\n",
              "      <td>0</td>\n",
              "      <td>[O, O, O, O, O, O, O, O, O, O, O, O, O, O, O, ...</td>\n",
              "      <td>service general negative</td>\n",
              "    </tr>\n",
              "    <tr>\n",
              "      <th>3</th>\n",
              "      <td>1004293</td>\n",
              "      <td>1004293:3</td>\n",
              "      <td>The food was lousy - too sweet or too salty an...</td>\n",
              "      <td>False</td>\n",
              "      <td>yes</td>\n",
              "      <td>food</td>\n",
              "      <td>FOOD#QUALITY</td>\n",
              "      <td>negative</td>\n",
              "      <td>4</td>\n",
              "      <td>8</td>\n",
              "      <td>[O, B, O, O, O, O, O, O, O, O, O, O, O, O, O, O]</td>\n",
              "      <td>food quality negative</td>\n",
              "    </tr>\n",
              "    <tr>\n",
              "      <th>4</th>\n",
              "      <td>1004293</td>\n",
              "      <td>1004293:3</td>\n",
              "      <td>The food was lousy - too sweet or too salty an...</td>\n",
              "      <td>False</td>\n",
              "      <td>yes</td>\n",
              "      <td>portions</td>\n",
              "      <td>FOOD#STYLE_OPTIONS</td>\n",
              "      <td>negative</td>\n",
              "      <td>52</td>\n",
              "      <td>60</td>\n",
              "      <td>[O, O, O, O, O, O, O, O, O, O, O, O, O, B, O, O]</td>\n",
              "      <td>food style_options negative</td>\n",
              "    </tr>\n",
              "    <tr>\n",
              "      <th>...</th>\n",
              "      <td>...</td>\n",
              "      <td>...</td>\n",
              "      <td>...</td>\n",
              "      <td>...</td>\n",
              "      <td>...</td>\n",
              "      <td>...</td>\n",
              "      <td>...</td>\n",
              "      <td>...</td>\n",
              "      <td>...</td>\n",
              "      <td>...</td>\n",
              "      <td>...</td>\n",
              "      <td>...</td>\n",
              "    </tr>\n",
              "    <tr>\n",
              "      <th>49775</th>\n",
              "      <td>958809</td>\n",
              "      <td>958809:4</td>\n",
              "      <td>We got a little tipsy from the sake but isn't ...</td>\n",
              "      <td>False</td>\n",
              "      <td>no</td>\n",
              "      <td>NaN</td>\n",
              "      <td>DRINKS#STYLE_OPTIONS</td>\n",
              "      <td>negative</td>\n",
              "      <td>0</td>\n",
              "      <td>0</td>\n",
              "      <td>[O, O, O, O, O, O, O, O, O, O, O, O, O, O, O, ...</td>\n",
              "      <td>drinks style_options negative</td>\n",
              "    </tr>\n",
              "    <tr>\n",
              "      <th>49776</th>\n",
              "      <td>958809</td>\n",
              "      <td>958809:4</td>\n",
              "      <td>We got a little tipsy from the sake but isn't ...</td>\n",
              "      <td>False</td>\n",
              "      <td>no</td>\n",
              "      <td>NaN</td>\n",
              "      <td>SERVICE#GENERAL</td>\n",
              "      <td>neutral</td>\n",
              "      <td>0</td>\n",
              "      <td>0</td>\n",
              "      <td>[O, O, O, O, O, O, O, O, O, O, O, O, O, O, O, ...</td>\n",
              "      <td>service general neutral</td>\n",
              "    </tr>\n",
              "    <tr>\n",
              "      <th>49777</th>\n",
              "      <td>958809</td>\n",
              "      <td>958809:4</td>\n",
              "      <td>We got a little tipsy from the sake but isn't ...</td>\n",
              "      <td>False</td>\n",
              "      <td>no</td>\n",
              "      <td>NaN</td>\n",
              "      <td>RESTAURANT#GENERAL</td>\n",
              "      <td>positive</td>\n",
              "      <td>0</td>\n",
              "      <td>0</td>\n",
              "      <td>[O, O, O, O, O, O, O, O, O, O, O, O, O, O, O, ...</td>\n",
              "      <td>restaurant general positive</td>\n",
              "    </tr>\n",
              "    <tr>\n",
              "      <th>49778</th>\n",
              "      <td>958809</td>\n",
              "      <td>958809:4</td>\n",
              "      <td>We got a little tipsy from the sake but isn't ...</td>\n",
              "      <td>False</td>\n",
              "      <td>no</td>\n",
              "      <td>NaN</td>\n",
              "      <td>RESTAURANT#GENERAL</td>\n",
              "      <td>negative</td>\n",
              "      <td>0</td>\n",
              "      <td>0</td>\n",
              "      <td>[O, O, O, O, O, O, O, O, O, O, O, O, O, O, O, ...</td>\n",
              "      <td>restaurant general negative</td>\n",
              "    </tr>\n",
              "    <tr>\n",
              "      <th>49779</th>\n",
              "      <td>958809</td>\n",
              "      <td>958809:4</td>\n",
              "      <td>We got a little tipsy from the sake but isn't ...</td>\n",
              "      <td>False</td>\n",
              "      <td>no</td>\n",
              "      <td>NaN</td>\n",
              "      <td>FOOD#STYLE_OPTIONS</td>\n",
              "      <td>positive</td>\n",
              "      <td>0</td>\n",
              "      <td>0</td>\n",
              "      <td>[O, O, O, O, O, O, O, O, O, O, O, O, O, O, O, ...</td>\n",
              "      <td>food style_options positive</td>\n",
              "    </tr>\n",
              "  </tbody>\n",
              "</table>\n",
              "<p>51434 rows × 12 columns</p>\n",
              "</div>\n",
              "      <button class=\"colab-df-convert\" onclick=\"convertToInteractive('df-df23b423-efe7-42db-a746-8692143db9e8')\"\n",
              "              title=\"Convert this dataframe to an interactive table.\"\n",
              "              style=\"display:none;\">\n",
              "        \n",
              "  <svg xmlns=\"http://www.w3.org/2000/svg\" height=\"24px\"viewBox=\"0 0 24 24\"\n",
              "       width=\"24px\">\n",
              "    <path d=\"M0 0h24v24H0V0z\" fill=\"none\"/>\n",
              "    <path d=\"M18.56 5.44l.94 2.06.94-2.06 2.06-.94-2.06-.94-.94-2.06-.94 2.06-2.06.94zm-11 1L8.5 8.5l.94-2.06 2.06-.94-2.06-.94L8.5 2.5l-.94 2.06-2.06.94zm10 10l.94 2.06.94-2.06 2.06-.94-2.06-.94-.94-2.06-.94 2.06-2.06.94z\"/><path d=\"M17.41 7.96l-1.37-1.37c-.4-.4-.92-.59-1.43-.59-.52 0-1.04.2-1.43.59L10.3 9.45l-7.72 7.72c-.78.78-.78 2.05 0 2.83L4 21.41c.39.39.9.59 1.41.59.51 0 1.02-.2 1.41-.59l7.78-7.78 2.81-2.81c.8-.78.8-2.07 0-2.86zM5.41 20L4 18.59l7.72-7.72 1.47 1.35L5.41 20z\"/>\n",
              "  </svg>\n",
              "      </button>\n",
              "      \n",
              "  <style>\n",
              "    .colab-df-container {\n",
              "      display:flex;\n",
              "      flex-wrap:wrap;\n",
              "      gap: 12px;\n",
              "    }\n",
              "\n",
              "    .colab-df-convert {\n",
              "      background-color: #E8F0FE;\n",
              "      border: none;\n",
              "      border-radius: 50%;\n",
              "      cursor: pointer;\n",
              "      display: none;\n",
              "      fill: #1967D2;\n",
              "      height: 32px;\n",
              "      padding: 0 0 0 0;\n",
              "      width: 32px;\n",
              "    }\n",
              "\n",
              "    .colab-df-convert:hover {\n",
              "      background-color: #E2EBFA;\n",
              "      box-shadow: 0px 1px 2px rgba(60, 64, 67, 0.3), 0px 1px 3px 1px rgba(60, 64, 67, 0.15);\n",
              "      fill: #174EA6;\n",
              "    }\n",
              "\n",
              "    [theme=dark] .colab-df-convert {\n",
              "      background-color: #3B4455;\n",
              "      fill: #D2E3FC;\n",
              "    }\n",
              "\n",
              "    [theme=dark] .colab-df-convert:hover {\n",
              "      background-color: #434B5C;\n",
              "      box-shadow: 0px 1px 3px 1px rgba(0, 0, 0, 0.15);\n",
              "      filter: drop-shadow(0px 1px 2px rgba(0, 0, 0, 0.3));\n",
              "      fill: #FFFFFF;\n",
              "    }\n",
              "  </style>\n",
              "\n",
              "      <script>\n",
              "        const buttonEl =\n",
              "          document.querySelector('#df-df23b423-efe7-42db-a746-8692143db9e8 button.colab-df-convert');\n",
              "        buttonEl.style.display =\n",
              "          google.colab.kernel.accessAllowed ? 'block' : 'none';\n",
              "\n",
              "        async function convertToInteractive(key) {\n",
              "          const element = document.querySelector('#df-df23b423-efe7-42db-a746-8692143db9e8');\n",
              "          const dataTable =\n",
              "            await google.colab.kernel.invokeFunction('convertToInteractive',\n",
              "                                                     [key], {});\n",
              "          if (!dataTable) return;\n",
              "\n",
              "          const docLinkHtml = 'Like what you see? Visit the ' +\n",
              "            '<a target=\"_blank\" href=https://colab.research.google.com/notebooks/data_table.ipynb>data table notebook</a>'\n",
              "            + ' to learn more about interactive tables.';\n",
              "          element.innerHTML = '';\n",
              "          dataTable['output_type'] = 'display_data';\n",
              "          await google.colab.output.renderOutput(dataTable, element);\n",
              "          const docLink = document.createElement('div');\n",
              "          docLink.innerHTML = docLinkHtml;\n",
              "          element.appendChild(docLink);\n",
              "        }\n",
              "      </script>\n",
              "    </div>\n",
              "  </div>\n",
              "  "
            ]
          },
          "metadata": {},
          "execution_count": 24
        }
      ]
    },
    {
      "cell_type": "code",
      "source": [
        "def merge_tagging(tags_list): # For each (text, category) the targets do not overlapp\n",
        "  result = []\n",
        "  if len(tags_list)==1:\n",
        "    return tags_list[0]\n",
        "  for i in range(len(tags_list[0])):\n",
        "    for t in tags_list:\n",
        "      val=\"O\"\n",
        "      if t[i] == \"B\" or t[i] == \"I\":\n",
        "        val = t[i]\n",
        "        break\n",
        "      else:\n",
        "        val = \"O\"\n",
        "    result.append(val)\n",
        "  return result"
      ],
      "metadata": {
        "id": "HBMldimgHcuE"
      },
      "execution_count": null,
      "outputs": []
    },
    {
      "cell_type": "code",
      "source": [
        "tagging_frame = df.groupby([\"txt\", \"categ_txt\"]).agg(list).reset_index()[['txt','categ_txt','f','tagging']]\n",
        "tagging_frame['tagging']= tagging_frame['tagging'].apply(lambda x: merge_tagging(x))\n",
        "tagging_frame['f']= tagging_frame['f'].apply(lambda x: \"yes\" if \"yes\" in x else \"no\")\n",
        "tagging_frame"
      ],
      "metadata": {
        "colab": {
          "base_uri": "https://localhost:8080/",
          "height": 423
        },
        "id": "cVyvi10npLv_",
        "outputId": "dfba99f4-83fc-4c0d-c64e-f58f4e5c032d"
      },
      "execution_count": null,
      "outputs": [
        {
          "output_type": "execute_result",
          "data": {
            "text/plain": [
              "                                                   txt  \\\n",
              "0      $20 for all you can eat sushi cannot be beaten.   \n",
              "1      $20 for all you can eat sushi cannot be beaten.   \n",
              "2      $20 for all you can eat sushi cannot be beaten.   \n",
              "3      $20 for all you can eat sushi cannot be beaten.   \n",
              "4      $20 for all you can eat sushi cannot be beaten.   \n",
              "...                                                ...   \n",
              "51202                   wont come back again for sure!   \n",
              "51203                   wont come back again for sure!   \n",
              "51204                   wont come back again for sure!   \n",
              "51205                   wont come back again for sure!   \n",
              "51206                   wont come back again for sure!   \n",
              "\n",
              "                        categ_txt   f                                  tagging  \n",
              "0       ambience general negative  no  [O, O, O, O, O, O, O, O, O, O, O, O, O]  \n",
              "1        ambience general neutral  no  [O, O, O, O, O, O, O, O, O, O, O, O, O]  \n",
              "2       ambience general positive  no  [O, O, O, O, O, O, O, O, O, O, O, O, O]  \n",
              "3          drinks prices negative  no  [O, O, O, O, O, O, O, O, O, O, O, O, O]  \n",
              "4           drinks prices neutral  no  [O, O, O, O, O, O, O, O, O, O, O, O, O]  \n",
              "...                           ...  ..                                      ...  \n",
              "51202   restaurant prices neutral  no                 [O, O, O, O, O, O, O, O]  \n",
              "51203  restaurant prices positive  no                 [O, O, O, O, O, O, O, O]  \n",
              "51204    service general negative  no                 [O, O, O, O, O, O, O, O]  \n",
              "51205     service general neutral  no                 [O, O, O, O, O, O, O, O]  \n",
              "51206    service general positive  no                 [O, O, O, O, O, O, O, O]  \n",
              "\n",
              "[51207 rows x 4 columns]"
            ],
            "text/html": [
              "\n",
              "  <div id=\"df-81ea8cd1-1ce5-4814-861e-2f3e3855e9f3\">\n",
              "    <div class=\"colab-df-container\">\n",
              "      <div>\n",
              "<style scoped>\n",
              "    .dataframe tbody tr th:only-of-type {\n",
              "        vertical-align: middle;\n",
              "    }\n",
              "\n",
              "    .dataframe tbody tr th {\n",
              "        vertical-align: top;\n",
              "    }\n",
              "\n",
              "    .dataframe thead th {\n",
              "        text-align: right;\n",
              "    }\n",
              "</style>\n",
              "<table border=\"1\" class=\"dataframe\">\n",
              "  <thead>\n",
              "    <tr style=\"text-align: right;\">\n",
              "      <th></th>\n",
              "      <th>txt</th>\n",
              "      <th>categ_txt</th>\n",
              "      <th>f</th>\n",
              "      <th>tagging</th>\n",
              "    </tr>\n",
              "  </thead>\n",
              "  <tbody>\n",
              "    <tr>\n",
              "      <th>0</th>\n",
              "      <td>$20 for all you can eat sushi cannot be beaten.</td>\n",
              "      <td>ambience general negative</td>\n",
              "      <td>no</td>\n",
              "      <td>[O, O, O, O, O, O, O, O, O, O, O, O, O]</td>\n",
              "    </tr>\n",
              "    <tr>\n",
              "      <th>1</th>\n",
              "      <td>$20 for all you can eat sushi cannot be beaten.</td>\n",
              "      <td>ambience general neutral</td>\n",
              "      <td>no</td>\n",
              "      <td>[O, O, O, O, O, O, O, O, O, O, O, O, O]</td>\n",
              "    </tr>\n",
              "    <tr>\n",
              "      <th>2</th>\n",
              "      <td>$20 for all you can eat sushi cannot be beaten.</td>\n",
              "      <td>ambience general positive</td>\n",
              "      <td>no</td>\n",
              "      <td>[O, O, O, O, O, O, O, O, O, O, O, O, O]</td>\n",
              "    </tr>\n",
              "    <tr>\n",
              "      <th>3</th>\n",
              "      <td>$20 for all you can eat sushi cannot be beaten.</td>\n",
              "      <td>drinks prices negative</td>\n",
              "      <td>no</td>\n",
              "      <td>[O, O, O, O, O, O, O, O, O, O, O, O, O]</td>\n",
              "    </tr>\n",
              "    <tr>\n",
              "      <th>4</th>\n",
              "      <td>$20 for all you can eat sushi cannot be beaten.</td>\n",
              "      <td>drinks prices neutral</td>\n",
              "      <td>no</td>\n",
              "      <td>[O, O, O, O, O, O, O, O, O, O, O, O, O]</td>\n",
              "    </tr>\n",
              "    <tr>\n",
              "      <th>...</th>\n",
              "      <td>...</td>\n",
              "      <td>...</td>\n",
              "      <td>...</td>\n",
              "      <td>...</td>\n",
              "    </tr>\n",
              "    <tr>\n",
              "      <th>51202</th>\n",
              "      <td>wont come back again for sure!</td>\n",
              "      <td>restaurant prices neutral</td>\n",
              "      <td>no</td>\n",
              "      <td>[O, O, O, O, O, O, O, O]</td>\n",
              "    </tr>\n",
              "    <tr>\n",
              "      <th>51203</th>\n",
              "      <td>wont come back again for sure!</td>\n",
              "      <td>restaurant prices positive</td>\n",
              "      <td>no</td>\n",
              "      <td>[O, O, O, O, O, O, O, O]</td>\n",
              "    </tr>\n",
              "    <tr>\n",
              "      <th>51204</th>\n",
              "      <td>wont come back again for sure!</td>\n",
              "      <td>service general negative</td>\n",
              "      <td>no</td>\n",
              "      <td>[O, O, O, O, O, O, O, O]</td>\n",
              "    </tr>\n",
              "    <tr>\n",
              "      <th>51205</th>\n",
              "      <td>wont come back again for sure!</td>\n",
              "      <td>service general neutral</td>\n",
              "      <td>no</td>\n",
              "      <td>[O, O, O, O, O, O, O, O]</td>\n",
              "    </tr>\n",
              "    <tr>\n",
              "      <th>51206</th>\n",
              "      <td>wont come back again for sure!</td>\n",
              "      <td>service general positive</td>\n",
              "      <td>no</td>\n",
              "      <td>[O, O, O, O, O, O, O, O]</td>\n",
              "    </tr>\n",
              "  </tbody>\n",
              "</table>\n",
              "<p>51207 rows × 4 columns</p>\n",
              "</div>\n",
              "      <button class=\"colab-df-convert\" onclick=\"convertToInteractive('df-81ea8cd1-1ce5-4814-861e-2f3e3855e9f3')\"\n",
              "              title=\"Convert this dataframe to an interactive table.\"\n",
              "              style=\"display:none;\">\n",
              "        \n",
              "  <svg xmlns=\"http://www.w3.org/2000/svg\" height=\"24px\"viewBox=\"0 0 24 24\"\n",
              "       width=\"24px\">\n",
              "    <path d=\"M0 0h24v24H0V0z\" fill=\"none\"/>\n",
              "    <path d=\"M18.56 5.44l.94 2.06.94-2.06 2.06-.94-2.06-.94-.94-2.06-.94 2.06-2.06.94zm-11 1L8.5 8.5l.94-2.06 2.06-.94-2.06-.94L8.5 2.5l-.94 2.06-2.06.94zm10 10l.94 2.06.94-2.06 2.06-.94-2.06-.94-.94-2.06-.94 2.06-2.06.94z\"/><path d=\"M17.41 7.96l-1.37-1.37c-.4-.4-.92-.59-1.43-.59-.52 0-1.04.2-1.43.59L10.3 9.45l-7.72 7.72c-.78.78-.78 2.05 0 2.83L4 21.41c.39.39.9.59 1.41.59.51 0 1.02-.2 1.41-.59l7.78-7.78 2.81-2.81c.8-.78.8-2.07 0-2.86zM5.41 20L4 18.59l7.72-7.72 1.47 1.35L5.41 20z\"/>\n",
              "  </svg>\n",
              "      </button>\n",
              "      \n",
              "  <style>\n",
              "    .colab-df-container {\n",
              "      display:flex;\n",
              "      flex-wrap:wrap;\n",
              "      gap: 12px;\n",
              "    }\n",
              "\n",
              "    .colab-df-convert {\n",
              "      background-color: #E8F0FE;\n",
              "      border: none;\n",
              "      border-radius: 50%;\n",
              "      cursor: pointer;\n",
              "      display: none;\n",
              "      fill: #1967D2;\n",
              "      height: 32px;\n",
              "      padding: 0 0 0 0;\n",
              "      width: 32px;\n",
              "    }\n",
              "\n",
              "    .colab-df-convert:hover {\n",
              "      background-color: #E2EBFA;\n",
              "      box-shadow: 0px 1px 2px rgba(60, 64, 67, 0.3), 0px 1px 3px 1px rgba(60, 64, 67, 0.15);\n",
              "      fill: #174EA6;\n",
              "    }\n",
              "\n",
              "    [theme=dark] .colab-df-convert {\n",
              "      background-color: #3B4455;\n",
              "      fill: #D2E3FC;\n",
              "    }\n",
              "\n",
              "    [theme=dark] .colab-df-convert:hover {\n",
              "      background-color: #434B5C;\n",
              "      box-shadow: 0px 1px 3px 1px rgba(0, 0, 0, 0.15);\n",
              "      filter: drop-shadow(0px 1px 2px rgba(0, 0, 0, 0.3));\n",
              "      fill: #FFFFFF;\n",
              "    }\n",
              "  </style>\n",
              "\n",
              "      <script>\n",
              "        const buttonEl =\n",
              "          document.querySelector('#df-81ea8cd1-1ce5-4814-861e-2f3e3855e9f3 button.colab-df-convert');\n",
              "        buttonEl.style.display =\n",
              "          google.colab.kernel.accessAllowed ? 'block' : 'none';\n",
              "\n",
              "        async function convertToInteractive(key) {\n",
              "          const element = document.querySelector('#df-81ea8cd1-1ce5-4814-861e-2f3e3855e9f3');\n",
              "          const dataTable =\n",
              "            await google.colab.kernel.invokeFunction('convertToInteractive',\n",
              "                                                     [key], {});\n",
              "          if (!dataTable) return;\n",
              "\n",
              "          const docLinkHtml = 'Like what you see? Visit the ' +\n",
              "            '<a target=\"_blank\" href=https://colab.research.google.com/notebooks/data_table.ipynb>data table notebook</a>'\n",
              "            + ' to learn more about interactive tables.';\n",
              "          element.innerHTML = '';\n",
              "          dataTable['output_type'] = 'display_data';\n",
              "          await google.colab.output.renderOutput(dataTable, element);\n",
              "          const docLink = document.createElement('div');\n",
              "          docLink.innerHTML = docLinkHtml;\n",
              "          element.appendChild(docLink);\n",
              "        }\n",
              "      </script>\n",
              "    </div>\n",
              "  </div>\n",
              "  "
            ]
          },
          "metadata": {},
          "execution_count": 26
        }
      ]
    },
    {
      "cell_type": "code",
      "source": [
        "tagging_frame[tagging_frame['txt']==\"Good spreads, great beverage selections and bagels really tasty.\"]"
      ],
      "metadata": {
        "id": "O3mLhaFF7VbH"
      },
      "execution_count": null,
      "outputs": []
    },
    {
      "cell_type": "code",
      "source": [
        "#Number of rows with a target in the tagging sequence.\n",
        "sum=0\n",
        "for i,row in tagging_frame.iterrows():\n",
        "  if 'B' in row['tagging']:\n",
        "    sum+=1\n",
        "print(sum)"
      ],
      "metadata": {
        "colab": {
          "base_uri": "https://localhost:8080/"
        },
        "id": "AxJhRzdAwzLN",
        "outputId": "a8220e70-54af-48a2-8f34-c8391dc57422"
      },
      "execution_count": null,
      "outputs": [
        {
          "output_type": "stream",
          "name": "stdout",
          "text": [
            "1137\n"
          ]
        }
      ]
    },
    {
      "cell_type": "code",
      "source": [
        "tagging_frame[tagging_frame['f']==\"yes\"]"
      ],
      "metadata": {
        "colab": {
          "base_uri": "https://localhost:8080/",
          "height": 423
        },
        "id": "dwdfHv9O-M8Y",
        "outputId": "af518ea9-31a9-4896-fb9c-179256ee6d91"
      },
      "execution_count": null,
      "outputs": [
        {
          "output_type": "execute_result",
          "data": {
            "text/plain": [
              "                                                     txt  \\\n",
              "17       $20 for all you can eat sushi cannot be beaten.   \n",
              "56     $6 and there is much tasty food, all of it fre...   \n",
              "59     $6 and there is much tasty food, all of it fre...   \n",
              "62     $6 and there is much tasty food, all of it fre...   \n",
              "164    (Always ask the bartender for the SEASONAL bee...   \n",
              "...                                                  ...   \n",
              "50994  too large for just two people but nothing was ...   \n",
              "51041                              we love th pink pony.   \n",
              "51117  well, i didn't find it there, and trust, i hav...   \n",
              "51131      whoever the jazz duo was, they were on POINT.   \n",
              "51195                     wont come back again for sure!   \n",
              "\n",
              "                         categ_txt    f  \\\n",
              "17            food prices positive  yes   \n",
              "56            food prices positive  yes   \n",
              "59           food quality positive  yes   \n",
              "62     food style_options positive  yes   \n",
              "164        drinks quality positive  yes   \n",
              "...                            ...  ...   \n",
              "50994  food style_options negative  yes   \n",
              "51041  restaurant general positive  yes   \n",
              "51117  restaurant general negative  yes   \n",
              "51131    ambience general positive  yes   \n",
              "51195  restaurant general negative  yes   \n",
              "\n",
              "                                                 tagging  \n",
              "17               [O, O, O, B, I, I, I, I, I, O, O, O, O]  \n",
              "56     [O, O, O, O, O, O, O, O, B, O, O, O, O, O, O, ...  \n",
              "59     [O, O, O, O, O, O, O, O, B, O, O, O, O, O, O, ...  \n",
              "62     [O, O, O, O, O, O, O, O, B, O, O, O, O, O, O, ...  \n",
              "164                 [O, O, O, O, O, O, O, B, I, O, O, O]  \n",
              "...                                                  ...  \n",
              "50994                  [O, O, O, O, O, O, O, O, O, O, O]  \n",
              "51041                                 [O, O, O, B, I, O]  \n",
              "51117  [O, O, O, O, O, O, O, O, O, O, O, O, O, O, O, ...  \n",
              "51131                  [O, O, B, I, O, O, O, O, O, O, O]  \n",
              "51195                           [O, O, O, O, O, O, O, O]  \n",
              "\n",
              "[1504 rows x 4 columns]"
            ],
            "text/html": [
              "\n",
              "  <div id=\"df-868b682c-b900-4f4b-a497-919402b26ce5\">\n",
              "    <div class=\"colab-df-container\">\n",
              "      <div>\n",
              "<style scoped>\n",
              "    .dataframe tbody tr th:only-of-type {\n",
              "        vertical-align: middle;\n",
              "    }\n",
              "\n",
              "    .dataframe tbody tr th {\n",
              "        vertical-align: top;\n",
              "    }\n",
              "\n",
              "    .dataframe thead th {\n",
              "        text-align: right;\n",
              "    }\n",
              "</style>\n",
              "<table border=\"1\" class=\"dataframe\">\n",
              "  <thead>\n",
              "    <tr style=\"text-align: right;\">\n",
              "      <th></th>\n",
              "      <th>txt</th>\n",
              "      <th>categ_txt</th>\n",
              "      <th>f</th>\n",
              "      <th>tagging</th>\n",
              "    </tr>\n",
              "  </thead>\n",
              "  <tbody>\n",
              "    <tr>\n",
              "      <th>17</th>\n",
              "      <td>$20 for all you can eat sushi cannot be beaten.</td>\n",
              "      <td>food prices positive</td>\n",
              "      <td>yes</td>\n",
              "      <td>[O, O, O, B, I, I, I, I, I, O, O, O, O]</td>\n",
              "    </tr>\n",
              "    <tr>\n",
              "      <th>56</th>\n",
              "      <td>$6 and there is much tasty food, all of it fre...</td>\n",
              "      <td>food prices positive</td>\n",
              "      <td>yes</td>\n",
              "      <td>[O, O, O, O, O, O, O, O, B, O, O, O, O, O, O, ...</td>\n",
              "    </tr>\n",
              "    <tr>\n",
              "      <th>59</th>\n",
              "      <td>$6 and there is much tasty food, all of it fre...</td>\n",
              "      <td>food quality positive</td>\n",
              "      <td>yes</td>\n",
              "      <td>[O, O, O, O, O, O, O, O, B, O, O, O, O, O, O, ...</td>\n",
              "    </tr>\n",
              "    <tr>\n",
              "      <th>62</th>\n",
              "      <td>$6 and there is much tasty food, all of it fre...</td>\n",
              "      <td>food style_options positive</td>\n",
              "      <td>yes</td>\n",
              "      <td>[O, O, O, O, O, O, O, O, B, O, O, O, O, O, O, ...</td>\n",
              "    </tr>\n",
              "    <tr>\n",
              "      <th>164</th>\n",
              "      <td>(Always ask the bartender for the SEASONAL bee...</td>\n",
              "      <td>drinks quality positive</td>\n",
              "      <td>yes</td>\n",
              "      <td>[O, O, O, O, O, O, O, B, I, O, O, O]</td>\n",
              "    </tr>\n",
              "    <tr>\n",
              "      <th>...</th>\n",
              "      <td>...</td>\n",
              "      <td>...</td>\n",
              "      <td>...</td>\n",
              "      <td>...</td>\n",
              "    </tr>\n",
              "    <tr>\n",
              "      <th>50994</th>\n",
              "      <td>too large for just two people but nothing was ...</td>\n",
              "      <td>food style_options negative</td>\n",
              "      <td>yes</td>\n",
              "      <td>[O, O, O, O, O, O, O, O, O, O, O]</td>\n",
              "    </tr>\n",
              "    <tr>\n",
              "      <th>51041</th>\n",
              "      <td>we love th pink pony.</td>\n",
              "      <td>restaurant general positive</td>\n",
              "      <td>yes</td>\n",
              "      <td>[O, O, O, B, I, O]</td>\n",
              "    </tr>\n",
              "    <tr>\n",
              "      <th>51117</th>\n",
              "      <td>well, i didn't find it there, and trust, i hav...</td>\n",
              "      <td>restaurant general negative</td>\n",
              "      <td>yes</td>\n",
              "      <td>[O, O, O, O, O, O, O, O, O, O, O, O, O, O, O, ...</td>\n",
              "    </tr>\n",
              "    <tr>\n",
              "      <th>51131</th>\n",
              "      <td>whoever the jazz duo was, they were on POINT.</td>\n",
              "      <td>ambience general positive</td>\n",
              "      <td>yes</td>\n",
              "      <td>[O, O, B, I, O, O, O, O, O, O, O]</td>\n",
              "    </tr>\n",
              "    <tr>\n",
              "      <th>51195</th>\n",
              "      <td>wont come back again for sure!</td>\n",
              "      <td>restaurant general negative</td>\n",
              "      <td>yes</td>\n",
              "      <td>[O, O, O, O, O, O, O, O]</td>\n",
              "    </tr>\n",
              "  </tbody>\n",
              "</table>\n",
              "<p>1504 rows × 4 columns</p>\n",
              "</div>\n",
              "      <button class=\"colab-df-convert\" onclick=\"convertToInteractive('df-868b682c-b900-4f4b-a497-919402b26ce5')\"\n",
              "              title=\"Convert this dataframe to an interactive table.\"\n",
              "              style=\"display:none;\">\n",
              "        \n",
              "  <svg xmlns=\"http://www.w3.org/2000/svg\" height=\"24px\"viewBox=\"0 0 24 24\"\n",
              "       width=\"24px\">\n",
              "    <path d=\"M0 0h24v24H0V0z\" fill=\"none\"/>\n",
              "    <path d=\"M18.56 5.44l.94 2.06.94-2.06 2.06-.94-2.06-.94-.94-2.06-.94 2.06-2.06.94zm-11 1L8.5 8.5l.94-2.06 2.06-.94-2.06-.94L8.5 2.5l-.94 2.06-2.06.94zm10 10l.94 2.06.94-2.06 2.06-.94-2.06-.94-.94-2.06-.94 2.06-2.06.94z\"/><path d=\"M17.41 7.96l-1.37-1.37c-.4-.4-.92-.59-1.43-.59-.52 0-1.04.2-1.43.59L10.3 9.45l-7.72 7.72c-.78.78-.78 2.05 0 2.83L4 21.41c.39.39.9.59 1.41.59.51 0 1.02-.2 1.41-.59l7.78-7.78 2.81-2.81c.8-.78.8-2.07 0-2.86zM5.41 20L4 18.59l7.72-7.72 1.47 1.35L5.41 20z\"/>\n",
              "  </svg>\n",
              "      </button>\n",
              "      \n",
              "  <style>\n",
              "    .colab-df-container {\n",
              "      display:flex;\n",
              "      flex-wrap:wrap;\n",
              "      gap: 12px;\n",
              "    }\n",
              "\n",
              "    .colab-df-convert {\n",
              "      background-color: #E8F0FE;\n",
              "      border: none;\n",
              "      border-radius: 50%;\n",
              "      cursor: pointer;\n",
              "      display: none;\n",
              "      fill: #1967D2;\n",
              "      height: 32px;\n",
              "      padding: 0 0 0 0;\n",
              "      width: 32px;\n",
              "    }\n",
              "\n",
              "    .colab-df-convert:hover {\n",
              "      background-color: #E2EBFA;\n",
              "      box-shadow: 0px 1px 2px rgba(60, 64, 67, 0.3), 0px 1px 3px 1px rgba(60, 64, 67, 0.15);\n",
              "      fill: #174EA6;\n",
              "    }\n",
              "\n",
              "    [theme=dark] .colab-df-convert {\n",
              "      background-color: #3B4455;\n",
              "      fill: #D2E3FC;\n",
              "    }\n",
              "\n",
              "    [theme=dark] .colab-df-convert:hover {\n",
              "      background-color: #434B5C;\n",
              "      box-shadow: 0px 1px 3px 1px rgba(0, 0, 0, 0.15);\n",
              "      filter: drop-shadow(0px 1px 2px rgba(0, 0, 0, 0.3));\n",
              "      fill: #FFFFFF;\n",
              "    }\n",
              "  </style>\n",
              "\n",
              "      <script>\n",
              "        const buttonEl =\n",
              "          document.querySelector('#df-868b682c-b900-4f4b-a497-919402b26ce5 button.colab-df-convert');\n",
              "        buttonEl.style.display =\n",
              "          google.colab.kernel.accessAllowed ? 'block' : 'none';\n",
              "\n",
              "        async function convertToInteractive(key) {\n",
              "          const element = document.querySelector('#df-868b682c-b900-4f4b-a497-919402b26ce5');\n",
              "          const dataTable =\n",
              "            await google.colab.kernel.invokeFunction('convertToInteractive',\n",
              "                                                     [key], {});\n",
              "          if (!dataTable) return;\n",
              "\n",
              "          const docLinkHtml = 'Like what you see? Visit the ' +\n",
              "            '<a target=\"_blank\" href=https://colab.research.google.com/notebooks/data_table.ipynb>data table notebook</a>'\n",
              "            + ' to learn more about interactive tables.';\n",
              "          element.innerHTML = '';\n",
              "          dataTable['output_type'] = 'display_data';\n",
              "          await google.colab.output.renderOutput(dataTable, element);\n",
              "          const docLink = document.createElement('div');\n",
              "          docLink.innerHTML = docLinkHtml;\n",
              "          element.appendChild(docLink);\n",
              "        }\n",
              "      </script>\n",
              "    </div>\n",
              "  </div>\n",
              "  "
            ]
          },
          "metadata": {},
          "execution_count": 29
        }
      ]
    },
    {
      "cell_type": "markdown",
      "source": [
        "**Preparing dataset for the model**"
      ],
      "metadata": {
        "id": "iLsvwoojnm3K"
      }
    },
    {
      "cell_type": "code",
      "source": [
        "df = tagging_frame\n",
        "df"
      ],
      "metadata": {
        "id": "0K-8EaL2mRIq",
        "colab": {
          "base_uri": "https://localhost:8080/",
          "height": 423
        },
        "outputId": "d5b6aab5-8f00-4e79-e50f-a9a0fe5b1125"
      },
      "execution_count": null,
      "outputs": [
        {
          "output_type": "execute_result",
          "data": {
            "text/plain": [
              "                                                   txt  \\\n",
              "0      $20 for all you can eat sushi cannot be beaten.   \n",
              "1      $20 for all you can eat sushi cannot be beaten.   \n",
              "2      $20 for all you can eat sushi cannot be beaten.   \n",
              "3      $20 for all you can eat sushi cannot be beaten.   \n",
              "4      $20 for all you can eat sushi cannot be beaten.   \n",
              "...                                                ...   \n",
              "51202                   wont come back again for sure!   \n",
              "51203                   wont come back again for sure!   \n",
              "51204                   wont come back again for sure!   \n",
              "51205                   wont come back again for sure!   \n",
              "51206                   wont come back again for sure!   \n",
              "\n",
              "                        categ_txt   f                                  tagging  \n",
              "0       ambience general negative  no  [O, O, O, O, O, O, O, O, O, O, O, O, O]  \n",
              "1        ambience general neutral  no  [O, O, O, O, O, O, O, O, O, O, O, O, O]  \n",
              "2       ambience general positive  no  [O, O, O, O, O, O, O, O, O, O, O, O, O]  \n",
              "3          drinks prices negative  no  [O, O, O, O, O, O, O, O, O, O, O, O, O]  \n",
              "4           drinks prices neutral  no  [O, O, O, O, O, O, O, O, O, O, O, O, O]  \n",
              "...                           ...  ..                                      ...  \n",
              "51202   restaurant prices neutral  no                 [O, O, O, O, O, O, O, O]  \n",
              "51203  restaurant prices positive  no                 [O, O, O, O, O, O, O, O]  \n",
              "51204    service general negative  no                 [O, O, O, O, O, O, O, O]  \n",
              "51205     service general neutral  no                 [O, O, O, O, O, O, O, O]  \n",
              "51206    service general positive  no                 [O, O, O, O, O, O, O, O]  \n",
              "\n",
              "[51207 rows x 4 columns]"
            ],
            "text/html": [
              "\n",
              "  <div id=\"df-5edc3242-0918-4e07-b007-7e7f97f215db\">\n",
              "    <div class=\"colab-df-container\">\n",
              "      <div>\n",
              "<style scoped>\n",
              "    .dataframe tbody tr th:only-of-type {\n",
              "        vertical-align: middle;\n",
              "    }\n",
              "\n",
              "    .dataframe tbody tr th {\n",
              "        vertical-align: top;\n",
              "    }\n",
              "\n",
              "    .dataframe thead th {\n",
              "        text-align: right;\n",
              "    }\n",
              "</style>\n",
              "<table border=\"1\" class=\"dataframe\">\n",
              "  <thead>\n",
              "    <tr style=\"text-align: right;\">\n",
              "      <th></th>\n",
              "      <th>txt</th>\n",
              "      <th>categ_txt</th>\n",
              "      <th>f</th>\n",
              "      <th>tagging</th>\n",
              "    </tr>\n",
              "  </thead>\n",
              "  <tbody>\n",
              "    <tr>\n",
              "      <th>0</th>\n",
              "      <td>$20 for all you can eat sushi cannot be beaten.</td>\n",
              "      <td>ambience general negative</td>\n",
              "      <td>no</td>\n",
              "      <td>[O, O, O, O, O, O, O, O, O, O, O, O, O]</td>\n",
              "    </tr>\n",
              "    <tr>\n",
              "      <th>1</th>\n",
              "      <td>$20 for all you can eat sushi cannot be beaten.</td>\n",
              "      <td>ambience general neutral</td>\n",
              "      <td>no</td>\n",
              "      <td>[O, O, O, O, O, O, O, O, O, O, O, O, O]</td>\n",
              "    </tr>\n",
              "    <tr>\n",
              "      <th>2</th>\n",
              "      <td>$20 for all you can eat sushi cannot be beaten.</td>\n",
              "      <td>ambience general positive</td>\n",
              "      <td>no</td>\n",
              "      <td>[O, O, O, O, O, O, O, O, O, O, O, O, O]</td>\n",
              "    </tr>\n",
              "    <tr>\n",
              "      <th>3</th>\n",
              "      <td>$20 for all you can eat sushi cannot be beaten.</td>\n",
              "      <td>drinks prices negative</td>\n",
              "      <td>no</td>\n",
              "      <td>[O, O, O, O, O, O, O, O, O, O, O, O, O]</td>\n",
              "    </tr>\n",
              "    <tr>\n",
              "      <th>4</th>\n",
              "      <td>$20 for all you can eat sushi cannot be beaten.</td>\n",
              "      <td>drinks prices neutral</td>\n",
              "      <td>no</td>\n",
              "      <td>[O, O, O, O, O, O, O, O, O, O, O, O, O]</td>\n",
              "    </tr>\n",
              "    <tr>\n",
              "      <th>...</th>\n",
              "      <td>...</td>\n",
              "      <td>...</td>\n",
              "      <td>...</td>\n",
              "      <td>...</td>\n",
              "    </tr>\n",
              "    <tr>\n",
              "      <th>51202</th>\n",
              "      <td>wont come back again for sure!</td>\n",
              "      <td>restaurant prices neutral</td>\n",
              "      <td>no</td>\n",
              "      <td>[O, O, O, O, O, O, O, O]</td>\n",
              "    </tr>\n",
              "    <tr>\n",
              "      <th>51203</th>\n",
              "      <td>wont come back again for sure!</td>\n",
              "      <td>restaurant prices positive</td>\n",
              "      <td>no</td>\n",
              "      <td>[O, O, O, O, O, O, O, O]</td>\n",
              "    </tr>\n",
              "    <tr>\n",
              "      <th>51204</th>\n",
              "      <td>wont come back again for sure!</td>\n",
              "      <td>service general negative</td>\n",
              "      <td>no</td>\n",
              "      <td>[O, O, O, O, O, O, O, O]</td>\n",
              "    </tr>\n",
              "    <tr>\n",
              "      <th>51205</th>\n",
              "      <td>wont come back again for sure!</td>\n",
              "      <td>service general neutral</td>\n",
              "      <td>no</td>\n",
              "      <td>[O, O, O, O, O, O, O, O]</td>\n",
              "    </tr>\n",
              "    <tr>\n",
              "      <th>51206</th>\n",
              "      <td>wont come back again for sure!</td>\n",
              "      <td>service general positive</td>\n",
              "      <td>no</td>\n",
              "      <td>[O, O, O, O, O, O, O, O]</td>\n",
              "    </tr>\n",
              "  </tbody>\n",
              "</table>\n",
              "<p>51207 rows × 4 columns</p>\n",
              "</div>\n",
              "      <button class=\"colab-df-convert\" onclick=\"convertToInteractive('df-5edc3242-0918-4e07-b007-7e7f97f215db')\"\n",
              "              title=\"Convert this dataframe to an interactive table.\"\n",
              "              style=\"display:none;\">\n",
              "        \n",
              "  <svg xmlns=\"http://www.w3.org/2000/svg\" height=\"24px\"viewBox=\"0 0 24 24\"\n",
              "       width=\"24px\">\n",
              "    <path d=\"M0 0h24v24H0V0z\" fill=\"none\"/>\n",
              "    <path d=\"M18.56 5.44l.94 2.06.94-2.06 2.06-.94-2.06-.94-.94-2.06-.94 2.06-2.06.94zm-11 1L8.5 8.5l.94-2.06 2.06-.94-2.06-.94L8.5 2.5l-.94 2.06-2.06.94zm10 10l.94 2.06.94-2.06 2.06-.94-2.06-.94-.94-2.06-.94 2.06-2.06.94z\"/><path d=\"M17.41 7.96l-1.37-1.37c-.4-.4-.92-.59-1.43-.59-.52 0-1.04.2-1.43.59L10.3 9.45l-7.72 7.72c-.78.78-.78 2.05 0 2.83L4 21.41c.39.39.9.59 1.41.59.51 0 1.02-.2 1.41-.59l7.78-7.78 2.81-2.81c.8-.78.8-2.07 0-2.86zM5.41 20L4 18.59l7.72-7.72 1.47 1.35L5.41 20z\"/>\n",
              "  </svg>\n",
              "      </button>\n",
              "      \n",
              "  <style>\n",
              "    .colab-df-container {\n",
              "      display:flex;\n",
              "      flex-wrap:wrap;\n",
              "      gap: 12px;\n",
              "    }\n",
              "\n",
              "    .colab-df-convert {\n",
              "      background-color: #E8F0FE;\n",
              "      border: none;\n",
              "      border-radius: 50%;\n",
              "      cursor: pointer;\n",
              "      display: none;\n",
              "      fill: #1967D2;\n",
              "      height: 32px;\n",
              "      padding: 0 0 0 0;\n",
              "      width: 32px;\n",
              "    }\n",
              "\n",
              "    .colab-df-convert:hover {\n",
              "      background-color: #E2EBFA;\n",
              "      box-shadow: 0px 1px 2px rgba(60, 64, 67, 0.3), 0px 1px 3px 1px rgba(60, 64, 67, 0.15);\n",
              "      fill: #174EA6;\n",
              "    }\n",
              "\n",
              "    [theme=dark] .colab-df-convert {\n",
              "      background-color: #3B4455;\n",
              "      fill: #D2E3FC;\n",
              "    }\n",
              "\n",
              "    [theme=dark] .colab-df-convert:hover {\n",
              "      background-color: #434B5C;\n",
              "      box-shadow: 0px 1px 3px 1px rgba(0, 0, 0, 0.15);\n",
              "      filter: drop-shadow(0px 1px 2px rgba(0, 0, 0, 0.3));\n",
              "      fill: #FFFFFF;\n",
              "    }\n",
              "  </style>\n",
              "\n",
              "      <script>\n",
              "        const buttonEl =\n",
              "          document.querySelector('#df-5edc3242-0918-4e07-b007-7e7f97f215db button.colab-df-convert');\n",
              "        buttonEl.style.display =\n",
              "          google.colab.kernel.accessAllowed ? 'block' : 'none';\n",
              "\n",
              "        async function convertToInteractive(key) {\n",
              "          const element = document.querySelector('#df-5edc3242-0918-4e07-b007-7e7f97f215db');\n",
              "          const dataTable =\n",
              "            await google.colab.kernel.invokeFunction('convertToInteractive',\n",
              "                                                     [key], {});\n",
              "          if (!dataTable) return;\n",
              "\n",
              "          const docLinkHtml = 'Like what you see? Visit the ' +\n",
              "            '<a target=\"_blank\" href=https://colab.research.google.com/notebooks/data_table.ipynb>data table notebook</a>'\n",
              "            + ' to learn more about interactive tables.';\n",
              "          element.innerHTML = '';\n",
              "          dataTable['output_type'] = 'display_data';\n",
              "          await google.colab.output.renderOutput(dataTable, element);\n",
              "          const docLink = document.createElement('div');\n",
              "          docLink.innerHTML = docLinkHtml;\n",
              "          element.appendChild(docLink);\n",
              "        }\n",
              "      </script>\n",
              "    </div>\n",
              "  </div>\n",
              "  "
            ]
          },
          "metadata": {},
          "execution_count": 30
        }
      ]
    },
    {
      "cell_type": "markdown",
      "source": [
        "**Convering string values in integers**"
      ],
      "metadata": {
        "id": "qIaPZ_pd_ZMt"
      }
    },
    {
      "cell_type": "code",
      "source": [
        "# convert yes,no in 0,1\n",
        "# convert BIOP -> 0,1,2,3"
      ],
      "metadata": {
        "id": "C9zkovum_Y2q"
      },
      "execution_count": null,
      "outputs": []
    },
    {
      "cell_type": "markdown",
      "source": [
        "**Dataset balancing**"
      ],
      "metadata": {
        "id": "BXFemE3UntMx"
      }
    },
    {
      "cell_type": "code",
      "source": [
        "from sklearn.utils import shuffle\n",
        "df_yes = df[df['f']==\"yes\"]\n",
        "df_no = df[df['f']==\"no\"]\n",
        "df_yes = shuffle(df_yes)\n",
        "df_no = shuffle(df_no)\n",
        "\n",
        "counts=df_yes['categ_txt'].value_counts().values.tolist()\n",
        "cat_nums=[(v,counts[i]) for i,v in enumerate(df_yes['categ_txt'].value_counts().index.tolist())]\n",
        "df_no_balanced = pd.DataFrame([],columns=df_yes.columns)\n",
        "for c,num in cat_nums:\n",
        "  selected=df_no[df_no['categ_txt']==c]\n",
        "  selected=shuffle(selected)\n",
        "  selected=selected.iloc[:num]\n",
        "  df_no_balanced=pd.concat([df_no_balanced,selected])\n",
        "\n",
        "df=pd.concat([df_yes, df_no_balanced])\n",
        "df = shuffle(df)\n",
        "df"
      ],
      "metadata": {
        "id": "UFlGAwTxZ6hY",
        "colab": {
          "base_uri": "https://localhost:8080/",
          "height": 423
        },
        "outputId": "02acfde7-3131-42ce-a53e-c616d3bc649a"
      },
      "execution_count": null,
      "outputs": [
        {
          "output_type": "execute_result",
          "data": {
            "text/plain": [
              "                                                     txt  \\\n",
              "48887                    fine dining restaurant quality.   \n",
              "2669   And it all comes at a very reasonable price (c...   \n",
              "26402                     Probably would not go again...   \n",
              "3234   As we were leaving, the couple standing by the...   \n",
              "7166   Everytime I decide to try another place on the...   \n",
              "...                                                  ...   \n",
              "7448                                          Fantastic!   \n",
              "28563  Steamed fresh so brought hot hot hot to your t...   \n",
              "31296        The food however, is what one might expect.   \n",
              "15317           I plan on stopping by next week as well.   \n",
              "11330          I am going to the mid town location next.   \n",
              "\n",
              "                         categ_txt    f  \\\n",
              "48887        food quality positive  yes   \n",
              "2669          food prices positive  yes   \n",
              "26402     service general positive   no   \n",
              "3234      service general negative   no   \n",
              "7166   restaurant general positive  yes   \n",
              "...                            ...  ...   \n",
              "7448      service general positive   no   \n",
              "28563         food prices negative   no   \n",
              "31296        food quality negative  yes   \n",
              "15317  restaurant general positive  yes   \n",
              "11330        food quality positive   no   \n",
              "\n",
              "                                                 tagging  \n",
              "48887                                    [O, B, O, O, O]  \n",
              "2669   [O, O, O, O, O, O, O, O, O, O, B, B, O, B, O, ...  \n",
              "26402                           [O, O, O, O, O, O, O, O]  \n",
              "3234   [O, O, O, O, O, O, O, O, O, O, O, O, O, O, O, ...  \n",
              "7166   [O, O, O, O, O, O, O, O, O, O, O, O, O, O, O, ...  \n",
              "...                                                  ...  \n",
              "7448                                              [O, O]  \n",
              "28563                  [O, O, O, O, O, O, O, O, O, O, O]  \n",
              "31296                     [O, B, O, O, O, O, O, O, O, O]  \n",
              "15317                     [O, O, O, O, O, O, O, O, O, O]  \n",
              "11330                     [O, O, O, O, O, O, O, O, O, O]  \n",
              "\n",
              "[3008 rows x 4 columns]"
            ],
            "text/html": [
              "\n",
              "  <div id=\"df-cbb6714a-bf81-4210-8441-59235e7f31dd\">\n",
              "    <div class=\"colab-df-container\">\n",
              "      <div>\n",
              "<style scoped>\n",
              "    .dataframe tbody tr th:only-of-type {\n",
              "        vertical-align: middle;\n",
              "    }\n",
              "\n",
              "    .dataframe tbody tr th {\n",
              "        vertical-align: top;\n",
              "    }\n",
              "\n",
              "    .dataframe thead th {\n",
              "        text-align: right;\n",
              "    }\n",
              "</style>\n",
              "<table border=\"1\" class=\"dataframe\">\n",
              "  <thead>\n",
              "    <tr style=\"text-align: right;\">\n",
              "      <th></th>\n",
              "      <th>txt</th>\n",
              "      <th>categ_txt</th>\n",
              "      <th>f</th>\n",
              "      <th>tagging</th>\n",
              "    </tr>\n",
              "  </thead>\n",
              "  <tbody>\n",
              "    <tr>\n",
              "      <th>48887</th>\n",
              "      <td>fine dining restaurant quality.</td>\n",
              "      <td>food quality positive</td>\n",
              "      <td>yes</td>\n",
              "      <td>[O, B, O, O, O]</td>\n",
              "    </tr>\n",
              "    <tr>\n",
              "      <th>2669</th>\n",
              "      <td>And it all comes at a very reasonable price (c...</td>\n",
              "      <td>food prices positive</td>\n",
              "      <td>yes</td>\n",
              "      <td>[O, O, O, O, O, O, O, O, O, O, B, B, O, B, O, ...</td>\n",
              "    </tr>\n",
              "    <tr>\n",
              "      <th>26402</th>\n",
              "      <td>Probably would not go again...</td>\n",
              "      <td>service general positive</td>\n",
              "      <td>no</td>\n",
              "      <td>[O, O, O, O, O, O, O, O]</td>\n",
              "    </tr>\n",
              "    <tr>\n",
              "      <th>3234</th>\n",
              "      <td>As we were leaving, the couple standing by the...</td>\n",
              "      <td>service general negative</td>\n",
              "      <td>no</td>\n",
              "      <td>[O, O, O, O, O, O, O, O, O, O, O, O, O, O, O, ...</td>\n",
              "    </tr>\n",
              "    <tr>\n",
              "      <th>7166</th>\n",
              "      <td>Everytime I decide to try another place on the...</td>\n",
              "      <td>restaurant general positive</td>\n",
              "      <td>yes</td>\n",
              "      <td>[O, O, O, O, O, O, O, O, O, O, O, O, O, O, O, ...</td>\n",
              "    </tr>\n",
              "    <tr>\n",
              "      <th>...</th>\n",
              "      <td>...</td>\n",
              "      <td>...</td>\n",
              "      <td>...</td>\n",
              "      <td>...</td>\n",
              "    </tr>\n",
              "    <tr>\n",
              "      <th>7448</th>\n",
              "      <td>Fantastic!</td>\n",
              "      <td>service general positive</td>\n",
              "      <td>no</td>\n",
              "      <td>[O, O]</td>\n",
              "    </tr>\n",
              "    <tr>\n",
              "      <th>28563</th>\n",
              "      <td>Steamed fresh so brought hot hot hot to your t...</td>\n",
              "      <td>food prices negative</td>\n",
              "      <td>no</td>\n",
              "      <td>[O, O, O, O, O, O, O, O, O, O, O]</td>\n",
              "    </tr>\n",
              "    <tr>\n",
              "      <th>31296</th>\n",
              "      <td>The food however, is what one might expect.</td>\n",
              "      <td>food quality negative</td>\n",
              "      <td>yes</td>\n",
              "      <td>[O, B, O, O, O, O, O, O, O, O]</td>\n",
              "    </tr>\n",
              "    <tr>\n",
              "      <th>15317</th>\n",
              "      <td>I plan on stopping by next week as well.</td>\n",
              "      <td>restaurant general positive</td>\n",
              "      <td>yes</td>\n",
              "      <td>[O, O, O, O, O, O, O, O, O, O]</td>\n",
              "    </tr>\n",
              "    <tr>\n",
              "      <th>11330</th>\n",
              "      <td>I am going to the mid town location next.</td>\n",
              "      <td>food quality positive</td>\n",
              "      <td>no</td>\n",
              "      <td>[O, O, O, O, O, O, O, O, O, O]</td>\n",
              "    </tr>\n",
              "  </tbody>\n",
              "</table>\n",
              "<p>3008 rows × 4 columns</p>\n",
              "</div>\n",
              "      <button class=\"colab-df-convert\" onclick=\"convertToInteractive('df-cbb6714a-bf81-4210-8441-59235e7f31dd')\"\n",
              "              title=\"Convert this dataframe to an interactive table.\"\n",
              "              style=\"display:none;\">\n",
              "        \n",
              "  <svg xmlns=\"http://www.w3.org/2000/svg\" height=\"24px\"viewBox=\"0 0 24 24\"\n",
              "       width=\"24px\">\n",
              "    <path d=\"M0 0h24v24H0V0z\" fill=\"none\"/>\n",
              "    <path d=\"M18.56 5.44l.94 2.06.94-2.06 2.06-.94-2.06-.94-.94-2.06-.94 2.06-2.06.94zm-11 1L8.5 8.5l.94-2.06 2.06-.94-2.06-.94L8.5 2.5l-.94 2.06-2.06.94zm10 10l.94 2.06.94-2.06 2.06-.94-2.06-.94-.94-2.06-.94 2.06-2.06.94z\"/><path d=\"M17.41 7.96l-1.37-1.37c-.4-.4-.92-.59-1.43-.59-.52 0-1.04.2-1.43.59L10.3 9.45l-7.72 7.72c-.78.78-.78 2.05 0 2.83L4 21.41c.39.39.9.59 1.41.59.51 0 1.02-.2 1.41-.59l7.78-7.78 2.81-2.81c.8-.78.8-2.07 0-2.86zM5.41 20L4 18.59l7.72-7.72 1.47 1.35L5.41 20z\"/>\n",
              "  </svg>\n",
              "      </button>\n",
              "      \n",
              "  <style>\n",
              "    .colab-df-container {\n",
              "      display:flex;\n",
              "      flex-wrap:wrap;\n",
              "      gap: 12px;\n",
              "    }\n",
              "\n",
              "    .colab-df-convert {\n",
              "      background-color: #E8F0FE;\n",
              "      border: none;\n",
              "      border-radius: 50%;\n",
              "      cursor: pointer;\n",
              "      display: none;\n",
              "      fill: #1967D2;\n",
              "      height: 32px;\n",
              "      padding: 0 0 0 0;\n",
              "      width: 32px;\n",
              "    }\n",
              "\n",
              "    .colab-df-convert:hover {\n",
              "      background-color: #E2EBFA;\n",
              "      box-shadow: 0px 1px 2px rgba(60, 64, 67, 0.3), 0px 1px 3px 1px rgba(60, 64, 67, 0.15);\n",
              "      fill: #174EA6;\n",
              "    }\n",
              "\n",
              "    [theme=dark] .colab-df-convert {\n",
              "      background-color: #3B4455;\n",
              "      fill: #D2E3FC;\n",
              "    }\n",
              "\n",
              "    [theme=dark] .colab-df-convert:hover {\n",
              "      background-color: #434B5C;\n",
              "      box-shadow: 0px 1px 3px 1px rgba(0, 0, 0, 0.15);\n",
              "      filter: drop-shadow(0px 1px 2px rgba(0, 0, 0, 0.3));\n",
              "      fill: #FFFFFF;\n",
              "    }\n",
              "  </style>\n",
              "\n",
              "      <script>\n",
              "        const buttonEl =\n",
              "          document.querySelector('#df-cbb6714a-bf81-4210-8441-59235e7f31dd button.colab-df-convert');\n",
              "        buttonEl.style.display =\n",
              "          google.colab.kernel.accessAllowed ? 'block' : 'none';\n",
              "\n",
              "        async function convertToInteractive(key) {\n",
              "          const element = document.querySelector('#df-cbb6714a-bf81-4210-8441-59235e7f31dd');\n",
              "          const dataTable =\n",
              "            await google.colab.kernel.invokeFunction('convertToInteractive',\n",
              "                                                     [key], {});\n",
              "          if (!dataTable) return;\n",
              "\n",
              "          const docLinkHtml = 'Like what you see? Visit the ' +\n",
              "            '<a target=\"_blank\" href=https://colab.research.google.com/notebooks/data_table.ipynb>data table notebook</a>'\n",
              "            + ' to learn more about interactive tables.';\n",
              "          element.innerHTML = '';\n",
              "          dataTable['output_type'] = 'display_data';\n",
              "          await google.colab.output.renderOutput(dataTable, element);\n",
              "          const docLink = document.createElement('div');\n",
              "          docLink.innerHTML = docLinkHtml;\n",
              "          element.appendChild(docLink);\n",
              "        }\n",
              "      </script>\n",
              "    </div>\n",
              "  </div>\n",
              "  "
            ]
          },
          "metadata": {},
          "execution_count": 32
        }
      ]
    },
    {
      "cell_type": "code",
      "source": [
        "# df.to_pickle(\"/content/drive/MyDrive/HLT/ds.pkl\")"
      ],
      "metadata": {
        "id": "lXpL8dp1df5o"
      },
      "execution_count": null,
      "outputs": []
    },
    {
      "cell_type": "markdown",
      "source": [
        "# Analysis\n"
      ],
      "metadata": {
        "id": "c7bsyUUYgb3E"
      }
    },
    {
      "cell_type": "code",
      "source": [
        "from matplotlib import pyplot as plt"
      ],
      "metadata": {
        "id": "IlozPOT5nwph"
      },
      "execution_count": null,
      "outputs": []
    },
    {
      "cell_type": "code",
      "source": [
        "import pandas as pd\n",
        "df = pd.read_pickle(\"/content/drive/MyDrive/HLT/ds.pkl\")"
      ],
      "metadata": {
        "id": "6V8-CySOgfqT"
      },
      "execution_count": null,
      "outputs": []
    },
    {
      "cell_type": "code",
      "source": [
        "df.head()"
      ],
      "metadata": {
        "colab": {
          "base_uri": "https://localhost:8080/",
          "height": 337
        },
        "id": "H5TLJUwph0OH",
        "outputId": "ad982d80-a739-4245-9cac-8d52ad66586d"
      },
      "execution_count": null,
      "outputs": [
        {
          "output_type": "execute_result",
          "data": {
            "text/plain": [
              "                                                     txt  \\\n",
              "12081  I choose to go with one of the special, the br...   \n",
              "47804                           You can't go wrong here.   \n",
              "31176  The food can get pricey but the prixe fixe tas...   \n",
              "49548  i've been to sapphire twice and both times the...   \n",
              "24317              Not enough wines by the glass either.   \n",
              "\n",
              "                               categ_txt    f  \\\n",
              "12081  restaurant miscellaneous negative   no   \n",
              "47804        restaurant general positive  yes   \n",
              "31176               food prices negative  yes   \n",
              "49548              food quality negative   no   \n",
              "24317              food quality positive   no   \n",
              "\n",
              "                                                 tagging  \n",
              "12081  [O, O, O, O, O, O, O, O, O, O, O, O, O, O, O, ...  \n",
              "47804                           [O, O, O, O, O, O, O, O]  \n",
              "31176  [O, B, O, O, O, O, O, O, O, O, O, O, O, O, O, ...  \n",
              "49548  [O, O, O, O, O, O, O, O, O, O, O, O, O, O, O, ...  \n",
              "24317                           [O, O, O, O, O, O, O, O]  "
            ],
            "text/html": [
              "\n",
              "  <div id=\"df-29f92e6b-968a-4895-ae91-6b61fc6a5b3d\">\n",
              "    <div class=\"colab-df-container\">\n",
              "      <div>\n",
              "<style scoped>\n",
              "    .dataframe tbody tr th:only-of-type {\n",
              "        vertical-align: middle;\n",
              "    }\n",
              "\n",
              "    .dataframe tbody tr th {\n",
              "        vertical-align: top;\n",
              "    }\n",
              "\n",
              "    .dataframe thead th {\n",
              "        text-align: right;\n",
              "    }\n",
              "</style>\n",
              "<table border=\"1\" class=\"dataframe\">\n",
              "  <thead>\n",
              "    <tr style=\"text-align: right;\">\n",
              "      <th></th>\n",
              "      <th>txt</th>\n",
              "      <th>categ_txt</th>\n",
              "      <th>f</th>\n",
              "      <th>tagging</th>\n",
              "    </tr>\n",
              "  </thead>\n",
              "  <tbody>\n",
              "    <tr>\n",
              "      <th>12081</th>\n",
              "      <td>I choose to go with one of the special, the br...</td>\n",
              "      <td>restaurant miscellaneous negative</td>\n",
              "      <td>no</td>\n",
              "      <td>[O, O, O, O, O, O, O, O, O, O, O, O, O, O, O, ...</td>\n",
              "    </tr>\n",
              "    <tr>\n",
              "      <th>47804</th>\n",
              "      <td>You can't go wrong here.</td>\n",
              "      <td>restaurant general positive</td>\n",
              "      <td>yes</td>\n",
              "      <td>[O, O, O, O, O, O, O, O]</td>\n",
              "    </tr>\n",
              "    <tr>\n",
              "      <th>31176</th>\n",
              "      <td>The food can get pricey but the prixe fixe tas...</td>\n",
              "      <td>food prices negative</td>\n",
              "      <td>yes</td>\n",
              "      <td>[O, B, O, O, O, O, O, O, O, O, O, O, O, O, O, ...</td>\n",
              "    </tr>\n",
              "    <tr>\n",
              "      <th>49548</th>\n",
              "      <td>i've been to sapphire twice and both times the...</td>\n",
              "      <td>food quality negative</td>\n",
              "      <td>no</td>\n",
              "      <td>[O, O, O, O, O, O, O, O, O, O, O, O, O, O, O, ...</td>\n",
              "    </tr>\n",
              "    <tr>\n",
              "      <th>24317</th>\n",
              "      <td>Not enough wines by the glass either.</td>\n",
              "      <td>food quality positive</td>\n",
              "      <td>no</td>\n",
              "      <td>[O, O, O, O, O, O, O, O]</td>\n",
              "    </tr>\n",
              "  </tbody>\n",
              "</table>\n",
              "</div>\n",
              "      <button class=\"colab-df-convert\" onclick=\"convertToInteractive('df-29f92e6b-968a-4895-ae91-6b61fc6a5b3d')\"\n",
              "              title=\"Convert this dataframe to an interactive table.\"\n",
              "              style=\"display:none;\">\n",
              "        \n",
              "  <svg xmlns=\"http://www.w3.org/2000/svg\" height=\"24px\"viewBox=\"0 0 24 24\"\n",
              "       width=\"24px\">\n",
              "    <path d=\"M0 0h24v24H0V0z\" fill=\"none\"/>\n",
              "    <path d=\"M18.56 5.44l.94 2.06.94-2.06 2.06-.94-2.06-.94-.94-2.06-.94 2.06-2.06.94zm-11 1L8.5 8.5l.94-2.06 2.06-.94-2.06-.94L8.5 2.5l-.94 2.06-2.06.94zm10 10l.94 2.06.94-2.06 2.06-.94-2.06-.94-.94-2.06-.94 2.06-2.06.94z\"/><path d=\"M17.41 7.96l-1.37-1.37c-.4-.4-.92-.59-1.43-.59-.52 0-1.04.2-1.43.59L10.3 9.45l-7.72 7.72c-.78.78-.78 2.05 0 2.83L4 21.41c.39.39.9.59 1.41.59.51 0 1.02-.2 1.41-.59l7.78-7.78 2.81-2.81c.8-.78.8-2.07 0-2.86zM5.41 20L4 18.59l7.72-7.72 1.47 1.35L5.41 20z\"/>\n",
              "  </svg>\n",
              "      </button>\n",
              "      \n",
              "  <style>\n",
              "    .colab-df-container {\n",
              "      display:flex;\n",
              "      flex-wrap:wrap;\n",
              "      gap: 12px;\n",
              "    }\n",
              "\n",
              "    .colab-df-convert {\n",
              "      background-color: #E8F0FE;\n",
              "      border: none;\n",
              "      border-radius: 50%;\n",
              "      cursor: pointer;\n",
              "      display: none;\n",
              "      fill: #1967D2;\n",
              "      height: 32px;\n",
              "      padding: 0 0 0 0;\n",
              "      width: 32px;\n",
              "    }\n",
              "\n",
              "    .colab-df-convert:hover {\n",
              "      background-color: #E2EBFA;\n",
              "      box-shadow: 0px 1px 2px rgba(60, 64, 67, 0.3), 0px 1px 3px 1px rgba(60, 64, 67, 0.15);\n",
              "      fill: #174EA6;\n",
              "    }\n",
              "\n",
              "    [theme=dark] .colab-df-convert {\n",
              "      background-color: #3B4455;\n",
              "      fill: #D2E3FC;\n",
              "    }\n",
              "\n",
              "    [theme=dark] .colab-df-convert:hover {\n",
              "      background-color: #434B5C;\n",
              "      box-shadow: 0px 1px 3px 1px rgba(0, 0, 0, 0.15);\n",
              "      filter: drop-shadow(0px 1px 2px rgba(0, 0, 0, 0.3));\n",
              "      fill: #FFFFFF;\n",
              "    }\n",
              "  </style>\n",
              "\n",
              "      <script>\n",
              "        const buttonEl =\n",
              "          document.querySelector('#df-29f92e6b-968a-4895-ae91-6b61fc6a5b3d button.colab-df-convert');\n",
              "        buttonEl.style.display =\n",
              "          google.colab.kernel.accessAllowed ? 'block' : 'none';\n",
              "\n",
              "        async function convertToInteractive(key) {\n",
              "          const element = document.querySelector('#df-29f92e6b-968a-4895-ae91-6b61fc6a5b3d');\n",
              "          const dataTable =\n",
              "            await google.colab.kernel.invokeFunction('convertToInteractive',\n",
              "                                                     [key], {});\n",
              "          if (!dataTable) return;\n",
              "\n",
              "          const docLinkHtml = 'Like what you see? Visit the ' +\n",
              "            '<a target=\"_blank\" href=https://colab.research.google.com/notebooks/data_table.ipynb>data table notebook</a>'\n",
              "            + ' to learn more about interactive tables.';\n",
              "          element.innerHTML = '';\n",
              "          dataTable['output_type'] = 'display_data';\n",
              "          await google.colab.output.renderOutput(dataTable, element);\n",
              "          const docLink = document.createElement('div');\n",
              "          docLink.innerHTML = docLinkHtml;\n",
              "          element.appendChild(docLink);\n",
              "        }\n",
              "      </script>\n",
              "    </div>\n",
              "  </div>\n",
              "  "
            ]
          },
          "metadata": {},
          "execution_count": 41
        }
      ]
    },
    {
      "cell_type": "code",
      "source": [
        "df['pol'] = df.apply(lambda row: row.categ_txt.split(\" \")[-1], axis=1)\n",
        "df['tag_len'] = df.apply(lambda row: len(row.tagging), axis=1)\n",
        "df['categ'] = df.apply(lambda row: ' '.join(row.categ_txt.split(\" \")[:-1]), axis=1)"
      ],
      "metadata": {
        "id": "9QTayW8kgkTg"
      },
      "execution_count": null,
      "outputs": []
    },
    {
      "cell_type": "code",
      "source": [
        "count=df[df['f']=='yes'][['categ','pol']].value_counts().reset_index()"
      ],
      "metadata": {
        "id": "yd-8uruHiU1u"
      },
      "execution_count": null,
      "outputs": []
    },
    {
      "cell_type": "code",
      "source": [
        "#size of the opinions with a category\n",
        "df[df['f']=='yes'].shape"
      ],
      "metadata": {
        "colab": {
          "base_uri": "https://localhost:8080/"
        },
        "id": "YcdTPlEWAZMS",
        "outputId": "f4e08515-2542-4838-ba43-c9d2da2b8340"
      },
      "execution_count": null,
      "outputs": [
        {
          "output_type": "execute_result",
          "data": {
            "text/plain": [
              "(1504, 7)"
            ]
          },
          "metadata": {},
          "execution_count": 7
        }
      ]
    },
    {
      "cell_type": "code",
      "source": [
        "import seaborn as sns\n",
        "g = sns.catplot(\n",
        "    data=count, kind=\"bar\",  x=\"categ\", y=0, hue=\"pol\", height=3, aspect=8\n",
        ")\n",
        "g.fig.set_dpi(200)\n",
        "g.despine()\n",
        "g.set_axis_labels(\"\", \"Count\")\n",
        "g.legend.set_title(\"\")\n",
        "g.fig.suptitle('Category aspect counts by polarity')\n",
        "plt.savefig('cat_counts.png')"
      ],
      "metadata": {
        "colab": {
          "base_uri": "https://localhost:8080/",
          "height": 141
        },
        "id": "yaWiHwQnmU8k",
        "outputId": "377120d3-de7e-42b6-fb26-7a9b62e76303"
      },
      "execution_count": null,
      "outputs": [
        {
          "output_type": "display_data",
          "data": {
            "text/plain": [
              "<Figure size 5021.53x600 with 1 Axes>"
            ],
            "image/png": "[encoded data removed]"
          },
          "metadata": {
            "needs_background": "light"
          }
        }
      ]
    },
    {
      "cell_type": "code",
      "source": [
        "p=sns.displot(df, x=\"tag_len\", aspect=2)\n",
        "p.set_axis_labels(\"Number of tokens\", \"Count\")\n",
        "p.fig.suptitle(\"Opinions tokens lenght distribution\")\n",
        "plt.savefig(\"op_tokens_len.png\")"
      ],
      "metadata": {
        "colab": {
          "base_uri": "https://localhost:8080/",
          "height": 372
        },
        "id": "tMc9pkwVvWHs",
        "outputId": "662baa3b-fbc8-428e-a453-9bffdc6a5ced"
      },
      "execution_count": null,
      "outputs": [
        {
          "output_type": "display_data",
          "data": {
            "text/plain": [
              "<Figure size 720x360 with 1 Axes>"
            ],
            "image/png": "[encoded data removed]"
          },
          "metadata": {
            "needs_background": "light"
          }
        }
      ]
    },
    {
      "cell_type": "code",
      "source": [
        "from matplotlib import pyplot as plt\n",
        "fig, axes = plt.subplots(1,2,figsize=(10,5))\n",
        "df['tag_len'].plot.hist(ax=axes[0])\n",
        "df.boxplot(column=['tag_len'],ax=axes[1])\n",
        "axes[0].set_title(\"Sentences tokens count distribution\")\n",
        "axes[1].set_title(\"Boxplot Sentences tokens\")\n",
        "axes[0].set_xlabel('number of tokens')\n",
        "axes[0].set_ylabel('frequency')\n",
        "axes[1].set_ylabel('number of tokens')\n",
        "plt.savefig(\"op_tokens_len.png\")\n",
        "print(\"min:{} max:{} avg:{}\".format(df['tag_len'].min(),df['tag_len'].max(),df['tag_len'].mean()))"
      ],
      "metadata": {
        "colab": {
          "base_uri": "https://localhost:8080/",
          "height": 367
        },
        "id": "X7nRhA3Z7OeI",
        "outputId": "33f3728c-39bc-4a25-bb2d-56907e975f0f"
      },
      "execution_count": null,
      "outputs": [
        {
          "output_type": "stream",
          "name": "stdout",
          "text": [
            "min:1 max:90 avg:16.232712765957448\n"
          ]
        },
        {
          "output_type": "display_data",
          "data": {
            "text/plain": [
              "<Figure size 720x360 with 2 Axes>"
            ],
            "image/png": "[encoded data removed]"
          },
          "metadata": {
            "needs_background": "light"
          }
        }
      ]
    },
    {
      "cell_type": "code",
      "source": [
        "fig, ax = plt.subplots(figsize=(7,7))\n",
        "df['pol'].value_counts().plot.pie(ax=ax, autopct=\"%.1f%%\");\n",
        "plt.title(\"Polarity distribution of the dataset.\")\n",
        "plt.savefig(\"polarity_distribution.png\")"
      ],
      "metadata": {
        "colab": {
          "base_uri": "https://localhost:8080/",
          "height": 427
        },
        "id": "4-XsBTM250qT",
        "outputId": "b9099671-161e-44c9-c613-507519ecbde8"
      },
      "execution_count": null,
      "outputs": [
        {
          "output_type": "display_data",
          "data": {
            "text/plain": [
              "<Figure size 504x504 with 1 Axes>"
            ],
            "image/png": "[encoded data removed]"
          },
          "metadata": {}
        }
      ]
    },
    {
      "cell_type": "markdown",
      "source": [
        "# Just Aspects"
      ],
      "metadata": {
        "id": "UMGHVW79BznX"
      }
    },
    {
      "cell_type": "code",
      "source": [
        "!pip install -q tf-models-official"
      ],
      "metadata": {
        "id": "2eiQaBV8Xdu_",
        "colab": {
          "base_uri": "https://localhost:8080/"
        },
        "outputId": "da276391-1570-4157-abdc-31f7c11b98b9"
      },
      "execution_count": null,
      "outputs": [
        {
          "output_type": "stream",
          "name": "stdout",
          "text": [
            "\u001b[K     |████████████████████████████████| 2.1 MB 4.4 MB/s \n",
            "\u001b[K     |████████████████████████████████| 43 kB 1.4 MB/s \n",
            "\u001b[K     |████████████████████████████████| 237 kB 62.7 MB/s \n",
            "\u001b[K     |████████████████████████████████| 1.1 MB 50.7 MB/s \n",
            "\u001b[K     |████████████████████████████████| 636 kB 51.9 MB/s \n",
            "\u001b[K     |████████████████████████████████| 1.2 MB 42.8 MB/s \n",
            "\u001b[K     |████████████████████████████████| 92 kB 7.3 MB/s \n",
            "\u001b[K     |████████████████████████████████| 352 kB 58.5 MB/s \n",
            "\u001b[K     |████████████████████████████████| 47.8 MB 2.3 MB/s \n",
            "\u001b[K     |████████████████████████████████| 99 kB 8.8 MB/s \n",
            "\u001b[?25h  Building wheel for py-cpuinfo (setup.py) ... \u001b[?25l\u001b[?25hdone\n",
            "  Building wheel for seqeval (setup.py) ... \u001b[?25l\u001b[?25hdone\n"
          ]
        }
      ]
    },
    {
      "cell_type": "code",
      "source": [
        "import os\n",
        "import re\n",
        "import json\n",
        "import string\n",
        "import numpy as np\n",
        "import pandas as pd\n",
        "import tensorflow as tf\n",
        "from tensorflow import keras\n",
        "from tensorflow.keras import layers\n",
        "from sklearn import preprocessing\n",
        "from tensorflow.keras.utils import to_categorical\n",
        "# from official.nlp import optimization\n",
        "\n",
        "max_len=266\n",
        "query_len=10\n",
        "max_len_txt=max_len-query_len"
      ],
      "metadata": {
        "id": "PNjD8bj6By-e"
      },
      "execution_count": null,
      "outputs": []
    },
    {
      "cell_type": "code",
      "source": [
        "import pandas as pd\n",
        "df = pd.read_pickle(\"/content/drive/MyDrive/HLT/ds.pkl\")"
      ],
      "metadata": {
        "id": "kQUFlo5ltgJb"
      },
      "execution_count": null,
      "outputs": []
    },
    {
      "cell_type": "code",
      "source": [
        "#For loading hub layers from HUB in TPUs\n",
        "os.environ[\"TFHUB_MODEL_LOAD_FORMAT\"] = \"UNCOMPRESSED\""
      ],
      "metadata": {
        "id": "j_IaKwTPwb6c"
      },
      "execution_count": null,
      "outputs": []
    },
    {
      "cell_type": "code",
      "source": [
        "epochs=3\n",
        "def create_model_class():\n",
        "    ## BERT encoder\n",
        "    #encoder\n",
        "    encoder = TFBertModel.from_pretrained(\"bert-base-uncased\")\n",
        "    ## NER Model\n",
        "    input_ids = layers.Input(shape=(max_len,), dtype=tf.int32)\n",
        "    token_type_ids = layers.Input(shape=(max_len,), dtype=tf.int32)\n",
        "    attention_mask = layers.Input(shape=(max_len,), dtype=tf.int32)\n",
        "    embedding = encoder(\n",
        "        input_ids, token_type_ids=token_type_ids, attention_mask=attention_mask\n",
        "    )['last_hidden_state'][:,0]\n",
        "    # ['pooler_output']\n",
        "    embedding = layers.Dropout(0.1)(embedding)\n",
        "    l = layers.Dense(32, activation=\"tanh\")(embedding)\n",
        "    # output = layers.Dense(1, activation='sigmoid')(l)\n",
        "    output = layers.Dense(2, activation='softmax')(l)\n",
        "    \n",
        "    model = keras.Model(\n",
        "        inputs=[input_ids, token_type_ids, attention_mask],\n",
        "        outputs=[output],\n",
        "    )\n",
        "    METRICS = [\n",
        "              tf.keras.metrics.CategoricalAccuracy(),\n",
        "              tf.keras.metrics.Precision(),\n",
        "              tf.keras.metrics.Recall()\n",
        "    ]\n",
        "    loss = tf.keras.losses.BinaryCrossentropy(from_logits=True)\n",
        "    metrics = tf.metrics.BinaryAccuracy()    \n",
        "    steps_per_epoch = df.shape[0]\n",
        "    num_train_steps = steps_per_epoch * epochs\n",
        "    num_warmup_steps = int(0.1*num_train_steps)\n",
        "\n",
        "    init_lr = 3e-5\n",
        "    \"\"\"optimizer = optimization.create_optimizer(init_lr=init_lr,\n",
        "                                              num_train_steps=num_train_steps,\n",
        "                                              num_warmup_steps=num_warmup_steps,\n",
        "                                              optimizer_type='adamw')\"\"\"\n",
        "    # model.compile(loss=loss, optimizer=optimizer, metrics=metrics)\n",
        "    model.compile(optimizer=tf.keras.optimizers.Adam(learning_rate=3e-5, epsilon=1e-08, clipnorm=1.0), \n",
        "              loss=tf.keras.losses.SparseCategoricalCrossentropy(from_logits=True), \n",
        "              metrics=[tf.keras.metrics.SparseCategoricalAccuracy('accuracy')])\n",
        "\n",
        "    return model"
      ],
      "metadata": {
        "id": "YWkV2IsVD1Dd"
      },
      "execution_count": null,
      "outputs": []
    },
    {
      "cell_type": "code",
      "source": [
        "use_tpu = None\n",
        "try:\n",
        "    tpu = tf.distribute.cluster_resolver.TPUClusterResolver()\n",
        "    use_tpu = True\n",
        "except:\n",
        "    use_tpu = False\n",
        "\n",
        "if use_tpu:\n",
        "    # Create distribution strategy\n",
        "    tf.config.experimental_connect_to_cluster(tpu)\n",
        "    tf.tpu.experimental.initialize_tpu_system(tpu)\n",
        "    strategy = tf.distribute.experimental.TPUStrategy(tpu)\n",
        "\n",
        "    # Create model\n",
        "    with strategy.scope():\n",
        "        model = create_model_class()\n",
        "else:\n",
        "    model = create_model_class()\n",
        "    \n",
        "model.summary()"
      ],
      "metadata": {
        "id": "GZwWa7aiFB-b",
        "colab": {
          "base_uri": "https://localhost:8080/"
        },
        "outputId": "9479225f-a475-4591-df43-35a958b8423d"
      },
      "execution_count": null,
      "outputs": [
        {
          "output_type": "stream",
          "name": "stdout",
          "text": [
            "INFO:tensorflow:Deallocate tpu buffers before initializing tpu system.\n"
          ]
        },
        {
          "output_type": "stream",
          "name": "stderr",
          "text": [
            "INFO:tensorflow:Deallocate tpu buffers before initializing tpu system.\n"
          ]
        },
        {
          "output_type": "stream",
          "name": "stdout",
          "text": [
            "WARNING:tensorflow:TPU system grpc://10.12.21.138:8470 has already been initialized. Reinitializing the TPU can cause previously created variables on TPU to be lost.\n"
          ]
        },
        {
          "output_type": "stream",
          "name": "stderr",
          "text": [
            "WARNING:tensorflow:TPU system grpc://10.12.21.138:8470 has already been initialized. Reinitializing the TPU can cause previously created variables on TPU to be lost.\n"
          ]
        },
        {
          "output_type": "stream",
          "name": "stdout",
          "text": [
            "INFO:tensorflow:Initializing the TPU system: grpc://10.12.21.138:8470\n"
          ]
        },
        {
          "output_type": "stream",
          "name": "stderr",
          "text": [
            "INFO:tensorflow:Initializing the TPU system: grpc://10.12.21.138:8470\n"
          ]
        },
        {
          "output_type": "stream",
          "name": "stdout",
          "text": [
            "INFO:tensorflow:Finished initializing TPU system.\n"
          ]
        },
        {
          "output_type": "stream",
          "name": "stderr",
          "text": [
            "INFO:tensorflow:Finished initializing TPU system.\n",
            "WARNING:absl:`tf.distribute.experimental.TPUStrategy` is deprecated, please use  the non experimental symbol `tf.distribute.TPUStrategy` instead.\n"
          ]
        },
        {
          "output_type": "stream",
          "name": "stdout",
          "text": [
            "INFO:tensorflow:Found TPU system:\n"
          ]
        },
        {
          "output_type": "stream",
          "name": "stderr",
          "text": [
            "INFO:tensorflow:Found TPU system:\n"
          ]
        },
        {
          "output_type": "stream",
          "name": "stdout",
          "text": [
            "INFO:tensorflow:*** Num TPU Cores: 8\n"
          ]
        },
        {
          "output_type": "stream",
          "name": "stderr",
          "text": [
            "INFO:tensorflow:*** Num TPU Cores: 8\n"
          ]
        },
        {
          "output_type": "stream",
          "name": "stdout",
          "text": [
            "INFO:tensorflow:*** Num TPU Workers: 1\n"
          ]
        },
        {
          "output_type": "stream",
          "name": "stderr",
          "text": [
            "INFO:tensorflow:*** Num TPU Workers: 1\n"
          ]
        },
        {
          "output_type": "stream",
          "name": "stdout",
          "text": [
            "INFO:tensorflow:*** Num TPU Cores Per Worker: 8\n"
          ]
        },
        {
          "output_type": "stream",
          "name": "stderr",
          "text": [
            "INFO:tensorflow:*** Num TPU Cores Per Worker: 8\n"
          ]
        },
        {
          "output_type": "stream",
          "name": "stdout",
          "text": [
            "INFO:tensorflow:*** Available Device: _DeviceAttributes(/job:localhost/replica:0/task:0/device:CPU:0, CPU, 0, 0)\n"
          ]
        },
        {
          "output_type": "stream",
          "name": "stderr",
          "text": [
            "INFO:tensorflow:*** Available Device: _DeviceAttributes(/job:localhost/replica:0/task:0/device:CPU:0, CPU, 0, 0)\n"
          ]
        },
        {
          "output_type": "stream",
          "name": "stdout",
          "text": [
            "INFO:tensorflow:*** Available Device: _DeviceAttributes(/job:worker/replica:0/task:0/device:CPU:0, CPU, 0, 0)\n"
          ]
        },
        {
          "output_type": "stream",
          "name": "stderr",
          "text": [
            "INFO:tensorflow:*** Available Device: _DeviceAttributes(/job:worker/replica:0/task:0/device:CPU:0, CPU, 0, 0)\n"
          ]
        },
        {
          "output_type": "stream",
          "name": "stdout",
          "text": [
            "INFO:tensorflow:*** Available Device: _DeviceAttributes(/job:worker/replica:0/task:0/device:TPU:0, TPU, 0, 0)\n"
          ]
        },
        {
          "output_type": "stream",
          "name": "stderr",
          "text": [
            "INFO:tensorflow:*** Available Device: _DeviceAttributes(/job:worker/replica:0/task:0/device:TPU:0, TPU, 0, 0)\n"
          ]
        },
        {
          "output_type": "stream",
          "name": "stdout",
          "text": [
            "INFO:tensorflow:*** Available Device: _DeviceAttributes(/job:worker/replica:0/task:0/device:TPU:1, TPU, 0, 0)\n"
          ]
        },
        {
          "output_type": "stream",
          "name": "stderr",
          "text": [
            "INFO:tensorflow:*** Available Device: _DeviceAttributes(/job:worker/replica:0/task:0/device:TPU:1, TPU, 0, 0)\n"
          ]
        },
        {
          "output_type": "stream",
          "name": "stdout",
          "text": [
            "INFO:tensorflow:*** Available Device: _DeviceAttributes(/job:worker/replica:0/task:0/device:TPU:2, TPU, 0, 0)\n"
          ]
        },
        {
          "output_type": "stream",
          "name": "stderr",
          "text": [
            "INFO:tensorflow:*** Available Device: _DeviceAttributes(/job:worker/replica:0/task:0/device:TPU:2, TPU, 0, 0)\n"
          ]
        },
        {
          "output_type": "stream",
          "name": "stdout",
          "text": [
            "INFO:tensorflow:*** Available Device: _DeviceAttributes(/job:worker/replica:0/task:0/device:TPU:3, TPU, 0, 0)\n"
          ]
        },
        {
          "output_type": "stream",
          "name": "stderr",
          "text": [
            "INFO:tensorflow:*** Available Device: _DeviceAttributes(/job:worker/replica:0/task:0/device:TPU:3, TPU, 0, 0)\n"
          ]
        },
        {
          "output_type": "stream",
          "name": "stdout",
          "text": [
            "INFO:tensorflow:*** Available Device: _DeviceAttributes(/job:worker/replica:0/task:0/device:TPU:4, TPU, 0, 0)\n"
          ]
        },
        {
          "output_type": "stream",
          "name": "stderr",
          "text": [
            "INFO:tensorflow:*** Available Device: _DeviceAttributes(/job:worker/replica:0/task:0/device:TPU:4, TPU, 0, 0)\n"
          ]
        },
        {
          "output_type": "stream",
          "name": "stdout",
          "text": [
            "INFO:tensorflow:*** Available Device: _DeviceAttributes(/job:worker/replica:0/task:0/device:TPU:5, TPU, 0, 0)\n"
          ]
        },
        {
          "output_type": "stream",
          "name": "stderr",
          "text": [
            "INFO:tensorflow:*** Available Device: _DeviceAttributes(/job:worker/replica:0/task:0/device:TPU:5, TPU, 0, 0)\n"
          ]
        },
        {
          "output_type": "stream",
          "name": "stdout",
          "text": [
            "INFO:tensorflow:*** Available Device: _DeviceAttributes(/job:worker/replica:0/task:0/device:TPU:6, TPU, 0, 0)\n"
          ]
        },
        {
          "output_type": "stream",
          "name": "stderr",
          "text": [
            "INFO:tensorflow:*** Available Device: _DeviceAttributes(/job:worker/replica:0/task:0/device:TPU:6, TPU, 0, 0)\n"
          ]
        },
        {
          "output_type": "stream",
          "name": "stdout",
          "text": [
            "INFO:tensorflow:*** Available Device: _DeviceAttributes(/job:worker/replica:0/task:0/device:TPU:7, TPU, 0, 0)\n"
          ]
        },
        {
          "output_type": "stream",
          "name": "stderr",
          "text": [
            "INFO:tensorflow:*** Available Device: _DeviceAttributes(/job:worker/replica:0/task:0/device:TPU:7, TPU, 0, 0)\n"
          ]
        },
        {
          "output_type": "stream",
          "name": "stdout",
          "text": [
            "INFO:tensorflow:*** Available Device: _DeviceAttributes(/job:worker/replica:0/task:0/device:TPU_SYSTEM:0, TPU_SYSTEM, 0, 0)\n"
          ]
        },
        {
          "output_type": "stream",
          "name": "stderr",
          "text": [
            "INFO:tensorflow:*** Available Device: _DeviceAttributes(/job:worker/replica:0/task:0/device:TPU_SYSTEM:0, TPU_SYSTEM, 0, 0)\n"
          ]
        },
        {
          "output_type": "stream",
          "name": "stdout",
          "text": [
            "INFO:tensorflow:*** Available Device: _DeviceAttributes(/job:worker/replica:0/task:0/device:XLA_CPU:0, XLA_CPU, 0, 0)\n"
          ]
        },
        {
          "output_type": "stream",
          "name": "stderr",
          "text": [
            "INFO:tensorflow:*** Available Device: _DeviceAttributes(/job:worker/replica:0/task:0/device:XLA_CPU:0, XLA_CPU, 0, 0)\n",
            "Some layers from the model checkpoint at bert-base-uncased were not used when initializing TFBertModel: ['mlm___cls', 'nsp___cls']\n",
            "- This IS expected if you are initializing TFBertModel from the checkpoint of a model trained on another task or with another architecture (e.g. initializing a BertForSequenceClassification model from a BertForPreTraining model).\n",
            "- This IS NOT expected if you are initializing TFBertModel from the checkpoint of a model that you expect to be exactly identical (initializing a BertForSequenceClassification model from a BertForSequenceClassification model).\n",
            "All the layers of TFBertModel were initialized from the model checkpoint at bert-base-uncased.\n",
            "If your task is similar to the task the model of the checkpoint was trained on, you can already use TFBertModel for predictions without further training.\n"
          ]
        },
        {
          "output_type": "stream",
          "name": "stdout",
          "text": [
            "Model: \"model_2\"\n",
            "__________________________________________________________________________________________________\n",
            " Layer (type)                   Output Shape         Param #     Connected to                     \n",
            "==================================================================================================\n",
            " input_7 (InputLayer)           [(None, 266)]        0           []                               \n",
            "                                                                                                  \n",
            " input_9 (InputLayer)           [(None, 266)]        0           []                               \n",
            "                                                                                                  \n",
            " input_8 (InputLayer)           [(None, 266)]        0           []                               \n",
            "                                                                                                  \n",
            " tf_bert_model_2 (TFBertModel)  TFBaseModelOutputWi  109482240   ['input_7[0][0]',                \n",
            "                                thPoolingAndCrossAt               'input_9[0][0]',                \n",
            "                                tentions(last_hidde               'input_8[0][0]']                \n",
            "                                n_state=(None, 266,                                               \n",
            "                                 768),                                                            \n",
            "                                 pooler_output=(Non                                               \n",
            "                                e, 768),                                                          \n",
            "                                 past_key_values=No                                               \n",
            "                                ne, hidden_states=N                                               \n",
            "                                one, attentions=Non                                               \n",
            "                                e, cross_attentions                                               \n",
            "                                =None)                                                            \n",
            "                                                                                                  \n",
            " tf.__operators__.getitem_2 (Sl  (None, 768)         0           ['tf_bert_model_2[0][0]']        \n",
            " icingOpLambda)                                                                                   \n",
            "                                                                                                  \n",
            " dropout_113 (Dropout)          (None, 768)          0           ['tf.__operators__.getitem_2[0][0\n",
            "                                                                 ]']                              \n",
            "                                                                                                  \n",
            " dense_4 (Dense)                (None, 32)           24608       ['dropout_113[0][0]']            \n",
            "                                                                                                  \n",
            " dense_5 (Dense)                (None, 2)            66          ['dense_4[0][0]']                \n",
            "                                                                                                  \n",
            "==================================================================================================\n",
            "Total params: 109,506,914\n",
            "Trainable params: 109,506,914\n",
            "Non-trainable params: 0\n",
            "__________________________________________________________________________________________________\n"
          ]
        }
      ]
    },
    {
      "cell_type": "code",
      "source": [
        "def tokenize_couple(ex):\n",
        "  dct=slow_tokenizer(ex[0], max_length=max_len_txt, padding='max_length')\n",
        "  dct2=slow_tokenizer(ex[1]+\"[SEP]\",add_special_tokens=False,max_length=query_len, padding='max_length')\n",
        "  dct2['token_type_ids']=[1 for i in range(query_len)]\n",
        "  dct['input_ids'].extend(dct2['input_ids'])\n",
        "  dct['token_type_ids'].extend(dct2['token_type_ids'])\n",
        "  dct['attention_mask'].extend(dct2['attention_mask'])\n",
        "  return dct"
      ],
      "metadata": {
        "id": "F21WnnHfVt9J"
      },
      "execution_count": null,
      "outputs": []
    },
    {
      "cell_type": "code",
      "source": [
        "def create_inputs_targets():\n",
        "  input_ids= []\n",
        "  token_type_ids= []\n",
        "  attention_mask= []\n",
        "  tags = []\n",
        "  f = []\n",
        "  for i, row in df.iterrows():\n",
        "    dic = tokenize_couple((row['txt'],row['categ_txt']))\n",
        "    tagging = [0]+list(map(lambda x: 0 if x=='O' else 1 if x=='B' else 2,row['tagging']))+[0]\n",
        "    tagging.extend([3]*(max_len_txt-len(tagging)-1))\n",
        "    input_ids.append(dic['input_ids'])\n",
        "    token_type_ids.append(dic['token_type_ids'])\n",
        "    attention_mask.append(dic['attention_mask'])\n",
        "    tags.append(tagging)\n",
        "    f.append(1 if row['f']=='yes' else 0)          \n",
        "  x = [\n",
        "      tf.convert_to_tensor(np.array(input_ids), dtype=tf.dtypes.int32),\n",
        "      tf.convert_to_tensor(np.array(token_type_ids), dtype=tf.dtypes.int32),\n",
        "      tf.convert_to_tensor(np.array(attention_mask), dtype=tf.dtypes.int32),\n",
        "  ]\n",
        "  return x, tf.convert_to_tensor(np.array(tags,dtype=np.dtype('i')),dtype=tf.dtypes.int32), tf.convert_to_tensor(np.array(f,dtype=np.dtype('i')),dtype=tf.dtypes.int32)"
      ],
      "metadata": {
        "id": "0BMfzt3sUDOj"
      },
      "execution_count": null,
      "outputs": []
    },
    {
      "cell_type": "code",
      "source": [
        "df['f'].value_counts().sort_values().plot(kind = 'barh')\n",
        "df['f'].value_counts()"
      ],
      "metadata": {
        "id": "66wWH6IGEwsl",
        "colab": {
          "base_uri": "https://localhost:8080/",
          "height": 317
        },
        "outputId": "226711e8-77f3-435f-9f41-a6f49d804be8"
      },
      "execution_count": null,
      "outputs": [
        {
          "output_type": "execute_result",
          "data": {
            "text/plain": [
              "no     1504\n",
              "yes    1504\n",
              "Name: f, dtype: int64"
            ]
          },
          "metadata": {},
          "execution_count": 71
        },
        {
          "output_type": "display_data",
          "data": {
            "text/plain": [
              "<Figure size 432x288 with 1 Axes>"
            ],
            "image/png": "[encoded data removed]"
          },
          "metadata": {
            "needs_background": "light"
          }
        }
      ]
    },
    {
      "cell_type": "code",
      "source": [
        "# x_train, y_train, val_x, val_y = create_ds()\n",
        "x_train, y_train_t, y_train = create_inputs_targets()"
      ],
      "metadata": {
        "id": "eWLCWO9nJddn"
      },
      "execution_count": null,
      "outputs": []
    },
    {
      "cell_type": "code",
      "source": [
        "bs=8\n",
        "epochs = 3\n",
        "\"\"\"history = model.fit(\n",
        "    x_train,\n",
        "    y_train,\n",
        "    epochs=1,\n",
        "    verbose=1,\n",
        "    batch_size=bs,\n",
        "    validation_split=0.1\n",
        ")\"\"\"\n",
        "history = model.fit(x=x_train, y=y_train,\n",
        "                    validation_split=0.1, batch_size=bs,\n",
        "                               epochs=epochs)"
      ],
      "metadata": {
        "id": "8z1LDFw6JjnX",
        "colab": {
          "base_uri": "https://localhost:8080/"
        },
        "outputId": "6eb06ecf-486b-4abc-85b4-294343272b69"
      },
      "execution_count": null,
      "outputs": [
        {
          "output_type": "stream",
          "name": "stdout",
          "text": [
            "Epoch 1/3\n"
          ]
        },
        {
          "output_type": "stream",
          "name": "stderr",
          "text": [
            "/usr/local/lib/python3.7/dist-packages/tensorflow/python/util/dispatch.py:1082: UserWarning: \"`sparse_categorical_crossentropy` received `from_logits=True`, but the `output` argument was produced by a sigmoid or softmax activation and thus does not represent logits. Was this intended?\"\n",
            "  return dispatch_target(*args, **kwargs)\n"
          ]
        },
        {
          "output_type": "stream",
          "name": "stdout",
          "text": [
            "WARNING:tensorflow:Gradients do not exist for variables ['tf_bert_model_2/bert/pooler/dense/kernel:0', 'tf_bert_model_2/bert/pooler/dense/bias:0'] when minimizing the loss. If you're using `model.compile()`, did you forget to provide a `loss`argument?\n"
          ]
        },
        {
          "output_type": "stream",
          "name": "stderr",
          "text": [
            "WARNING:tensorflow:Gradients do not exist for variables ['tf_bert_model_2/bert/pooler/dense/kernel:0', 'tf_bert_model_2/bert/pooler/dense/bias:0'] when minimizing the loss. If you're using `model.compile()`, did you forget to provide a `loss`argument?\n"
          ]
        },
        {
          "output_type": "stream",
          "name": "stdout",
          "text": [
            "WARNING:tensorflow:Gradients do not exist for variables ['tf_bert_model_2/bert/pooler/dense/kernel:0', 'tf_bert_model_2/bert/pooler/dense/bias:0'] when minimizing the loss. If you're using `model.compile()`, did you forget to provide a `loss`argument?\n"
          ]
        },
        {
          "output_type": "stream",
          "name": "stderr",
          "text": [
            "WARNING:tensorflow:Gradients do not exist for variables ['tf_bert_model_2/bert/pooler/dense/kernel:0', 'tf_bert_model_2/bert/pooler/dense/bias:0'] when minimizing the loss. If you're using `model.compile()`, did you forget to provide a `loss`argument?\n"
          ]
        },
        {
          "output_type": "stream",
          "name": "stdout",
          "text": [
            "339/339 [==============================] - 142s 125ms/step - loss: 0.4940 - accuracy: 0.7606 - val_loss: 0.4017 - val_accuracy: 0.8538\n",
            "Epoch 2/3\n",
            "339/339 [==============================] - 31s 93ms/step - loss: 0.2670 - accuracy: 0.8932 - val_loss: 0.4445 - val_accuracy: 0.8272\n",
            "Epoch 3/3\n",
            "339/339 [==============================] - 31s 93ms/step - loss: 0.1470 - accuracy: 0.9512 - val_loss: 0.4240 - val_accuracy: 0.8870\n"
          ]
        }
      ]
    },
    {
      "cell_type": "code",
      "source": [
        "import matplotlib.pyplot as plt\n",
        "history_dict = history.history\n",
        "print(history_dict.keys())\n",
        "\n",
        "acc = history_dict['accuracy']\n",
        "val_acc = history_dict['val_accuracy']\n",
        "loss = history_dict['loss']\n",
        "val_loss = history_dict['val_loss']\n",
        "\n",
        "epochs = range(1, len(acc) + 1)\n",
        "fig = plt.figure(figsize=(10, 6))\n",
        "fig.tight_layout()\n",
        "\n",
        "plt.subplot(2, 1, 1)\n",
        "# r is for \"solid red line\"\n",
        "plt.plot(epochs, loss, 'r', label='Training loss')\n",
        "# b is for \"solid blue line\"\n",
        "plt.plot(epochs, val_loss, 'b', label='Validation loss')\n",
        "plt.title('Training and validation loss')\n",
        "# plt.xlabel('Epochs')\n",
        "plt.ylabel('Loss')\n",
        "plt.legend()\n",
        "\n",
        "plt.subplot(2, 1, 2)\n",
        "plt.plot(epochs, acc, 'r', label='Training acc')\n",
        "plt.plot(epochs, val_acc, 'b', label='Validation acc')\n",
        "plt.title('Training and validation accuracy')\n",
        "plt.xlabel('Epochs')\n",
        "plt.ylabel('Accuracy')\n",
        "plt.legend(loc='lower right')"
      ],
      "metadata": {
        "id": "Wq77BmmUhlln",
        "colab": {
          "base_uri": "https://localhost:8080/",
          "height": 439
        },
        "outputId": "ae1aefde-45e7-4bc2-e5ca-965c91eca253"
      },
      "execution_count": null,
      "outputs": [
        {
          "output_type": "stream",
          "name": "stdout",
          "text": [
            "dict_keys(['loss', 'accuracy', 'val_loss', 'val_accuracy'])\n"
          ]
        },
        {
          "output_type": "execute_result",
          "data": {
            "text/plain": [
              "<matplotlib.legend.Legend at 0x7f0c4b56e050>"
            ]
          },
          "metadata": {},
          "execution_count": 85
        },
        {
          "output_type": "display_data",
          "data": {
            "text/plain": [
              "<Figure size 720x432 with 2 Axes>"
            ],
            "image/png": "[encoded data removed]"
          },
          "metadata": {
            "needs_background": "light"
          }
        }
      ]
    },
    {
      "cell_type": "markdown",
      "source": [
        "**Inference**"
      ],
      "metadata": {
        "id": "tf5PbY2gZBIZ"
      }
    },
    {
      "cell_type": "code",
      "source": [
        "#Inference\n",
        "# c=(\"The pizza was very good but the service wasn't.\",\"food quality positive\")\n",
        "# c=(\"The pastas are incredible, the risottos (particularly the sepia) are fantastic and the braised rabbit is amazing.\", \"food quality positive\")\n",
        "c=(\"The spaghetti were very tasty.\",\"food quality positive\")\n",
        "tokens=tokenize_couple(c)\n",
        "x = [np.array([tokens['input_ids']]), np.array([tokens['token_type_ids']]), np.array([tokens['attention_mask']])]\n",
        "out = model.predict(x)\n",
        "out"
      ],
      "metadata": {
        "colab": {
          "base_uri": "https://localhost:8080/"
        },
        "id": "B-I5f__7ZAot",
        "outputId": "93c6084a-5f26-492e-ea18-061c89dc5ea9"
      },
      "execution_count": null,
      "outputs": [
        {
          "output_type": "execute_result",
          "data": {
            "text/plain": [
              "array([[0.00980832, 0.99019176]], dtype=float32)"
            ]
          },
          "metadata": {},
          "execution_count": 86
        }
      ]
    },
    {
      "cell_type": "code",
      "source": [
        "# model.save(\"/content/drive/MyDrive/HLT/class_model_balanced.h5\")"
      ],
      "metadata": {
        "id": "dNex3os9DkV-"
      },
      "execution_count": null,
      "outputs": []
    },
    {
      "cell_type": "markdown",
      "metadata": {
        "id": "vSlujw-M33Su"
      },
      "source": [
        "# Just Entity recognition"
      ]
    },
    {
      "cell_type": "code",
      "source": [
        "import os\n",
        "import re\n",
        "import json\n",
        "import string\n",
        "import numpy as np\n",
        "import pandas as pd\n",
        "import tensorflow as tf\n",
        "from tensorflow import keras\n",
        "from tensorflow.keras import layers\n",
        "from sklearn import preprocessing\n",
        "\n",
        "max_len=266\n",
        "query_len=10\n",
        "max_len_txt=max_len-query_len"
      ],
      "metadata": {
        "id": "T7z57oNh8bp9"
      },
      "execution_count": null,
      "outputs": []
    },
    {
      "cell_type": "code",
      "source": [
        "import pandas as pd\n",
        "df = pd.read_pickle(\"/content/drive/MyDrive/HLT/ds.pkl\")"
      ],
      "metadata": {
        "id": "6mW75jPUkLYS"
      },
      "execution_count": null,
      "outputs": []
    },
    {
      "cell_type": "code",
      "source": [
        "ex = (\"Not impressed with the food.\",\"food quality negative\")\n",
        "def tokenize_couple(ex):\n",
        "  dct=slow_tokenizer(ex[0], max_length=max_len_txt, padding='max_length')\n",
        "  dct2=slow_tokenizer(ex[1]+\"[SEP]\",add_special_tokens=False,max_length=query_len, padding='max_length')\n",
        "  dct2['token_type_ids']=[1 for i in range(query_len)]\n",
        "  dct['input_ids'].extend(dct2['input_ids'])\n",
        "  dct['token_type_ids'].extend(dct2['token_type_ids'])\n",
        "  dct['attention_mask'].extend(dct2['attention_mask'])\n",
        "  return dct\n",
        "len(tokenize_couple(ex)['input_ids'])"
      ],
      "metadata": {
        "colab": {
          "base_uri": "https://localhost:8080/"
        },
        "id": "pXa0NV7SFAmm",
        "outputId": "8184d649-c05b-4e47-99b8-95b67e40b1b7"
      },
      "execution_count": null,
      "outputs": [
        {
          "output_type": "execute_result",
          "data": {
            "text/plain": [
              "266"
            ]
          },
          "metadata": {},
          "execution_count": 15
        }
      ]
    },
    {
      "cell_type": "code",
      "execution_count": null,
      "metadata": {
        "id": "rorRlUer-shD"
      },
      "outputs": [],
      "source": [
        "def create_inputs_targets():\n",
        "  input_ids= []\n",
        "  token_type_ids= []\n",
        "  attention_mask= []\n",
        "  tags = []\n",
        "  for i, row in df.iterrows():\n",
        "    dic = tokenize_couple((row['txt'],row['categ_txt']))\n",
        "    tagging = [0]+list(map(lambda x: 0 if x=='O' else 1 if x=='B' else 2,row['tagging']))+[0]\n",
        "    tagging.extend([3]*(max_len_txt-len(tagging)-1))\n",
        "    input_ids.append(dic['input_ids'])\n",
        "    token_type_ids.append(dic['token_type_ids'])\n",
        "    attention_mask.append(dic['attention_mask'])\n",
        "    tags.append(tagging)          \n",
        "  x = [\n",
        "      tf.convert_to_tensor(np.array(input_ids), dtype=tf.dtypes.int32),\n",
        "      tf.convert_to_tensor(np.array(token_type_ids), dtype=tf.dtypes.int32),\n",
        "      tf.convert_to_tensor(np.array(attention_mask), dtype=tf.dtypes.int32),\n",
        "  ]\n",
        "  return x, tf.convert_to_tensor(np.array(tags,dtype=np.dtype('i')),dtype=tf.dtypes.int32)"
      ]
    },
    {
      "cell_type": "code",
      "execution_count": null,
      "metadata": {
        "id": "7dY5OwkZUXna"
      },
      "outputs": [],
      "source": [
        "x_train, y_train = create_inputs_targets()"
      ]
    },
    {
      "cell_type": "code",
      "execution_count": null,
      "metadata": {
        "id": "gIUqIaS_32g3"
      },
      "outputs": [],
      "source": [
        "loss_object = tf.keras.losses.SparseCategoricalCrossentropy(\n",
        "    from_logits=False, reduction=tf.keras.losses.Reduction.NONE\n",
        ")\n",
        "\n",
        "\n",
        "def masked_ce_loss(real, pred):\n",
        "    mask = tf.math.logical_not(tf.math.equal(real, 3))\n",
        "    loss_ = loss_object(real, pred)\n",
        "    mask = tf.cast(mask, dtype=loss_.dtype)\n",
        "    loss_ *= mask\n",
        "    return tf.reduce_mean(loss_)\n",
        "\n",
        "def create_model(num_tags):\n",
        "    ## BERT encoder\n",
        "    encoder = TFBertModel.from_pretrained(\"bert-base-uncased\")\n",
        "\n",
        "    ## NER Model\n",
        "    input_ids = layers.Input(shape=(max_len,), dtype=tf.int32)\n",
        "    token_type_ids = layers.Input(shape=(max_len,), dtype=tf.int32)\n",
        "    attention_mask = layers.Input(shape=(max_len,), dtype=tf.int32)\n",
        "    embedding = encoder(\n",
        "        input_ids, token_type_ids=token_type_ids, attention_mask=attention_mask\n",
        "    )['last_hidden_state'][:,:max_len_txt-1,:]\n",
        "    embedding = layers.Dropout(0.2)(embedding)\n",
        "    l = layers.Dense(32,activation=\"tanh\")(embedding)\n",
        "    tag_logits = layers.Dense(num_tags, activation='softmax')(l)\n",
        "    \n",
        "    model = keras.Model(\n",
        "        inputs=[input_ids, token_type_ids, attention_mask],\n",
        "        outputs=[tag_logits],\n",
        "    )\n",
        "    optimizer = keras.optimizers.Adam(learning_rate=3e-5)\n",
        "    model.compile(optimizer=optimizer, loss=masked_ce_loss, metrics=['accuracy'])\n",
        "    return model"
      ]
    },
    {
      "cell_type": "code",
      "source": [
        "def our_accuracy(y_true, y_pred):\n",
        "  y_true = tf.cast(y_true, tf.int32, name=None)\n",
        "  y_pred = tf.cast(y_pred, tf.int32, name=None)\n",
        "  mask = tf.math.logical_not(tf.math.equal(y_true, 3))\n",
        "  total_no_padding = tf.reduce_sum(tf.cast(mask, tf.int32))\n",
        "  mask = tf.cast(mask, dtype=tf.int32)\n",
        "  # argmax_out = np.argmax(y_pred,-1)\n",
        "  argmax_out = tf.math.argmax(\n",
        "    y_pred,\n",
        "    axis=-1,\n",
        "    output_type=tf.dtypes.int32,\n",
        "    name=None\n",
        "  )\n",
        "  print(y_true)\n",
        "  print(mask)\n",
        "  y_true *= mask\n",
        "  argmax_out *= mask\n",
        "  elements_equal_to_value = tf.equal(y_true, argmax_out)\n",
        "  as_ints = tf.cast(elements_equal_to_value, tf.int32)\n",
        "  count = tf.reduce_sum(as_ints)\n",
        "  res = (count-(tf.size(y_true)-total_no_padding))/total_no_padding\n",
        "  return res"
      ],
      "metadata": {
        "id": "ktGowl4E4L4t"
      },
      "execution_count": null,
      "outputs": []
    },
    {
      "cell_type": "code",
      "execution_count": null,
      "metadata": {
        "id": "Q2jAoOvg4_GO"
      },
      "outputs": [],
      "source": [
        "num_tags = 4 # BIOP\n",
        "use_tpu = None\n",
        "try:\n",
        "    tpu = tf.distribute.cluster_resolver.TPUClusterResolver()\n",
        "    use_tpu = True\n",
        "except:\n",
        "    use_tpu = False\n",
        "\n",
        "if use_tpu:\n",
        "    # Create distribution strategy\n",
        "    tf.config.experimental_connect_to_cluster(tpu)\n",
        "    tf.tpu.experimental.initialize_tpu_system(tpu)\n",
        "    strategy = tf.distribute.experimental.TPUStrategy(tpu)\n",
        "\n",
        "    # Create model\n",
        "    with strategy.scope():\n",
        "        model = create_model(num_tags)\n",
        "else:\n",
        "    model = create_model(num_tags)\n",
        "    \n",
        "model.summary()"
      ]
    },
    {
      "cell_type": "code",
      "execution_count": null,
      "metadata": {
        "id": "jXYDVfmR-Mw3",
        "colab": {
          "base_uri": "https://localhost:8080/"
        },
        "outputId": "9a18c89e-b72c-4a6c-aed4-70fa3ea3ba77"
      },
      "outputs": [
        {
          "output_type": "stream",
          "name": "stdout",
          "text": [
            "Epoch 1/2\n",
            "WARNING:tensorflow:Gradients do not exist for variables ['tf_bert_model_3/bert/pooler/dense/kernel:0', 'tf_bert_model_3/bert/pooler/dense/bias:0'] when minimizing the loss. If you're using `model.compile()`, did you forget to provide a `loss`argument?\n"
          ]
        },
        {
          "output_type": "stream",
          "name": "stderr",
          "text": [
            "WARNING:tensorflow:Gradients do not exist for variables ['tf_bert_model_3/bert/pooler/dense/kernel:0', 'tf_bert_model_3/bert/pooler/dense/bias:0'] when minimizing the loss. If you're using `model.compile()`, did you forget to provide a `loss`argument?\n"
          ]
        },
        {
          "output_type": "stream",
          "name": "stdout",
          "text": [
            "WARNING:tensorflow:Gradients do not exist for variables ['tf_bert_model_3/bert/pooler/dense/kernel:0', 'tf_bert_model_3/bert/pooler/dense/bias:0'] when minimizing the loss. If you're using `model.compile()`, did you forget to provide a `loss`argument?\n"
          ]
        },
        {
          "output_type": "stream",
          "name": "stderr",
          "text": [
            "WARNING:tensorflow:Gradients do not exist for variables ['tf_bert_model_3/bert/pooler/dense/kernel:0', 'tf_bert_model_3/bert/pooler/dense/bias:0'] when minimizing the loss. If you're using `model.compile()`, did you forget to provide a `loss`argument?\n"
          ]
        },
        {
          "output_type": "stream",
          "name": "stdout",
          "text": [
            "170/170 [==============================] - 126s 167ms/step - loss: nan - accuracy: 0.0678 - val_loss: nan - val_accuracy: 0.0716\n",
            "Epoch 2/2\n",
            "170/170 [==============================] - 16s 93ms/step - loss: nan - accuracy: 0.0689 - val_loss: nan - val_accuracy: 0.0722\n"
          ]
        },
        {
          "output_type": "execute_result",
          "data": {
            "text/plain": [
              "<keras.callbacks.History at 0x7f0c4429cd90>"
            ]
          },
          "metadata": {},
          "execution_count": 93
        }
      ],
      "source": [
        "bs = 16\n",
        "# bs=8\n",
        "\n",
        "model.fit(\n",
        "    x_train,\n",
        "    y_train,\n",
        "    epochs=2,\n",
        "    verbose=1,\n",
        "    batch_size=bs,\n",
        "    validation_split=0.1\n",
        ")"
      ]
    },
    {
      "cell_type": "markdown",
      "source": [
        "**Inference**"
      ],
      "metadata": {
        "id": "c4fvLiKBOtSc"
      }
    },
    {
      "cell_type": "code",
      "execution_count": null,
      "metadata": {
        "id": "3C8NgjHyDWnu",
        "colab": {
          "base_uri": "https://localhost:8080/"
        },
        "outputId": "cd9f6460-ee5a-45e3-c069-8b1ead64454c"
      },
      "outputs": [
        {
          "output_type": "stream",
          "name": "stdout",
          "text": [
            "[CLS]-O \n",
            "the-O \n",
            "pizza-O \n",
            "was-O \n",
            "very-O \n",
            "good-O \n",
            "but-O \n",
            "the-O \n",
            "service-B \n",
            "wasn-O \n",
            "'-O \n",
            "t-O \n",
            ".-O \n",
            "[SEP]-O \n"
          ]
        }
      ],
      "source": [
        "c=(\"The pizza was very good but the service wasn't.\",\"food quality negative\")\n",
        "# c=(\"The spaghetti were very tasty.\",\"food general positive\")\n",
        "tokens=tokenize_couple(c)\n",
        "x = [np.array([tokens['input_ids']]), np.array([tokens['token_type_ids']]), np.array([tokens['attention_mask']])]\n",
        "out = model.predict(x)\n",
        "out = np.array(out)\n",
        "argmax_out = np.argmax(out,-1)\n",
        "tag_list = [\"O\",\"B\",\"I\",\"P\"]\n",
        "for i,t in enumerate(slow_tokenizer.tokenize(\"[CLS]\"+c[0]+\"[SEP]\")):\n",
        "  print(\"{}-{} \".format(t,tag_list[argmax_out[0][i]]))"
      ]
    },
    {
      "cell_type": "markdown",
      "source": [
        "**Save the model**"
      ],
      "metadata": {
        "id": "VdYLSVtF8r_2"
      }
    },
    {
      "cell_type": "code",
      "source": [
        "# model.save(\"/content/drive/MyDrive/HLT/ner_model_balanced.h5\")"
      ],
      "metadata": {
        "id": "MOF5Lz0n8rUu"
      },
      "execution_count": null,
      "outputs": []
    },
    {
      "cell_type": "markdown",
      "source": [
        "# Final model"
      ],
      "metadata": {
        "id": "RXpxaJE7Vq77"
      }
    },
    {
      "cell_type": "code",
      "source": [
        "import os\n",
        "import re\n",
        "import json\n",
        "import string\n",
        "import numpy as np\n",
        "import pandas as pd\n",
        "import tensorflow as tf\n",
        "from tensorflow import keras\n",
        "from tensorflow.keras import layers\n",
        "from sklearn import preprocessing\n",
        "\n",
        "max_len=266\n",
        "query_len=10\n",
        "max_len_txt=max_len-query_len\n",
        "\n",
        "import pandas as pd\n",
        "df = pd.read_pickle(\"/content/drive/MyDrive/HLT/ds.pkl\")"
      ],
      "metadata": {
        "id": "UGjwKA9MVuDF"
      },
      "execution_count": null,
      "outputs": []
    },
    {
      "cell_type": "code",
      "source": [
        "def tokenize_couple(ex):\n",
        "  dct=slow_tokenizer(ex[0], max_length=max_len_txt, padding='max_length')\n",
        "  dct2=slow_tokenizer(ex[1]+\"[SEP]\",add_special_tokens=False,max_length=query_len, padding='max_length')\n",
        "  dct2['token_type_ids']=[1 for i in range(query_len)]\n",
        "  dct['input_ids'].extend(dct2['input_ids'])\n",
        "  dct['token_type_ids'].extend(dct2['token_type_ids'])\n",
        "  dct['attention_mask'].extend(dct2['attention_mask'])\n",
        "  return dct"
      ],
      "metadata": {
        "id": "qFQgGXtZWgmT"
      },
      "execution_count": null,
      "outputs": []
    },
    {
      "cell_type": "code",
      "source": [
        "def create_inputs_targets():\n",
        "  input_ids= []\n",
        "  token_type_ids= []\n",
        "  attention_mask= []\n",
        "  tags = []\n",
        "  f = []\n",
        "  for i, row in df.iterrows():\n",
        "    dic = tokenize_couple((row['txt'],row['categ_txt']))\n",
        "    tagging = [0]+list(map(lambda x: 0 if x=='O' else 1 if x=='B' else 2,row['tagging']))+[0]\n",
        "    tagging.extend([3]*(max_len_txt-len(tagging)-1))\n",
        "    input_ids.append(dic['input_ids'])\n",
        "    token_type_ids.append(dic['token_type_ids'])\n",
        "    attention_mask.append(dic['attention_mask'])\n",
        "    tags.append(tagging)\n",
        "    f.append(1 if row['f']=='yes' else 0)          \n",
        "  x = [\n",
        "      tf.convert_to_tensor(np.array(input_ids[100:]), dtype=tf.dtypes.int32),\n",
        "      tf.convert_to_tensor(np.array(token_type_ids[100:]), dtype=tf.dtypes.int32),\n",
        "      tf.convert_to_tensor(np.array(attention_mask[100:]), dtype=tf.dtypes.int32),\n",
        "  ]\n",
        "  x_val = [      \n",
        "      tf.convert_to_tensor(np.array(input_ids[:100]), dtype=tf.dtypes.int32),\n",
        "      tf.convert_to_tensor(np.array(token_type_ids[:100]), dtype=tf.dtypes.int32),\n",
        "      tf.convert_to_tensor(np.array(attention_mask[:100]), dtype=tf.dtypes.int32),\n",
        "  ]\n",
        "  return x, tf.convert_to_tensor(np.array(tags[100:],dtype=np.dtype('i')),dtype=tf.dtypes.int32), tf.convert_to_tensor(np.array(f[100:],dtype=np.dtype('i')),dtype=tf.dtypes.int32), x_val, tf.convert_to_tensor(np.array(tags[:100],dtype=np.dtype('i')),dtype=tf.dtypes.int32), tf.convert_to_tensor(np.array(f[:100],dtype=np.dtype('i')),dtype=tf.dtypes.int32)"
      ],
      "metadata": {
        "id": "f6iauKfDWkxv"
      },
      "execution_count": null,
      "outputs": []
    },
    {
      "cell_type": "code",
      "source": [
        "x_train, y_train_t, y_train_f, x_valid, y_valid_t, y_valid_f = create_inputs_targets()"
      ],
      "metadata": {
        "id": "-bqOUzg6Woox"
      },
      "execution_count": null,
      "outputs": []
    },
    {
      "cell_type": "code",
      "source": [
        "loss_object = tf.keras.losses.SparseCategoricalCrossentropy(\n",
        "    from_logits=False, reduction=tf.keras.losses.Reduction.NONE\n",
        ")\n",
        "\n",
        "def masked_ce_loss(real, pred):\n",
        "    mask = tf.math.logical_not(tf.math.equal(real, 3))\n",
        "    loss_ = loss_object(real, pred)\n",
        "    mask = tf.cast(mask, dtype=loss_.dtype)\n",
        "    loss_ *= mask\n",
        "    return tf.reduce_mean(loss_)\n",
        "\n",
        "def create_model(num_tags):\n",
        "    ## BERT encoder\n",
        "    #encoder\n",
        "    encoder = TFBertModel.from_pretrained(\"bert-base-uncased\")\n",
        "    ## NER Model\n",
        "    input_ids = layers.Input(shape=(max_len,), dtype=tf.int32)\n",
        "    token_type_ids = layers.Input(shape=(max_len,), dtype=tf.int32)\n",
        "    attention_mask = layers.Input(shape=(max_len,), dtype=tf.int32)\n",
        "    out = encoder(\n",
        "        input_ids, token_type_ids=token_type_ids, attention_mask=attention_mask\n",
        "    )\n",
        "    embedding=out['pooler_output']    \n",
        "    embedding = layers.Dropout(0.1)(embedding)\n",
        "    l = layers.Dense(16, activation=\"tanh\")(embedding)\n",
        "    output = layers.Dense(2, activation='softmax',name=\"category_output\")(l)\n",
        "\n",
        "    ner_embedding=out['last_hidden_state'][:,:max_len_txt-1,:]    \n",
        "    ner_embedding = layers.Dropout(0.1)(ner_embedding)\n",
        "    ner_l = layers.Dense(16, activation=\"tanh\")(ner_embedding)\n",
        "    ner_output = layers.Dense(num_tags, activation='softmax',name=\"ner_output\")(ner_l)\n",
        "    \n",
        "    model = keras.Model(\n",
        "        inputs=[input_ids, token_type_ids, attention_mask],\n",
        "        outputs=[output,ner_output],\n",
        "    )\n",
        "\n",
        "    losses = {\n",
        "\t    \"category_output\": tf.keras.losses.SparseCategoricalCrossentropy(from_logits=False),\n",
        "\t    \"ner_output\": masked_ce_loss,\n",
        "    }\n",
        "    lossWeights = {\"category_output\": 1.0, \"ner_output\": 1.0}\n",
        "\n",
        "    model.compile(optimizer=tf.keras.optimizers.Adam(learning_rate=3e-5, epsilon=1e-08, clipnorm=1.0), \n",
        "              loss=losses, loss_weights=lossWeights,\n",
        "              metrics=[tf.keras.metrics.SparseCategoricalAccuracy('accuracy')])\n",
        "\n",
        "    return model"
      ],
      "metadata": {
        "id": "b0BkEX_WWzuX"
      },
      "execution_count": null,
      "outputs": []
    },
    {
      "cell_type": "code",
      "source": [
        "num_tags = 4 # BIOP\n",
        "use_tpu = None\n",
        "try:\n",
        "    tpu = tf.distribute.cluster_resolver.TPUClusterResolver()\n",
        "    use_tpu = True\n",
        "except:\n",
        "    use_tpu = False\n",
        "\n",
        "if use_tpu:\n",
        "    # Create distribution strategy\n",
        "    tf.config.experimental_connect_to_cluster(tpu)\n",
        "    tf.tpu.experimental.initialize_tpu_system(tpu)\n",
        "    strategy = tf.distribute.TPUStrategy(tpu)\n",
        "\n",
        "    # Create model\n",
        "    with strategy.scope():\n",
        "        final_model = create_model(num_tags)\n",
        "else:\n",
        "    final_model = create_model(num_tags)\n",
        "    \n",
        "tf.keras.utils.plot_model(final_model)"
      ],
      "metadata": {
        "id": "0cAufvJPbGD4",
        "colab": {
          "base_uri": "https://localhost:8080/",
          "height": 356
        },
        "outputId": "f400fdd2-21da-4257-a61d-256df4073b18"
      },
      "execution_count": null,
      "outputs": [
        {
          "output_type": "error",
          "ename": "NameError",
          "evalue": "ignored",
          "traceback": [
            "\u001b[0;31m---------------------------------------------------------------------------\u001b[0m",
            "\u001b[0;31mNameError\u001b[0m                                 Traceback (most recent call last)",
            "\u001b[0;32m<ipython-input-11-dffe1a75fa4b>\u001b[0m in \u001b[0;36m<module>\u001b[0;34m()\u001b[0m\n\u001b[1;32m     17\u001b[0m         \u001b[0mfinal_model\u001b[0m \u001b[0;34m=\u001b[0m \u001b[0mcreate_model\u001b[0m\u001b[0;34m(\u001b[0m\u001b[0mnum_tags\u001b[0m\u001b[0;34m)\u001b[0m\u001b[0;34m\u001b[0m\u001b[0;34m\u001b[0m\u001b[0m\n\u001b[1;32m     18\u001b[0m \u001b[0;32melse\u001b[0m\u001b[0;34m:\u001b[0m\u001b[0;34m\u001b[0m\u001b[0;34m\u001b[0m\u001b[0m\n\u001b[0;32m---> 19\u001b[0;31m     \u001b[0mfinal_model\u001b[0m \u001b[0;34m=\u001b[0m \u001b[0mcreate_model\u001b[0m\u001b[0;34m(\u001b[0m\u001b[0mnum_tags\u001b[0m\u001b[0;34m)\u001b[0m\u001b[0;34m\u001b[0m\u001b[0;34m\u001b[0m\u001b[0m\n\u001b[0m\u001b[1;32m     20\u001b[0m \u001b[0;34m\u001b[0m\u001b[0m\n\u001b[1;32m     21\u001b[0m \u001b[0mtf\u001b[0m\u001b[0;34m.\u001b[0m\u001b[0mkeras\u001b[0m\u001b[0;34m.\u001b[0m\u001b[0mutils\u001b[0m\u001b[0;34m.\u001b[0m\u001b[0mplot_model\u001b[0m\u001b[0;34m(\u001b[0m\u001b[0mfinal_model\u001b[0m\u001b[0;34m)\u001b[0m\u001b[0;34m\u001b[0m\u001b[0;34m\u001b[0m\u001b[0m\n",
            "\u001b[0;32m<ipython-input-10-a163dcef3f54>\u001b[0m in \u001b[0;36mcreate_model\u001b[0;34m(num_tags)\u001b[0m\n\u001b[1;32m     13\u001b[0m     \u001b[0;31m## BERT encoder\u001b[0m\u001b[0;34m\u001b[0m\u001b[0;34m\u001b[0m\u001b[0;34m\u001b[0m\u001b[0m\n\u001b[1;32m     14\u001b[0m     \u001b[0;31m#encoder\u001b[0m\u001b[0;34m\u001b[0m\u001b[0;34m\u001b[0m\u001b[0;34m\u001b[0m\u001b[0m\n\u001b[0;32m---> 15\u001b[0;31m     \u001b[0mencoder\u001b[0m \u001b[0;34m=\u001b[0m \u001b[0mTFBertModel\u001b[0m\u001b[0;34m.\u001b[0m\u001b[0mfrom_pretrained\u001b[0m\u001b[0;34m(\u001b[0m\u001b[0;34m\"bert-base-uncased\"\u001b[0m\u001b[0;34m)\u001b[0m\u001b[0;34m\u001b[0m\u001b[0;34m\u001b[0m\u001b[0m\n\u001b[0m\u001b[1;32m     16\u001b[0m     \u001b[0;31m## NER Model\u001b[0m\u001b[0;34m\u001b[0m\u001b[0;34m\u001b[0m\u001b[0;34m\u001b[0m\u001b[0m\n\u001b[1;32m     17\u001b[0m     \u001b[0minput_ids\u001b[0m \u001b[0;34m=\u001b[0m \u001b[0mlayers\u001b[0m\u001b[0;34m.\u001b[0m\u001b[0mInput\u001b[0m\u001b[0;34m(\u001b[0m\u001b[0mshape\u001b[0m\u001b[0;34m=\u001b[0m\u001b[0;34m(\u001b[0m\u001b[0mmax_len\u001b[0m\u001b[0;34m,\u001b[0m\u001b[0;34m)\u001b[0m\u001b[0;34m,\u001b[0m \u001b[0mdtype\u001b[0m\u001b[0;34m=\u001b[0m\u001b[0mtf\u001b[0m\u001b[0;34m.\u001b[0m\u001b[0mint32\u001b[0m\u001b[0;34m)\u001b[0m\u001b[0;34m\u001b[0m\u001b[0;34m\u001b[0m\u001b[0m\n",
            "\u001b[0;31mNameError\u001b[0m: name 'TFBertModel' is not defined"
          ]
        }
      ]
    },
    {
      "cell_type": "code",
      "source": [
        "bs = 16\n",
        "# bs=8\n",
        "\n",
        "final_model.fit(\n",
        "    x=x_train,\n",
        "    y={\"category_output\":y_train_f, \"ner_output\":y_train_t},\n",
        "    # y=y_train_f,\n",
        "    validation_data=(x_valid,\n",
        "\t\t{\"category_output\": y_valid_f, \"ner_output\": y_valid_t}),\n",
        "    epochs=3,\n",
        "    verbose=1,\n",
        "    batch_size=bs\n",
        ")"
      ],
      "metadata": {
        "id": "TU084seXcayf",
        "colab": {
          "base_uri": "https://localhost:8080/"
        },
        "outputId": "67108920-5b1f-4405-bf91-66c5631ec4c3"
      },
      "execution_count": null,
      "outputs": [
        {
          "output_type": "stream",
          "name": "stdout",
          "text": [
            "Epoch 1/3\n",
            "182/182 [==============================] - 134s 167ms/step - loss: nan - category_output_loss: 0.5525 - ner_output_loss: nan - category_output_accuracy: 0.7160 - ner_output_accuracy: 0.0717 - val_loss: nan - val_category_output_loss: 0.5499 - val_ner_output_loss: nan - val_category_output_accuracy: 0.7500 - val_ner_output_accuracy: 0.0630\n",
            "Epoch 2/3\n",
            "182/182 [==============================] - 18s 99ms/step - loss: nan - category_output_loss: 0.3467 - ner_output_loss: nan - category_output_accuracy: 0.8566 - ner_output_accuracy: 0.0686 - val_loss: nan - val_category_output_loss: 0.4290 - val_ner_output_loss: nan - val_category_output_accuracy: 0.8200 - val_ner_output_accuracy: 0.0631\n",
            "Epoch 3/3\n",
            "182/182 [==============================] - 18s 99ms/step - loss: nan - category_output_loss: 0.2000 - ner_output_loss: nan - category_output_accuracy: 0.9298 - ner_output_accuracy: 0.0687 - val_loss: nan - val_category_output_loss: 0.4548 - val_ner_output_loss: nan - val_category_output_accuracy: 0.8100 - val_ner_output_accuracy: 0.0630\n"
          ]
        },
        {
          "output_type": "execute_result",
          "data": {
            "text/plain": [
              "<keras.callbacks.History at 0x7f1793cc8810>"
            ]
          },
          "metadata": {},
          "execution_count": 37
        }
      ]
    },
    {
      "cell_type": "code",
      "source": [
        "#Inference\n",
        "c=(\"The waiter was attentive, the food was delicious and the views of the city were great.\",\"food general positive\")\n",
        "# c=(\"The pasta were very tasty.\",\"food quality positive\")\n",
        "tokens=tokenize_couple(c)\n",
        "x = [np.array([tokens['input_ids']]), np.array([tokens['token_type_ids']]), np.array([tokens['attention_mask']])]\n",
        "out = final_model.predict(x)\n",
        "print(out[0])\n",
        "argmax_out = np.argmax(out[1],-1)\n",
        "tag_list = [\"O\",\"B\",\"I\",\"P\"]\n",
        "for i,t in enumerate(slow_tokenizer.tokenize(\"[CLS]\"+c[0]+\"[SEP]\")):\n",
        "  print(\"{}-{} \".format(t,tag_list[argmax_out[0][i]]))"
      ],
      "metadata": {
        "id": "QzSEMf3fcCEZ",
        "colab": {
          "base_uri": "https://localhost:8080/"
        },
        "outputId": "c1e28a49-29ba-4e56-c7a0-a06804bf01b3"
      },
      "execution_count": null,
      "outputs": [
        {
          "output_type": "stream",
          "name": "stdout",
          "text": [
            "[[0.02532563 0.9746743 ]]\n",
            "[CLS]-O \n",
            "the-O \n",
            "waiter-O \n",
            "was-O \n",
            "at-O \n",
            "##ten-O \n",
            "##tive-O \n",
            ",-O \n",
            "the-O \n",
            "food-B \n",
            "was-O \n",
            "delicious-O \n",
            "and-O \n",
            "the-O \n",
            "views-O \n",
            "of-O \n",
            "the-O \n",
            "city-O \n",
            "were-O \n",
            "great-O \n",
            ".-O \n",
            "[SEP]-O \n"
          ]
        }
      ]
    },
    {
      "cell_type": "markdown",
      "source": [
        "# ROBERTA"
      ],
      "metadata": {
        "id": "KwACs4DM6fWC"
      }
    },
    {
      "cell_type": "code",
      "source": [
        "import os\n",
        "import re\n",
        "import json\n",
        "import string\n",
        "import numpy as np\n",
        "import pandas as pd\n",
        "import tensorflow as tf\n",
        "from tensorflow import keras\n",
        "from tensorflow.keras import layers\n",
        "from sklearn import preprocessing\n",
        "\n",
        "max_len=200\n",
        "query_len=10\n",
        "max_len_txt=max_len-query_len\n",
        "\n",
        "import pandas as pd\n",
        "df = pd.read_pickle(\"/content/drive/MyDrive/HLT/ds.pkl\")"
      ],
      "metadata": {
        "id": "hnD3VsyU6oKH"
      },
      "execution_count": null,
      "outputs": []
    },
    {
      "cell_type": "code",
      "source": [
        "!pip install transformers\n",
        "from transformers import RobertaTokenizer, TFRobertaModel\n",
        "import tensorflow as tf\n",
        "\n",
        "tokenizer = RobertaTokenizer.from_pretrained(\"roberta-base\")\n",
        "# model = TFRobertaModel.from_pretrained(\"roberta-base\")"
      ],
      "metadata": {
        "colab": {
          "base_uri": "https://localhost:8080/"
        },
        "id": "66j5_wv-zRM9",
        "outputId": "b05c8902-5435-452f-b6ce-304759fd36e8"
      },
      "execution_count": null,
      "outputs": [
        {
          "output_type": "stream",
          "name": "stdout",
          "text": [
            "Looking in indexes: https://pypi.org/simple, https://us-python.pkg.dev/colab-wheels/public/simple/\n",
            "Requirement already satisfied: transformers in /usr/local/lib/python3.7/dist-packages (4.19.2)\n",
            "Requirement already satisfied: numpy>=1.17 in /usr/local/lib/python3.7/dist-packages (from transformers) (1.21.6)\n",
            "Requirement already satisfied: packaging>=20.0 in /usr/local/lib/python3.7/dist-packages (from transformers) (21.3)\n",
            "Requirement already satisfied: filelock in /usr/local/lib/python3.7/dist-packages (from transformers) (3.7.0)\n",
            "Requirement already satisfied: importlib-metadata in /usr/local/lib/python3.7/dist-packages (from transformers) (4.11.3)\n",
            "Requirement already satisfied: pyyaml>=5.1 in /usr/local/lib/python3.7/dist-packages (from transformers) (6.0)\n",
            "Requirement already satisfied: requests in /usr/local/lib/python3.7/dist-packages (from transformers) (2.23.0)\n",
            "Requirement already satisfied: regex!=2019.12.17 in /usr/local/lib/python3.7/dist-packages (from transformers) (2019.12.20)\n",
            "Requirement already satisfied: huggingface-hub<1.0,>=0.1.0 in /usr/local/lib/python3.7/dist-packages (from transformers) (0.7.0)\n",
            "Requirement already satisfied: tqdm>=4.27 in /usr/local/lib/python3.7/dist-packages (from transformers) (4.64.0)\n",
            "Requirement already satisfied: tokenizers!=0.11.3,<0.13,>=0.11.1 in /usr/local/lib/python3.7/dist-packages (from transformers) (0.12.1)\n",
            "Requirement already satisfied: typing-extensions>=3.7.4.3 in /usr/local/lib/python3.7/dist-packages (from huggingface-hub<1.0,>=0.1.0->transformers) (4.2.0)\n",
            "Requirement already satisfied: pyparsing!=3.0.5,>=2.0.2 in /usr/local/lib/python3.7/dist-packages (from packaging>=20.0->transformers) (3.0.9)\n",
            "Requirement already satisfied: zipp>=0.5 in /usr/local/lib/python3.7/dist-packages (from importlib-metadata->transformers) (3.8.0)\n",
            "Requirement already satisfied: urllib3!=1.25.0,!=1.25.1,<1.26,>=1.21.1 in /usr/local/lib/python3.7/dist-packages (from requests->transformers) (1.24.3)\n",
            "Requirement already satisfied: chardet<4,>=3.0.2 in /usr/local/lib/python3.7/dist-packages (from requests->transformers) (3.0.4)\n",
            "Requirement already satisfied: idna<3,>=2.5 in /usr/local/lib/python3.7/dist-packages (from requests->transformers) (2.10)\n",
            "Requirement already satisfied: certifi>=2017.4.17 in /usr/local/lib/python3.7/dist-packages (from requests->transformers) (2022.5.18.1)\n"
          ]
        }
      ]
    },
    {
      "cell_type": "code",
      "source": [
        "def tokenize_couple(ex):\n",
        "  dct=tokenizer(ex[0], max_length=max_len_txt, padding='max_length',add_special_tokens=True)\n",
        "  dct2=tokenizer(\"</s>\"+ex[1]+\"</s>\",add_special_tokens=False,max_length=query_len, padding='max_length')\n",
        "  dct['token_type_ids'] = [0]* max_len_txt\n",
        "  dct2['token_type_ids']=[1 for i in range(query_len)]\n",
        "  dct['input_ids'].extend(dct2['input_ids'])\n",
        "  dct['token_type_ids'].extend(dct2['token_type_ids'])\n",
        "  dct['attention_mask'].extend(dct2['attention_mask'])\n",
        "  return dct"
      ],
      "metadata": {
        "id": "pEkivzdv6tP1"
      },
      "execution_count": null,
      "outputs": []
    },
    {
      "cell_type": "code",
      "source": [
        "def create_inputs_targets():\n",
        "  input_ids= []\n",
        "  token_type_ids= []\n",
        "  attention_mask= []\n",
        "  tags = []\n",
        "  f = []\n",
        "  for i, row in df.iterrows():\n",
        "    dic = tokenize_couple((row['txt'],row['categ_txt']))\n",
        "    tagging = [0]+list(map(lambda x: 0 if x=='O' else 1 if x=='B' else 2,row['tagging']))+[0]\n",
        "    tagging.extend([3]*(max_len_txt-len(tagging)-1))\n",
        "    input_ids.append(dic['input_ids'])\n",
        "    token_type_ids.append(dic['token_type_ids'])\n",
        "    attention_mask.append(dic['attention_mask'])\n",
        "    tags.append(tagging)\n",
        "    f.append(1 if row['f']=='yes' else 0)          \n",
        "  x = [\n",
        "      tf.convert_to_tensor(np.array(input_ids[100:]), dtype=tf.dtypes.int32),\n",
        "      tf.convert_to_tensor(np.array(token_type_ids[100:]), dtype=tf.dtypes.int32),\n",
        "      tf.convert_to_tensor(np.array(attention_mask[100:]), dtype=tf.dtypes.int32),\n",
        "  ]\n",
        "  x_val = [      \n",
        "      tf.convert_to_tensor(np.array(input_ids[:100]), dtype=tf.dtypes.int32),\n",
        "      tf.convert_to_tensor(np.array(token_type_ids[:100]), dtype=tf.dtypes.int32),\n",
        "      tf.convert_to_tensor(np.array(attention_mask[:100]), dtype=tf.dtypes.int32),\n",
        "  ]\n",
        "  return x, tf.convert_to_tensor(np.array(tags[100:],dtype=np.dtype('i')),dtype=tf.dtypes.int32), tf.convert_to_tensor(np.array(f[100:],dtype=np.dtype('i')),dtype=tf.dtypes.int32), x_val, tf.convert_to_tensor(np.array(tags[:100],dtype=np.dtype('i')),dtype=tf.dtypes.int32), tf.convert_to_tensor(np.array(f[:100],dtype=np.dtype('i')),dtype=tf.dtypes.int32)"
      ],
      "metadata": {
        "id": "2dqIiFB3DoIJ"
      },
      "execution_count": null,
      "outputs": []
    },
    {
      "cell_type": "code",
      "source": [
        "x_train, y_train_t, y_train_f, x_valid, y_valid_t, y_valid_f = create_inputs_targets()"
      ],
      "metadata": {
        "id": "Wk2S6NVtE7WG"
      },
      "execution_count": null,
      "outputs": []
    },
    {
      "cell_type": "code",
      "source": [
        "loss_object = tf.keras.losses.SparseCategoricalCrossentropy(\n",
        "    from_logits=False, reduction=tf.keras.losses.Reduction.NONE\n",
        ")\n",
        "\n",
        "def masked_ce_loss(real, pred):\n",
        "    mask = tf.math.logical_not(tf.math.equal(real, 3))\n",
        "    loss_ = loss_object(real, pred)\n",
        "    mask = tf.cast(mask, dtype=loss_.dtype)\n",
        "    loss_ *= mask\n",
        "    return tf.reduce_mean(loss_)\n",
        "\n",
        "def create_model(num_tags):\n",
        "    ## BERT encoder\n",
        "    #encoder\n",
        "    encoder = TFRobertaModel.from_pretrained(\"roberta-base\")\n",
        "    ## NER Model\n",
        "    input_ids = layers.Input(shape=(max_len,), dtype=tf.int32)\n",
        "    token_type_ids = layers.Input(shape=(max_len,), dtype=tf.int32)\n",
        "    attention_mask = layers.Input(shape=(max_len,), dtype=tf.int32)\n",
        "    out = encoder(\n",
        "        input_ids, token_type_ids=token_type_ids, attention_mask=attention_mask\n",
        "    )\n",
        "    embedding=out['pooler_output']    \n",
        "    embedding = layers.Dropout(0.1)(embedding)\n",
        "    l = layers.Dense(32, activation=\"tanh\")(embedding)\n",
        "    output = layers.Dense(2, activation='softmax',name=\"category_output\")(l)\n",
        "\n",
        "    ner_embedding=out['last_hidden_state'][:,:max_len_txt-1,:]    \n",
        "    ner_embedding = layers.Dropout(0.1)(ner_embedding)\n",
        "    # ner_l = layers.Dense(32, activation=\"tanh\")(ner_embedding)\n",
        "    ner_output = layers.Dense(num_tags, activation='softmax',name=\"ner_output\")(ner_embedding)\n",
        "    \n",
        "    model = keras.Model(\n",
        "        inputs=[input_ids, token_type_ids, attention_mask],\n",
        "        outputs=[output,ner_output],\n",
        "    )\n",
        "\n",
        "    losses = {\n",
        "\t    \"category_output\": tf.keras.losses.SparseCategoricalCrossentropy(from_logits=False),\n",
        "\t    \"ner_output\": masked_ce_loss,\n",
        "    }\n",
        "    lossWeights = {\"category_output\": 1.0, \"ner_output\": 1.0}\n",
        "\n",
        "    model.compile(optimizer=tf.keras.optimizers.Adam(learning_rate=3e-5, epsilon=1e-08, clipnorm=1.0), \n",
        "              loss=losses, loss_weights=lossWeights,\n",
        "              metrics=[tf.keras.metrics.SparseCategoricalAccuracy('accuracy')])\n",
        "\n",
        "    return model"
      ],
      "metadata": {
        "id": "gOtyNc3IFLC8"
      },
      "execution_count": null,
      "outputs": []
    },
    {
      "cell_type": "code",
      "source": [
        "num_tags = 4 # BIOP\n",
        "use_tpu = None\n",
        "try:\n",
        "    tpu = tf.distribute.cluster_resolver.TPUClusterResolver()\n",
        "    use_tpu = True\n",
        "except:\n",
        "    use_tpu = False\n",
        "\n",
        "if use_tpu:\n",
        "    # Create distribution strategy\n",
        "    tf.config.experimental_connect_to_cluster(tpu)\n",
        "    tf.tpu.experimental.initialize_tpu_system(tpu)\n",
        "    strategy = tf.distribute.TPUStrategy(tpu)\n",
        "\n",
        "    # Create model\n",
        "    with strategy.scope():\n",
        "        final_model = create_model(num_tags)\n",
        "else:\n",
        "    final_model = create_model(num_tags)\n",
        "    \n",
        "tf.keras.utils.plot_model(final_model)"
      ],
      "metadata": {
        "colab": {
          "base_uri": "https://localhost:8080/",
          "height": 1000
        },
        "id": "fk6OqQGUFjPj",
        "outputId": "def32418-185b-4548-c9bc-ea5d24539677"
      },
      "execution_count": null,
      "outputs": [
        {
          "output_type": "stream",
          "name": "stdout",
          "text": [
            "INFO:tensorflow:Deallocate tpu buffers before initializing tpu system.\n"
          ]
        },
        {
          "output_type": "stream",
          "name": "stderr",
          "text": [
            "INFO:tensorflow:Deallocate tpu buffers before initializing tpu system.\n"
          ]
        },
        {
          "output_type": "stream",
          "name": "stdout",
          "text": [
            "WARNING:tensorflow:TPU system grpc://10.123.7.210:8470 has already been initialized. Reinitializing the TPU can cause previously created variables on TPU to be lost.\n"
          ]
        },
        {
          "output_type": "stream",
          "name": "stderr",
          "text": [
            "WARNING:tensorflow:TPU system grpc://10.123.7.210:8470 has already been initialized. Reinitializing the TPU can cause previously created variables on TPU to be lost.\n"
          ]
        },
        {
          "output_type": "stream",
          "name": "stdout",
          "text": [
            "INFO:tensorflow:Initializing the TPU system: grpc://10.123.7.210:8470\n"
          ]
        },
        {
          "output_type": "stream",
          "name": "stderr",
          "text": [
            "INFO:tensorflow:Initializing the TPU system: grpc://10.123.7.210:8470\n"
          ]
        },
        {
          "output_type": "stream",
          "name": "stdout",
          "text": [
            "INFO:tensorflow:Finished initializing TPU system.\n"
          ]
        },
        {
          "output_type": "stream",
          "name": "stderr",
          "text": [
            "INFO:tensorflow:Finished initializing TPU system.\n"
          ]
        },
        {
          "output_type": "stream",
          "name": "stdout",
          "text": [
            "INFO:tensorflow:Found TPU system:\n"
          ]
        },
        {
          "output_type": "stream",
          "name": "stderr",
          "text": [
            "INFO:tensorflow:Found TPU system:\n"
          ]
        },
        {
          "output_type": "stream",
          "name": "stdout",
          "text": [
            "INFO:tensorflow:*** Num TPU Cores: 8\n"
          ]
        },
        {
          "output_type": "stream",
          "name": "stderr",
          "text": [
            "INFO:tensorflow:*** Num TPU Cores: 8\n"
          ]
        },
        {
          "output_type": "stream",
          "name": "stdout",
          "text": [
            "INFO:tensorflow:*** Num TPU Workers: 1\n"
          ]
        },
        {
          "output_type": "stream",
          "name": "stderr",
          "text": [
            "INFO:tensorflow:*** Num TPU Workers: 1\n"
          ]
        },
        {
          "output_type": "stream",
          "name": "stdout",
          "text": [
            "INFO:tensorflow:*** Num TPU Cores Per Worker: 8\n"
          ]
        },
        {
          "output_type": "stream",
          "name": "stderr",
          "text": [
            "INFO:tensorflow:*** Num TPU Cores Per Worker: 8\n"
          ]
        },
        {
          "output_type": "stream",
          "name": "stdout",
          "text": [
            "INFO:tensorflow:*** Available Device: _DeviceAttributes(/job:localhost/replica:0/task:0/device:CPU:0, CPU, 0, 0)\n"
          ]
        },
        {
          "output_type": "stream",
          "name": "stderr",
          "text": [
            "INFO:tensorflow:*** Available Device: _DeviceAttributes(/job:localhost/replica:0/task:0/device:CPU:0, CPU, 0, 0)\n"
          ]
        },
        {
          "output_type": "stream",
          "name": "stdout",
          "text": [
            "INFO:tensorflow:*** Available Device: _DeviceAttributes(/job:worker/replica:0/task:0/device:CPU:0, CPU, 0, 0)\n"
          ]
        },
        {
          "output_type": "stream",
          "name": "stderr",
          "text": [
            "INFO:tensorflow:*** Available Device: _DeviceAttributes(/job:worker/replica:0/task:0/device:CPU:0, CPU, 0, 0)\n"
          ]
        },
        {
          "output_type": "stream",
          "name": "stdout",
          "text": [
            "INFO:tensorflow:*** Available Device: _DeviceAttributes(/job:worker/replica:0/task:0/device:TPU:0, TPU, 0, 0)\n"
          ]
        },
        {
          "output_type": "stream",
          "name": "stderr",
          "text": [
            "INFO:tensorflow:*** Available Device: _DeviceAttributes(/job:worker/replica:0/task:0/device:TPU:0, TPU, 0, 0)\n"
          ]
        },
        {
          "output_type": "stream",
          "name": "stdout",
          "text": [
            "INFO:tensorflow:*** Available Device: _DeviceAttributes(/job:worker/replica:0/task:0/device:TPU:1, TPU, 0, 0)\n"
          ]
        },
        {
          "output_type": "stream",
          "name": "stderr",
          "text": [
            "INFO:tensorflow:*** Available Device: _DeviceAttributes(/job:worker/replica:0/task:0/device:TPU:1, TPU, 0, 0)\n"
          ]
        },
        {
          "output_type": "stream",
          "name": "stdout",
          "text": [
            "INFO:tensorflow:*** Available Device: _DeviceAttributes(/job:worker/replica:0/task:0/device:TPU:2, TPU, 0, 0)\n"
          ]
        },
        {
          "output_type": "stream",
          "name": "stderr",
          "text": [
            "INFO:tensorflow:*** Available Device: _DeviceAttributes(/job:worker/replica:0/task:0/device:TPU:2, TPU, 0, 0)\n"
          ]
        },
        {
          "output_type": "stream",
          "name": "stdout",
          "text": [
            "INFO:tensorflow:*** Available Device: _DeviceAttributes(/job:worker/replica:0/task:0/device:TPU:3, TPU, 0, 0)\n"
          ]
        },
        {
          "output_type": "stream",
          "name": "stderr",
          "text": [
            "INFO:tensorflow:*** Available Device: _DeviceAttributes(/job:worker/replica:0/task:0/device:TPU:3, TPU, 0, 0)\n"
          ]
        },
        {
          "output_type": "stream",
          "name": "stdout",
          "text": [
            "INFO:tensorflow:*** Available Device: _DeviceAttributes(/job:worker/replica:0/task:0/device:TPU:4, TPU, 0, 0)\n"
          ]
        },
        {
          "output_type": "stream",
          "name": "stderr",
          "text": [
            "INFO:tensorflow:*** Available Device: _DeviceAttributes(/job:worker/replica:0/task:0/device:TPU:4, TPU, 0, 0)\n"
          ]
        },
        {
          "output_type": "stream",
          "name": "stdout",
          "text": [
            "INFO:tensorflow:*** Available Device: _DeviceAttributes(/job:worker/replica:0/task:0/device:TPU:5, TPU, 0, 0)\n"
          ]
        },
        {
          "output_type": "stream",
          "name": "stderr",
          "text": [
            "INFO:tensorflow:*** Available Device: _DeviceAttributes(/job:worker/replica:0/task:0/device:TPU:5, TPU, 0, 0)\n"
          ]
        },
        {
          "output_type": "stream",
          "name": "stdout",
          "text": [
            "INFO:tensorflow:*** Available Device: _DeviceAttributes(/job:worker/replica:0/task:0/device:TPU:6, TPU, 0, 0)\n"
          ]
        },
        {
          "output_type": "stream",
          "name": "stderr",
          "text": [
            "INFO:tensorflow:*** Available Device: _DeviceAttributes(/job:worker/replica:0/task:0/device:TPU:6, TPU, 0, 0)\n"
          ]
        },
        {
          "output_type": "stream",
          "name": "stdout",
          "text": [
            "INFO:tensorflow:*** Available Device: _DeviceAttributes(/job:worker/replica:0/task:0/device:TPU:7, TPU, 0, 0)\n"
          ]
        },
        {
          "output_type": "stream",
          "name": "stderr",
          "text": [
            "INFO:tensorflow:*** Available Device: _DeviceAttributes(/job:worker/replica:0/task:0/device:TPU:7, TPU, 0, 0)\n"
          ]
        },
        {
          "output_type": "stream",
          "name": "stdout",
          "text": [
            "INFO:tensorflow:*** Available Device: _DeviceAttributes(/job:worker/replica:0/task:0/device:TPU_SYSTEM:0, TPU_SYSTEM, 0, 0)\n"
          ]
        },
        {
          "output_type": "stream",
          "name": "stderr",
          "text": [
            "INFO:tensorflow:*** Available Device: _DeviceAttributes(/job:worker/replica:0/task:0/device:TPU_SYSTEM:0, TPU_SYSTEM, 0, 0)\n"
          ]
        },
        {
          "output_type": "stream",
          "name": "stdout",
          "text": [
            "INFO:tensorflow:*** Available Device: _DeviceAttributes(/job:worker/replica:0/task:0/device:XLA_CPU:0, XLA_CPU, 0, 0)\n"
          ]
        },
        {
          "output_type": "stream",
          "name": "stderr",
          "text": [
            "INFO:tensorflow:*** Available Device: _DeviceAttributes(/job:worker/replica:0/task:0/device:XLA_CPU:0, XLA_CPU, 0, 0)\n",
            "Some layers from the model checkpoint at roberta-base were not used when initializing TFRobertaModel: ['lm_head']\n",
            "- This IS expected if you are initializing TFRobertaModel from the checkpoint of a model trained on another task or with another architecture (e.g. initializing a BertForSequenceClassification model from a BertForPreTraining model).\n",
            "- This IS NOT expected if you are initializing TFRobertaModel from the checkpoint of a model that you expect to be exactly identical (initializing a BertForSequenceClassification model from a BertForSequenceClassification model).\n",
            "All the layers of TFRobertaModel were initialized from the model checkpoint at roberta-base.\n",
            "If your task is similar to the task the model of the checkpoint was trained on, you can already use TFRobertaModel for predictions without further training.\n"
          ]
        },
        {
          "output_type": "execute_result",
          "data": {
            "text/plain": [
              "<IPython.core.display.Image object>"
            ],
            "image/png": "[encoded data removed]"
          },
          "metadata": {},
          "execution_count": 33
        }
      ]
    },
    {
      "cell_type": "code",
      "source": [
        "bs = 8\n",
        "# bs=8\n",
        "\n",
        "final_model.fit(\n",
        "    x=x_train,\n",
        "    y={\"category_output\":y_train_f, \"ner_output\":y_train_t},\n",
        "    # y=y_train_f,\n",
        "    validation_data=(x_valid,\n",
        "\t\t{\"category_output\": y_valid_f, \"ner_output\": y_valid_t}),\n",
        "    epochs=3,\n",
        "    verbose=1,\n",
        "    batch_size=bs\n",
        ")"
      ],
      "metadata": {
        "id": "aGc67kAaFqR9",
        "colab": {
          "base_uri": "https://localhost:8080/"
        },
        "outputId": "7f099c28-ac84-43cb-9c63-523cd228f0b8"
      },
      "execution_count": null,
      "outputs": [
        {
          "output_type": "stream",
          "name": "stdout",
          "text": [
            "Epoch 1/3\n",
            "364/364 [==============================] - 33s 92ms/step - loss: nan - category_output_loss: 0.6943 - ner_output_loss: nan - category_output_accuracy: 0.5062 - ner_output_accuracy: 0.0925 - val_loss: nan - val_category_output_loss: 0.6936 - val_ner_output_loss: nan - val_category_output_accuracy: 0.4500 - val_ner_output_accuracy: 0.0850\n",
            "Epoch 2/3\n",
            "364/364 [==============================] - 33s 92ms/step - loss: nan - category_output_loss: 0.6936 - ner_output_loss: nan - category_output_accuracy: 0.5072 - ner_output_accuracy: 0.0925 - val_loss: nan - val_category_output_loss: 0.6940 - val_ner_output_loss: nan - val_category_output_accuracy: 0.4500 - val_ner_output_accuracy: 0.0850\n",
            "Epoch 3/3\n",
            "364/364 [==============================] - 34s 94ms/step - loss: nan - category_output_loss: 0.6938 - ner_output_loss: nan - category_output_accuracy: 0.5010 - ner_output_accuracy: 0.0925 - val_loss: nan - val_category_output_loss: 0.6916 - val_ner_output_loss: nan - val_category_output_accuracy: 0.5500 - val_ner_output_accuracy: 0.0850\n"
          ]
        },
        {
          "output_type": "execute_result",
          "data": {
            "text/plain": [
              "<keras.callbacks.History at 0x7f2356543810>"
            ]
          },
          "metadata": {},
          "execution_count": 36
        }
      ]
    },
    {
      "cell_type": "code",
      "source": [
        "# final_model.save(\"/content/drive/MyDrive/HLT/jointed_roberta.h5\")\n",
        "# final_model.load_weights(\"/content/drive/MyDrive/HLT/jointed_roberta.h5\")"
      ],
      "metadata": {
        "id": "MT_Q_yoaPGlo"
      },
      "execution_count": null,
      "outputs": []
    },
    {
      "cell_type": "code",
      "source": [
        "#Inference\n",
        "c=(\"The waiter was attentive, the food was delicious and the views of the city were great.\",\"food quality positive\")\n",
        "# c=(\"The pasta were very tasty.\",\"food quality positive\")\n",
        "#c = (\"There is something about their atmosphere that makes me come back nearly every week.\",\"ambience general positive\")\n",
        "tokens=tokenize_couple(c)\n",
        "x = [np.array([tokens['input_ids']]), np.array([tokens['token_type_ids']]), np.array([tokens['attention_mask']])]\n",
        "out = final_model.predict(x)\n",
        "print(out[0])\n",
        "argmax_out = np.argmax(out[1],-1)\n",
        "tag_list = [\"O\",\"B\",\"I\",\"P\"]\n",
        "for i,t in enumerate(tokenizer.tokenize(\"<s>\"+c[0])):\n",
        "  print(\"{}-{} \".format(t.replace(\"Ġ\",\"\"),tag_list[argmax_out[0][i]]))"
      ],
      "metadata": {
        "colab": {
          "base_uri": "https://localhost:8080/"
        },
        "id": "0kzHCUJEFufy",
        "outputId": "133bafab-7922-49de-eb64-2b796e896f26"
      },
      "execution_count": null,
      "outputs": [
        {
          "output_type": "stream",
          "name": "stdout",
          "text": [
            "[[0.4851598  0.51484025]]\n",
            "<s>-O \n",
            "The-O \n",
            "waiter-O \n",
            "was-O \n",
            "attentive-O \n",
            ",-O \n",
            "the-O \n",
            "food-O \n",
            "was-O \n",
            "delicious-O \n",
            "and-O \n",
            "the-O \n",
            "views-O \n",
            "of-O \n",
            "the-O \n",
            "city-O \n",
            "were-O \n",
            "great-O \n",
            ".-O \n"
          ]
        }
      ]
    },
    {
      "cell_type": "code",
      "source": [
        "import pickle\n",
        "pkl_file = open('/content/drive/MyDrive/HLT/cat_pol_couples.pkl', 'rb')\n",
        "cat_pol_couples = pickle.load(pkl_file)\n",
        "pkl_file.close()"
      ],
      "metadata": {
        "id": "G6VFINUQNbkH"
      },
      "execution_count": null,
      "outputs": []
    },
    {
      "cell_type": "code",
      "source": [
        "from functools import reduce\n",
        "\n",
        "def inference_function(c,th):\n",
        "  res=[]\n",
        "  tokens=tokenize_couple(c)\n",
        "  x = [np.array([tokens['input_ids']]), np.array([tokens['token_type_ids']]), np.array([tokens['attention_mask']])]\n",
        "  out = final_model.predict(x,verbose=0,)\n",
        "  out1 = out[0]\n",
        "  out2 = out[1]\n",
        "  out1[out1 < th] = 0 #thresholding.\n",
        "  indice = np.argmax(out1[0])\n",
        "  classi=[\"no\",\"yes\"]\n",
        "  # print(classi[indice])\n",
        "  tag_couple = []\n",
        "  category = \"#\".join(c[1].split(\" \")[:-1])\n",
        "  category = category.upper()\n",
        "  if indice==1:\n",
        "    argmax_out = np.argmax(out2,-1)\n",
        "    if 1 in argmax_out:\n",
        "      tag_list = [\"O\",\"B\",\"I\",\"P\"]\n",
        "      tokens = tokenizer.tokenize(\"<s>\"+c[0])\n",
        "      tokens=list(map(lambda x:x.replace('Ġ',''),tokens))\n",
        "      for i,t in enumerate(tokens):\n",
        "        tag_couple.append((t,tag_list[argmax_out[0][i]]))\n",
        "        # print(\"{}-{}\".format(t,tag_list[argmax_out[0][i]]))\n",
        "      \n",
        "      tokens = tokens[1:] #remove [CLS] and [SEP] tokens\n",
        "      list_indices = []\n",
        "      start=0\n",
        "      end=0\n",
        "      previous = 'O'\n",
        "      trovato = False\n",
        "      for i,(t,tag) in enumerate(tag_couple[1:]):\n",
        "        if tag!='O' and not trovato:\n",
        "          start=i\n",
        "          trovato=True\n",
        "        if trovato and tag=='O':\n",
        "          end=i\n",
        "          trovato=False\n",
        "          list_indices.append((start,end))\n",
        "      special_caracters=[':','-','$','[',']',')','(','.',',','?','!']\n",
        "      for z in list_indices:\n",
        "        parte_asx = tokens[:z[0]]\n",
        "        if len(parte_asx)==0:\n",
        "          from_= 0\n",
        "          fake_space_sx = 0\n",
        "        else:\n",
        "          from_ = reduce(lambda x,y:x+y,(map(lambda x:len(x.replace(\"#\",\"\")),parte_asx)))\n",
        "          fake_space_sx = reduce(lambda x,y:x+y,(map(lambda x: 1 if (\"#\" in x) or (x in special_caracters) else 0,parte_asx)))\n",
        "        space_sx = z[0]\n",
        "        from_+=space_sx-fake_space_sx\n",
        "        parte_adx = tokens[:z[1]]\n",
        "        to = reduce(lambda x,y:x+y,(map(lambda x:len(x.replace(\"#\",\"\")),parte_adx)))\n",
        "        space_dx = z[1]\n",
        "        fake_space_dx = reduce(lambda x,y:x+y,(map(lambda x: 1 if (\"#\" in x) or (x in special_caracters) else 0,parte_adx)))\n",
        "        to+=space_dx-fake_space_dx-1\n",
        "        # print(\"target={} category={} polarity={} from:{} to:{}\".format(c[0][from_:to],\"#\".join(c[1].split(\" \")[:-1]),c[1].split(\" \")[-1],from_,to))\n",
        "        \n",
        "        res.append({'target':c[0][from_:to], 'category':category, 'polarity':c[1].split(\" \")[-1], 'from':str(from_), 'to':str(to)})\n",
        "        # res+=\"<a style=\\\"font-size:13px\\\">target={} category={} polarity={} from:{} to:{}</a><br>\".format(c[0][from_:to],\"#\".join(c[1].split(\" \")[:-1]),c[1].split(\" \")[-1],from_,to)\n",
        "    else:\n",
        "      # print(\"target={} category={} polarity={} from:{} to:{}\".format(\"NULL\",\"#\".join(c[1].split(\" \")[:-1]),c[1].split(\" \")[-1],0,0))\n",
        "      # res += \"target={} category={} polarity={} from:{} to:{}\".format(\"NULL\",\"#\".join(c[1].split(\" \")[:-1]),c[1].split(\" \")[-1],0,0)\n",
        "      res.append({'target':\"NULL\", 'category':category, 'polarity':c[1].split(\" \")[-1], 'from':'0', 'to':'0'})\n",
        "      # res+=\"<a style=\\\"font-size:13px\\\">target={} category={} polarity={} from:{} to:{}</a><br>\".format(\"NULL\",\"#\".join(c[1].split(\" \")[:-1]),c[1].split(\" \")[-1],0,0)\n",
        "  return res\n"
      ],
      "metadata": {
        "id": "D_GF3MpYNkm0"
      },
      "execution_count": null,
      "outputs": []
    },
    {
      "cell_type": "code",
      "source": [
        "inference_function((\"The waiter was attentive, the food was delicious and the views of the city were great.\",\"location quality positive\"),0.90)"
      ],
      "metadata": {
        "colab": {
          "base_uri": "https://localhost:8080/"
        },
        "id": "3RHW17LzOJVC",
        "outputId": "e463b086-a6b5-4d10-9667-f160472d8b4a"
      },
      "execution_count": null,
      "outputs": [
        {
          "output_type": "execute_result",
          "data": {
            "text/plain": [
              "[{'category': 'LOCATION#QUALITY',\n",
              "  'from': '4',\n",
              "  'polarity': 'positive',\n",
              "  'target': 'waiter',\n",
              "  'to': '10'},\n",
              " {'category': 'LOCATION#QUALITY',\n",
              "  'from': '57',\n",
              "  'polarity': 'positive',\n",
              "  'target': 'views',\n",
              "  'to': '62'}]"
            ]
          },
          "metadata": {},
          "execution_count": 25
        }
      ]
    },
    {
      "cell_type": "code",
      "source": [
        "def big_inference(txt,th=0.90):\n",
        "  res=[]\n",
        "  for cat in cat_pol_couples:\n",
        "    c = (txt,\" \".join(cat[0].lower().split(\"#\"))+\" \"+cat[1])\n",
        "    res += inference_function(c,th)\n",
        "  return res"
      ],
      "metadata": {
        "id": "vhKbuusKPzdN"
      },
      "execution_count": null,
      "outputs": []
    },
    {
      "cell_type": "code",
      "source": [
        "# big_inference(\"The waiter was attentive, the food was delicious and the views of the city were great.\")"
      ],
      "metadata": {
        "id": "vI612l6LP0gG"
      },
      "execution_count": null,
      "outputs": []
    },
    {
      "cell_type": "code",
      "source": [
        "def get_opinions(txt, th=0.90):\n",
        "  predict = [];\n",
        "  \n",
        "  for cat in cat_pol_couples:\n",
        "    c = (txt,\" \".join(cat[0].lower().split(\"#\"))+\" \"+cat[1])\n",
        "    inf = inference_function(c,th)\n",
        "    if len(inf)>0:\n",
        "      predict.extend(inf)\n",
        "\n",
        "  return predict"
      ],
      "metadata": {
        "id": "-Ss5O7GsdGay"
      },
      "execution_count": null,
      "outputs": []
    },
    {
      "cell_type": "code",
      "source": [
        "import os\n",
        "\n",
        "def jaccardIndex(predict, target):\n",
        "  predict = list(map(str,predict))\n",
        "  target = list(map(str,target))\n",
        "  predict = set(predict)\n",
        "  target = set(target)\n",
        "  \n",
        "  inter = len(predict.intersection(target))\n",
        "  union = len(predict.union(target))\n",
        "  if union==0:\n",
        "    return 1\n",
        "  return inter / union\n",
        "\n",
        "\n",
        "def precision(predict, target):\n",
        "  predict = list(map(str,predict))\n",
        "  target = list(map(str,target))\n",
        "  predict = set(predict)\n",
        "  target = set(target)\n",
        "  \n",
        "  inter = len(predict.intersection(target))\n",
        "  num_predict = len(predict)\n",
        "  if num_predict==0:\n",
        "    return 1\n",
        "  return inter / num_predict\n",
        "\n",
        "def recall(predict, target):\n",
        "  predict = list(map(str,predict))\n",
        "  target = list(map(str,target))\n",
        "  predict = set(predict)\n",
        "  target = set(target)\n",
        "  \n",
        "  inter = len(predict.intersection(target))\n",
        "  num_target = len(target)\n",
        "  if num_target==0:\n",
        "    return 1\n",
        "  return inter / num_target\n",
        "\n",
        "def f1score(predict, target):\n",
        "  p=precision(predict, target)\n",
        "  r=recall(predict, target)\n",
        "  return (2 * p * r) / (p + r) if (p+r)>0 else 0\n",
        "\n",
        "import zipfile\n",
        "import pandas as pd\n",
        "import xml.etree.ElementTree as ET\n",
        "\n",
        "dataset_path = \"/content/drive/MyDrive/HLT/RestaurantTS.zip\"\n",
        "with zipfile.ZipFile(dataset_path,\"r\") as zip_ref:\n",
        "  zip_ref.extractall(\"./dataset\")"
      ],
      "metadata": {
        "id": "6Nh7MqMndKIx"
      },
      "execution_count": null,
      "outputs": []
    },
    {
      "cell_type": "code",
      "source": [
        "import numpy as np\n",
        "\n",
        "def evaluate_restaurants():\n",
        "  \"\"\"\n",
        "    Mean of Jaccard index over the sentences\n",
        "  \"\"\"\n",
        "\n",
        "  xml_path = \"/content/dataset/ABSA15_Restaurants_Test.xml\"\n",
        "  mytree = ET.parse(xml_path)\n",
        "  reviews = mytree.getroot()\n",
        "  input = []\n",
        "  all_opinions = []\n",
        "  for rew in reviews:\n",
        "    for sent in rew[0]: #cicle on single sentence in review.\n",
        "      txt = sent[0].text\n",
        "      if len(sent)>1:\n",
        "        input.append(txt)\n",
        "        sent_opinions = []\n",
        "        for opinion in sent[1]:\n",
        "          op_dict = opinion.attrib\n",
        "          sent_opinions.append(op_dict)\n",
        "        all_opinions.append(sent_opinions)\n",
        "\n",
        "  MJI = 0\n",
        "  MPR = 0\n",
        "  MRC = 0\n",
        "  MF1 = 0\n",
        "  tot = len(input)\n",
        "  i = 0\n",
        "  for sent_txt, opinions_target in zip(input, all_opinions):\n",
        "    predict = get_opinions(sent_txt)\n",
        "    MJI += jaccardIndex(predict, opinions_target)\n",
        "    MPR += precision(predict, opinions_target)\n",
        "    MRC += recall(predict, opinions_target)\n",
        "    MF1 += f1score(predict, opinions_target)\n",
        "    i += 1\n",
        "    print(\"Observed={}\".format(i/tot))\n",
        "    print(\"Jaccard={} Precision={} Recall={} F1-score={}\".format(MJI/i,MPR/i,MRC/i,MF1/i))\n",
        "\n",
        "  return MJI/tot, MPR/tot, MRC/tot, MF1/tot"
      ],
      "metadata": {
        "id": "RT7PZ0yMd3go"
      },
      "execution_count": null,
      "outputs": []
    },
    {
      "cell_type": "code",
      "source": [
        "j,p,r,f1 = evaluate_restaurants()\n",
        "print(\"Jaccard:{} Precision:{} Recall:{} F1:{}\".format(j,p,r,f1))"
      ],
      "metadata": {
        "id": "cBjGaMbyeMph"
      },
      "execution_count": null,
      "outputs": []
    },
    {
      "cell_type": "markdown",
      "source": [
        "# Inference of models"
      ],
      "metadata": {
        "id": "BtJhqPqWZ5CK"
      }
    },
    {
      "cell_type": "code",
      "source": [
        "import pandas as pd\n",
        "import pickle\n",
        "\n",
        "df = pd.read_pickle(\"/content/drive/MyDrive/HLT/ds.pkl\")\n",
        "pkl_file = open('/content/drive/MyDrive/HLT/cat_pol_couples.pkl', 'rb')\n",
        "cat_pol_couples = pickle.load(pkl_file)\n",
        "pkl_file.close()"
      ],
      "metadata": {
        "id": "aNoAodDpvY7_"
      },
      "execution_count": null,
      "outputs": []
    },
    {
      "cell_type": "code",
      "source": [
        "epochs=1\n",
        "model = create_model_class()\n",
        "model.load_weights(\"/content/drive/MyDrive/HLT/class_model_balanced.h5\")"
      ],
      "metadata": {
        "id": "OazT4j1gZ4iT",
        "colab": {
          "base_uri": "https://localhost:8080/",
          "height": 156,
          "referenced_widgets": [
            "10a4469cbeb540ff8d961d23b1dc58df",
            "95d064bf3eb246d2861fa0a9dfb19ed9",
            "76a8eb371869447488dcc44d8cd315b1",
            "28aa9491c51e4d63994e4c165dff661f",
            "792e7c63bdf248c89ff9ef615752867e",
            "00a41a671d3c4d39927d3c88dd2f4a36",
            "dec923fa743f4f46b4f4644702c43fc2",
            "1cad7d52892e46a6af14a1f6393faafc",
            "c6988e819ce54ad99a847e7e8ada2706",
            "fdfbfd3a5dae45ce89c91eac4870a009",
            "59652c3a3a37432b8c05c52f00af132f"
          ]
        },
        "outputId": "817b7ce4-13ea-4639-9041-6950d07bdc0c"
      },
      "execution_count": null,
      "outputs": [
        {
          "output_type": "display_data",
          "data": {
            "text/plain": [
              "Downloading:   0%|          | 0.00/511M [00:00<?, ?B/s]"
            ],
            "application/vnd.jupyter.widget-view+json": {
              "version_major": 2,
              "version_minor": 0,
              "model_id": "10a4469cbeb540ff8d961d23b1dc58df"
            }
          },
          "metadata": {}
        },
        {
          "output_type": "stream",
          "name": "stderr",
          "text": [
            "Some layers from the model checkpoint at bert-base-uncased were not used when initializing TFBertModel: ['nsp___cls', 'mlm___cls']\n",
            "- This IS expected if you are initializing TFBertModel from the checkpoint of a model trained on another task or with another architecture (e.g. initializing a BertForSequenceClassification model from a BertForPreTraining model).\n",
            "- This IS NOT expected if you are initializing TFBertModel from the checkpoint of a model that you expect to be exactly identical (initializing a BertForSequenceClassification model from a BertForSequenceClassification model).\n",
            "All the layers of TFBertModel were initialized from the model checkpoint at bert-base-uncased.\n",
            "If your task is similar to the task the model of the checkpoint was trained on, you can already use TFBertModel for predictions without further training.\n"
          ]
        }
      ]
    },
    {
      "cell_type": "code",
      "source": [
        "ner_model = create_model(4)\n",
        "ner_model.load_weights(\"/content/drive/MyDrive/HLT/ner_model_balanced.h5\")"
      ],
      "metadata": {
        "id": "IsZTyFVebMVi",
        "colab": {
          "base_uri": "https://localhost:8080/"
        },
        "outputId": "a2a246bf-7c35-4c66-83f2-39f4fdff4cb8"
      },
      "execution_count": null,
      "outputs": [
        {
          "output_type": "stream",
          "name": "stderr",
          "text": [
            "Some layers from the model checkpoint at bert-base-uncased were not used when initializing TFBertModel: ['nsp___cls', 'mlm___cls']\n",
            "- This IS expected if you are initializing TFBertModel from the checkpoint of a model trained on another task or with another architecture (e.g. initializing a BertForSequenceClassification model from a BertForPreTraining model).\n",
            "- This IS NOT expected if you are initializing TFBertModel from the checkpoint of a model that you expect to be exactly identical (initializing a BertForSequenceClassification model from a BertForSequenceClassification model).\n",
            "All the layers of TFBertModel were initialized from the model checkpoint at bert-base-uncased.\n",
            "If your task is similar to the task the model of the checkpoint was trained on, you can already use TFBertModel for predictions without further training.\n"
          ]
        }
      ]
    },
    {
      "cell_type": "code",
      "source": [
        "from functools import reduce\n",
        "\n",
        "def inference_function(c,th):\n",
        "  res=[]\n",
        "  tokens=tokenize_couple(c)\n",
        "  x = [np.array([tokens['input_ids']]), np.array([tokens['token_type_ids']]), np.array([tokens['attention_mask']])]\n",
        "  out2 = ner_model.predict(x,verbose=0,)\n",
        "  out1 = model.predict(x,verbose=0,)\n",
        "  out1[out1 < th] = 0 #thresholding.\n",
        "  indice = np.argmax(out1[0])\n",
        "  classi=[\"no\",\"yes\"]\n",
        "  # print(classi[indice])\n",
        "  tag_couple = []\n",
        "  category = \"#\".join(c[1].split(\" \")[:-1])\n",
        "  category = category.upper()\n",
        "  if indice==1:\n",
        "    argmax_out = np.argmax(out2,-1)\n",
        "    if 1 in argmax_out:\n",
        "      tag_list = [\"O\",\"B\",\"I\",\"P\"]\n",
        "      tokens = slow_tokenizer.tokenize(\"[CLS]\"+c[0]+\"[SEP]\")\n",
        "      for i,t in enumerate(tokens):\n",
        "        tag_couple.append((t,tag_list[argmax_out[0][i]]))\n",
        "        # print(\"{}-{}\".format(t,tag_list[argmax_out[0][i]]))\n",
        "      \n",
        "      tokens = tokens[1:-1] #remove [CLS] and [SEP] tokens\n",
        "      list_indices = []\n",
        "      start=0\n",
        "      end=0\n",
        "      previous = 'O'\n",
        "      trovato = False\n",
        "\n",
        "      for i,(t,tag) in enumerate(tag_couple[1:-1]):\n",
        "        if tag!='O' and not trovato:\n",
        "          start=i\n",
        "          trovato=True\n",
        "        if trovato and tag=='O':\n",
        "          end=i\n",
        "          trovato=False\n",
        "          list_indices.append((start,end))\n",
        "      special_caracters=[':','-','$','[',']',')','(','.',',','?','!']\n",
        "      for z in list_indices:\n",
        "        parte_asx = tokens[:z[0]]\n",
        "        if len(parte_asx)==0:\n",
        "          from_= 0\n",
        "          fake_space_sx = 0\n",
        "        else:\n",
        "          from_ = reduce(lambda x,y:x+y,(map(lambda x:len(x.replace(\"#\",\"\")),parte_asx)))\n",
        "          fake_space_sx = reduce(lambda x,y:x+y,(map(lambda x: 1 if (\"#\" in x) or (x in special_caracters) else 0,parte_asx)))\n",
        "        space_sx = z[0]\n",
        "        from_+=space_sx-fake_space_sx\n",
        "        parte_adx = tokens[:z[1]]\n",
        "        to = reduce(lambda x,y:x+y,(map(lambda x:len(x.replace(\"#\",\"\")),parte_adx)))\n",
        "        space_dx = z[1]\n",
        "        fake_space_dx = reduce(lambda x,y:x+y,(map(lambda x: 1 if (\"#\" in x) or (x in special_caracters) else 0,parte_adx)))\n",
        "        to+=space_dx-fake_space_dx-1\n",
        "        # print(\"target={} category={} polarity={} from:{} to:{}\".format(c[0][from_:to],\"#\".join(c[1].split(\" \")[:-1]),c[1].split(\" \")[-1],from_,to))\n",
        "        \n",
        "        res.append({'target':c[0][from_:to], 'category':category, 'polarity':c[1].split(\" \")[-1], 'from':str(from_), 'to':str(to)})\n",
        "        # res+=\"<a style=\\\"font-size:13px\\\">target={} category={} polarity={} from:{} to:{}</a><br>\".format(c[0][from_:to],\"#\".join(c[1].split(\" \")[:-1]),c[1].split(\" \")[-1],from_,to)\n",
        "    else:\n",
        "      # print(\"target={} category={} polarity={} from:{} to:{}\".format(\"NULL\",\"#\".join(c[1].split(\" \")[:-1]),c[1].split(\" \")[-1],0,0))\n",
        "      # res += \"target={} category={} polarity={} from:{} to:{}\".format(\"NULL\",\"#\".join(c[1].split(\" \")[:-1]),c[1].split(\" \")[-1],0,0)\n",
        "      res.append({'target':\"NULL\", 'category':category, 'polarity':c[1].split(\" \")[-1], 'from':'0', 'to':'0'})\n",
        "      # res+=\"<a style=\\\"font-size:13px\\\">target={} category={} polarity={} from:{} to:{}</a><br>\".format(\"NULL\",\"#\".join(c[1].split(\" \")[:-1]),c[1].split(\" \")[-1],0,0)\n",
        "  return res\n"
      ],
      "metadata": {
        "id": "HPg9dL99dZiZ"
      },
      "execution_count": null,
      "outputs": []
    },
    {
      "cell_type": "code",
      "source": [
        "c=(\"I LOOOVE their eggplant pizza, as well as their pastas and their risotti!\",\"food quality positive\")\n",
        "# c = (\"Good food: my favorite is the seafood spaghetti.\",\"food quality positive\")\n",
        "inference_function(c,0.90)"
      ],
      "metadata": {
        "colab": {
          "base_uri": "https://localhost:8080/"
        },
        "id": "7BUvm9XotCOK",
        "outputId": "d5134c39-381c-4b60-cae9-5fd4f9de337d"
      },
      "execution_count": null,
      "outputs": [
        {
          "output_type": "execute_result",
          "data": {
            "text/plain": [
              "[{'category': 'FOOD#QUALITY',\n",
              "  'from': '15',\n",
              "  'polarity': 'positive',\n",
              "  'target': 'eggplant pizza',\n",
              "  'to': '29'},\n",
              " {'category': 'FOOD#QUALITY',\n",
              "  'from': '48',\n",
              "  'polarity': 'positive',\n",
              "  'target': 'pastas',\n",
              "  'to': '54'},\n",
              " {'category': 'FOOD#QUALITY',\n",
              "  'from': '65',\n",
              "  'polarity': 'positive',\n",
              "  'target': 'risotti',\n",
              "  'to': '72'}]"
            ]
          },
          "metadata": {},
          "execution_count": 17
        }
      ]
    },
    {
      "cell_type": "code",
      "source": [
        "tokenize_couple((\"I love the pizza here!\",\"food quality positive\"))"
      ],
      "metadata": {
        "colab": {
          "base_uri": "https://localhost:8080/"
        },
        "id": "Ew5EQSH-ReF5",
        "outputId": "bb93e57c-3b6d-489b-a6e9-4ad89ed77a14"
      },
      "execution_count": null,
      "outputs": [
        {
          "output_type": "execute_result",
          "data": {
            "text/plain": [
              "{'input_ids': [101, 1045, 2293, 1996, 10733, 2182, 999, 102, 0, 0, 0, 0, 0, 0, 0, 0, 0, 0, 0, 0, 0, 0, 0, 0, 0, 0, 0, 0, 0, 0, 0, 0, 0, 0, 0, 0, 0, 0, 0, 0, 0, 0, 0, 0, 0, 0, 0, 0, 0, 0, 0, 0, 0, 0, 0, 0, 0, 0, 0, 0, 0, 0, 0, 0, 0, 0, 0, 0, 0, 0, 0, 0, 0, 0, 0, 0, 0, 0, 0, 0, 0, 0, 0, 0, 0, 0, 0, 0, 0, 0, 0, 0, 0, 0, 0, 0, 0, 0, 0, 0, 0, 0, 0, 0, 0, 0, 0, 0, 0, 0, 0, 0, 0, 0, 0, 0, 0, 0, 0, 0, 0, 0, 0, 0, 0, 0, 0, 0, 0, 0, 0, 0, 0, 0, 0, 0, 0, 0, 0, 0, 0, 0, 0, 0, 0, 0, 0, 0, 0, 0, 0, 0, 0, 0, 0, 0, 0, 0, 0, 0, 0, 0, 0, 0, 0, 0, 0, 0, 0, 0, 0, 0, 0, 0, 0, 0, 0, 0, 0, 0, 0, 0, 0, 0, 0, 0, 0, 0, 0, 0, 0, 0, 0, 0, 0, 0, 0, 0, 0, 0, 0, 0, 0, 0, 0, 0, 0, 0, 0, 0, 0, 0, 0, 0, 0, 0, 0, 0, 0, 0, 0, 0, 0, 0, 0, 0, 0, 0, 0, 0, 0, 0, 0, 0, 0, 0, 0, 0, 0, 0, 0, 0, 0, 0, 0, 0, 0, 0, 0, 0, 0, 0, 0, 0, 0, 0, 2833, 3737, 3893, 102, 0, 0, 0, 0, 0, 0], 'token_type_ids': [0, 0, 0, 0, 0, 0, 0, 0, 0, 0, 0, 0, 0, 0, 0, 0, 0, 0, 0, 0, 0, 0, 0, 0, 0, 0, 0, 0, 0, 0, 0, 0, 0, 0, 0, 0, 0, 0, 0, 0, 0, 0, 0, 0, 0, 0, 0, 0, 0, 0, 0, 0, 0, 0, 0, 0, 0, 0, 0, 0, 0, 0, 0, 0, 0, 0, 0, 0, 0, 0, 0, 0, 0, 0, 0, 0, 0, 0, 0, 0, 0, 0, 0, 0, 0, 0, 0, 0, 0, 0, 0, 0, 0, 0, 0, 0, 0, 0, 0, 0, 0, 0, 0, 0, 0, 0, 0, 0, 0, 0, 0, 0, 0, 0, 0, 0, 0, 0, 0, 0, 0, 0, 0, 0, 0, 0, 0, 0, 0, 0, 0, 0, 0, 0, 0, 0, 0, 0, 0, 0, 0, 0, 0, 0, 0, 0, 0, 0, 0, 0, 0, 0, 0, 0, 0, 0, 0, 0, 0, 0, 0, 0, 0, 0, 0, 0, 0, 0, 0, 0, 0, 0, 0, 0, 0, 0, 0, 0, 0, 0, 0, 0, 0, 0, 0, 0, 0, 0, 0, 0, 0, 0, 0, 0, 0, 0, 0, 0, 0, 0, 0, 0, 0, 0, 0, 0, 0, 0, 0, 0, 0, 0, 0, 0, 0, 0, 0, 0, 0, 0, 0, 0, 0, 0, 0, 0, 0, 0, 0, 0, 0, 0, 0, 0, 0, 0, 0, 0, 0, 0, 0, 0, 0, 0, 0, 0, 0, 0, 0, 0, 0, 0, 0, 0, 0, 0, 1, 1, 1, 1, 1, 1, 1, 1, 1, 1], 'attention_mask': [1, 1, 1, 1, 1, 1, 1, 1, 0, 0, 0, 0, 0, 0, 0, 0, 0, 0, 0, 0, 0, 0, 0, 0, 0, 0, 0, 0, 0, 0, 0, 0, 0, 0, 0, 0, 0, 0, 0, 0, 0, 0, 0, 0, 0, 0, 0, 0, 0, 0, 0, 0, 0, 0, 0, 0, 0, 0, 0, 0, 0, 0, 0, 0, 0, 0, 0, 0, 0, 0, 0, 0, 0, 0, 0, 0, 0, 0, 0, 0, 0, 0, 0, 0, 0, 0, 0, 0, 0, 0, 0, 0, 0, 0, 0, 0, 0, 0, 0, 0, 0, 0, 0, 0, 0, 0, 0, 0, 0, 0, 0, 0, 0, 0, 0, 0, 0, 0, 0, 0, 0, 0, 0, 0, 0, 0, 0, 0, 0, 0, 0, 0, 0, 0, 0, 0, 0, 0, 0, 0, 0, 0, 0, 0, 0, 0, 0, 0, 0, 0, 0, 0, 0, 0, 0, 0, 0, 0, 0, 0, 0, 0, 0, 0, 0, 0, 0, 0, 0, 0, 0, 0, 0, 0, 0, 0, 0, 0, 0, 0, 0, 0, 0, 0, 0, 0, 0, 0, 0, 0, 0, 0, 0, 0, 0, 0, 0, 0, 0, 0, 0, 0, 0, 0, 0, 0, 0, 0, 0, 0, 0, 0, 0, 0, 0, 0, 0, 0, 0, 0, 0, 0, 0, 0, 0, 0, 0, 0, 0, 0, 0, 0, 0, 0, 0, 0, 0, 0, 0, 0, 0, 0, 0, 0, 0, 0, 0, 0, 0, 0, 0, 0, 0, 0, 0, 0, 1, 1, 1, 1, 0, 0, 0, 0, 0, 0]}"
            ]
          },
          "metadata": {},
          "execution_count": 19
        }
      ]
    },
    {
      "cell_type": "code",
      "source": [
        "def big_inference(txt,th=0.90):\n",
        "  res=\"\"\n",
        "  for cat in cat_pol_couples:\n",
        "    c = (txt,\" \".join(cat[0].lower().split(\"#\"))+\" \"+cat[1])\n",
        "    res += inference_function(c,th)\n",
        "  return res"
      ],
      "metadata": {
        "id": "_6z0S7Qxy5pD"
      },
      "execution_count": null,
      "outputs": []
    },
    {
      "cell_type": "code",
      "source": [
        "a = big_inference(\"The waiter was attentive, the food was delicious and the views of the city were great.\")"
      ],
      "metadata": {
        "colab": {
          "base_uri": "https://localhost:8080/"
        },
        "id": "iLlgFPfKzpEb",
        "outputId": "550299f1-d61a-4ff4-86db-18ff8ed7f907"
      },
      "execution_count": null,
      "outputs": [
        {
          "output_type": "stream",
          "name": "stdout",
          "text": [
            "target=food category=food#general polarity=positive from:30 to:34\n",
            "target=waiter category=service#general polarity=positive from:4 to:10\n",
            "target=food category=food#quality polarity=positive from:30 to:34\n",
            "target=views category=ambience#general polarity=positive from:57 to:62\n",
            "target=NULL category=location#general polarity=positive from:0 to:0\n"
          ]
        }
      ]
    },
    {
      "cell_type": "code",
      "source": [
        "a"
      ],
      "metadata": {
        "colab": {
          "base_uri": "https://localhost:8080/",
          "height": 70
        },
        "id": "toqNP6_Nyw4b",
        "outputId": "99fbddc8-0b86-4a0a-f1bf-0757069de74a"
      },
      "execution_count": null,
      "outputs": [
        {
          "output_type": "execute_result",
          "data": {
            "text/plain": [
              "'target=food category=food#general polarity=positive from:30 to:34 \\ntarget=waiter category=service#general polarity=positive from:4 to:10 \\ntarget=food category=food#quality polarity=positive from:30 to:34 \\ntarget=views category=ambience#general polarity=positive from:57 to:62 \\ntarget=NULL category=location#general polarity=positive from:0 to:0 \\n'"
            ],
            "application/vnd.google.colaboratory.intrinsic+json": {
              "type": "string"
            }
          },
          "metadata": {},
          "execution_count": 65
        }
      ]
    },
    {
      "cell_type": "markdown",
      "source": [
        "##Gradio"
      ],
      "metadata": {
        "id": "zzzzWSjepudC"
      }
    },
    {
      "cell_type": "code",
      "source": [
        "!pip install gradio"
      ],
      "metadata": {
        "id": "hDtx2gSIp7tU"
      },
      "execution_count": null,
      "outputs": []
    },
    {
      "cell_type": "code",
      "source": [
        "import gradio as gr\n",
        "demo = gr.Interface(\n",
        "    fn=big_inference,\n",
        "    inputs=[\"text\"],\n",
        "    outputs=[\"html\"],\n",
        ")\n",
        "# gr.Slider(0, 1)\n",
        "demo.launch(debug=True)"
      ],
      "metadata": {
        "colab": {
          "base_uri": "https://localhost:8080/",
          "height": 747
        },
        "id": "Hs2NTEqzpslp",
        "outputId": "037ef2ed-97d0-4c3b-ff09-997259359956"
      },
      "execution_count": null,
      "outputs": [
        {
          "output_type": "stream",
          "name": "stdout",
          "text": [
            "Colab notebook detected. This cell will run indefinitely so that you can see errors and logs. To turn off, set debug=False in launch().\n",
            "Running on public URL: https://42923.gradio.app\n",
            "\n",
            "This share link expires in 72 hours. For free permanent hosting, check out Spaces (https://huggingface.co/spaces)\n"
          ]
        },
        {
          "output_type": "display_data",
          "data": {
            "text/plain": [
              "<IPython.lib.display.IFrame at 0x7fc277df5c10>"
            ],
            "text/html": [
              "\n",
              "        <iframe\n",
              "            width=\"900\"\n",
              "            height=\"500\"\n",
              "            src=\"https://42923.gradio.app\"\n",
              "            frameborder=\"0\"\n",
              "            allowfullscreen\n",
              "        ></iframe>\n",
              "        "
            ]
          },
          "metadata": {}
        },
        {
          "output_type": "stream",
          "name": "stdout",
          "text": [
            "target=food category=food#general polarity=positive from:30 to:34\n",
            "target=waiter category=service#general polarity=positive from:4 to:10\n",
            "target=food category=food#quality polarity=positive from:30 to:34\n",
            "target=views category=ambience#general polarity=positive from:57 to:62\n",
            "target=NULL category=location#general polarity=positive from:0 to:0\n",
            "Keyboard interruption in main thread... closing server.\n"
          ]
        },
        {
          "output_type": "execute_result",
          "data": {
            "text/plain": [
              "(<gradio.routes.App at 0x7fc27f33aed0>,\n",
              " 'http://127.0.0.1:7861/',\n",
              " 'https://42923.gradio.app')"
            ]
          },
          "metadata": {},
          "execution_count": 80
        }
      ]
    },
    {
      "cell_type": "markdown",
      "source": [
        "# Evaluation"
      ],
      "metadata": {
        "id": "angaujb2S4YW"
      }
    },
    {
      "cell_type": "code",
      "source": [
        "from functools import reduce\n",
        "\n",
        "def inference_function(c,th):\n",
        "  res=[]\n",
        "  tokens=tokenize_couple(c)\n",
        "  x = [np.array([tokens['input_ids']]), np.array([tokens['token_type_ids']]), np.array([tokens['attention_mask']])]\n",
        "  out2 = ner_model.predict(x,verbose=0,)\n",
        "  out1 = model.predict(x,verbose=0,)\n",
        "  out1[out1 < th] = 0 #thresholding.\n",
        "  indice = np.argmax(out1[0])\n",
        "  classi=[\"no\",\"yes\"]\n",
        "  tag_couple = []\n",
        "  category = \"#\".join(c[1].split(\" \")[:-1])\n",
        "  category = category.upper()\n",
        "  if indice==1:\n",
        "    argmax_out = np.argmax(out2,-1)\n",
        "    if 1 in argmax_out:\n",
        "      tag_list = [\"O\",\"B\",\"I\",\"P\"]\n",
        "      tokens = slow_tokenizer.tokenize(\"[CLS]\"+c[0]+\"[SEP]\")\n",
        "      for i,t in enumerate(tokens):\n",
        "        tag_couple.append((t,tag_list[argmax_out[0][i]]))\n",
        "      \n",
        "      tokens = tokens[1:-1] #remove [CLS] and [SEP] tokens\n",
        "      list_indices = []\n",
        "      start=0\n",
        "      end=0\n",
        "      previous = 'O'\n",
        "      trovato = False\n",
        "\n",
        "      for i,(t,tag) in enumerate(tag_couple[1:-1]):\n",
        "        if tag!='O' and not trovato:\n",
        "          start=i\n",
        "          trovato=True\n",
        "        if trovato and tag=='O':\n",
        "          end=i\n",
        "          trovato=False\n",
        "          list_indices.append((start,end))\n",
        "      special_caracters=[':','-','$','[',']',')','(','.',',','?','!']\n",
        "      for z in list_indices:\n",
        "        parte_asx = tokens[:z[0]]\n",
        "        if len(parte_asx)==0:\n",
        "          from_= 0\n",
        "          fake_space_sx = 0\n",
        "        else:\n",
        "          from_ = reduce(lambda x,y:x+y,(map(lambda x:len(x.replace(\"#\",\"\")),parte_asx)))\n",
        "          fake_space_sx = reduce(lambda x,y:x+y,(map(lambda x: 1 if (\"#\" in x) or (x in special_caracters) else 0,parte_asx)))\n",
        "        space_sx = z[0]\n",
        "        from_+=space_sx-fake_space_sx\n",
        "        parte_adx = tokens[:z[1]]\n",
        "        to = reduce(lambda x,y:x+y,(map(lambda x:len(x.replace(\"#\",\"\")),parte_adx)))\n",
        "        space_dx = z[1]\n",
        "        fake_space_dx = reduce(lambda x,y:x+y,(map(lambda x: 1 if (\"#\" in x) or (x in special_caracters) else 0,parte_adx)))\n",
        "        to+=space_dx-fake_space_dx-1\n",
        "        \n",
        "        res.append({'target':c[0][from_:to], 'category':category, 'polarity':c[1].split(\" \")[-1], 'from':str(from_), 'to':str(to)})\n",
        "    else:\n",
        "\n",
        "      res.append({'target':\"NULL\", 'category':category, 'polarity':c[1].split(\" \")[-1], 'from':'0', 'to':'0'})\n",
        "  return res"
      ],
      "metadata": {
        "id": "ShL8HDCr2xjW"
      },
      "execution_count": null,
      "outputs": []
    },
    {
      "cell_type": "code",
      "source": [
        "def get_opinions(txt, th=0.90):\n",
        "  predict = [];\n",
        "  \n",
        "  for cat in cat_pol_couples:\n",
        "    c = (txt,\" \".join(cat[0].lower().split(\"#\"))+\" \"+cat[1])\n",
        "    inf = inference_function(c,th)\n",
        "    if len(inf)>0:\n",
        "      predict.extend(inf)\n",
        "\n",
        "  return predict"
      ],
      "metadata": {
        "id": "Zgaz_AoomO6B"
      },
      "execution_count": null,
      "outputs": []
    },
    {
      "cell_type": "code",
      "source": [
        "import nltk\n",
        "nltk.download('punkt')\n",
        "\n",
        "from nltk.tokenize import sent_tokenize\n",
        "\n",
        "def get_opinions_rawText(txt, th=0.90):\n",
        "  ss = sent_tokenize(txt)\n",
        "\n",
        "  predict = [];\n",
        "  for s in ss:\n",
        "    predict.append(get_opinions(s, th));\n",
        "\n",
        "  return predict"
      ],
      "metadata": {
        "id": "u5z0gjmzS7vl",
        "colab": {
          "base_uri": "https://localhost:8080/"
        },
        "outputId": "065e2d0e-a875-46e9-ffa5-b7a47c044381"
      },
      "execution_count": null,
      "outputs": [
        {
          "output_type": "stream",
          "name": "stdout",
          "text": [
            "[nltk_data] Downloading package punkt to /root/nltk_data...\n",
            "[nltk_data]   Package punkt is already up-to-date!\n"
          ]
        }
      ]
    },
    {
      "cell_type": "code",
      "source": [
        "get_opinions_rawText(\"Hi, i'm chiara pugliese\")"
      ],
      "metadata": {
        "colab": {
          "base_uri": "https://localhost:8080/",
          "height": 321
        },
        "id": "1hth2OFj3HNZ",
        "outputId": "67262e2e-7e7f-4de4-ece5-fd760215c521"
      },
      "execution_count": null,
      "outputs": [
        {
          "output_type": "error",
          "ename": "NameError",
          "evalue": "ignored",
          "traceback": [
            "\u001b[0;31m---------------------------------------------------------------------------\u001b[0m",
            "\u001b[0;31mNameError\u001b[0m                                 Traceback (most recent call last)",
            "\u001b[0;32m<ipython-input-49-d4c2eaaec45a>\u001b[0m in \u001b[0;36m<module>\u001b[0;34m()\u001b[0m\n\u001b[0;32m----> 1\u001b[0;31m \u001b[0mget_opinions_rawText\u001b[0m\u001b[0;34m(\u001b[0m\u001b[0;34m\"Hi, i'm chiara pugliese\"\u001b[0m\u001b[0;34m)\u001b[0m\u001b[0;34m\u001b[0m\u001b[0;34m\u001b[0m\u001b[0m\n\u001b[0m",
            "\u001b[0;32m<ipython-input-45-6e3dada5c0a5>\u001b[0m in \u001b[0;36mget_opinions_rawText\u001b[0;34m(txt, th)\u001b[0m\n\u001b[1;32m      9\u001b[0m   \u001b[0mpredict\u001b[0m \u001b[0;34m=\u001b[0m \u001b[0;34m[\u001b[0m\u001b[0;34m]\u001b[0m\u001b[0;34m;\u001b[0m\u001b[0;34m\u001b[0m\u001b[0;34m\u001b[0m\u001b[0m\n\u001b[1;32m     10\u001b[0m   \u001b[0;32mfor\u001b[0m \u001b[0ms\u001b[0m \u001b[0;32min\u001b[0m \u001b[0mss\u001b[0m\u001b[0;34m:\u001b[0m\u001b[0;34m\u001b[0m\u001b[0;34m\u001b[0m\u001b[0m\n\u001b[0;32m---> 11\u001b[0;31m     \u001b[0mpredict\u001b[0m\u001b[0;34m.\u001b[0m\u001b[0mappend\u001b[0m\u001b[0;34m(\u001b[0m\u001b[0mget_opinions\u001b[0m\u001b[0;34m(\u001b[0m\u001b[0ms\u001b[0m\u001b[0;34m,\u001b[0m \u001b[0mth\u001b[0m\u001b[0;34m)\u001b[0m\u001b[0;34m)\u001b[0m\u001b[0;34m;\u001b[0m\u001b[0;34m\u001b[0m\u001b[0;34m\u001b[0m\u001b[0m\n\u001b[0m\u001b[1;32m     12\u001b[0m \u001b[0;34m\u001b[0m\u001b[0m\n\u001b[1;32m     13\u001b[0m   \u001b[0;32mreturn\u001b[0m \u001b[0mpredict\u001b[0m\u001b[0;34m\u001b[0m\u001b[0;34m\u001b[0m\u001b[0m\n",
            "\u001b[0;32m<ipython-input-44-f660a7aab58d>\u001b[0m in \u001b[0;36mget_opinions\u001b[0;34m(txt, th)\u001b[0m\n\u001b[1;32m      4\u001b[0m   \u001b[0;32mfor\u001b[0m \u001b[0mcat\u001b[0m \u001b[0;32min\u001b[0m \u001b[0mcat_pol_couples\u001b[0m\u001b[0;34m:\u001b[0m\u001b[0;34m\u001b[0m\u001b[0;34m\u001b[0m\u001b[0m\n\u001b[1;32m      5\u001b[0m     \u001b[0mc\u001b[0m \u001b[0;34m=\u001b[0m \u001b[0;34m(\u001b[0m\u001b[0mtxt\u001b[0m\u001b[0;34m,\u001b[0m\u001b[0;34m\" \"\u001b[0m\u001b[0;34m.\u001b[0m\u001b[0mjoin\u001b[0m\u001b[0;34m(\u001b[0m\u001b[0mcat\u001b[0m\u001b[0;34m[\u001b[0m\u001b[0;36m0\u001b[0m\u001b[0;34m]\u001b[0m\u001b[0;34m.\u001b[0m\u001b[0mlower\u001b[0m\u001b[0;34m(\u001b[0m\u001b[0;34m)\u001b[0m\u001b[0;34m.\u001b[0m\u001b[0msplit\u001b[0m\u001b[0;34m(\u001b[0m\u001b[0;34m\"#\"\u001b[0m\u001b[0;34m)\u001b[0m\u001b[0;34m)\u001b[0m\u001b[0;34m+\u001b[0m\u001b[0;34m\" \"\u001b[0m\u001b[0;34m+\u001b[0m\u001b[0mcat\u001b[0m\u001b[0;34m[\u001b[0m\u001b[0;36m1\u001b[0m\u001b[0;34m]\u001b[0m\u001b[0;34m)\u001b[0m\u001b[0;34m\u001b[0m\u001b[0;34m\u001b[0m\u001b[0m\n\u001b[0;32m----> 6\u001b[0;31m     \u001b[0minf\u001b[0m \u001b[0;34m=\u001b[0m \u001b[0minference_function\u001b[0m\u001b[0;34m(\u001b[0m\u001b[0mc\u001b[0m\u001b[0;34m,\u001b[0m\u001b[0mth\u001b[0m\u001b[0;34m)\u001b[0m\u001b[0;34m\u001b[0m\u001b[0;34m\u001b[0m\u001b[0m\n\u001b[0m\u001b[1;32m      7\u001b[0m     \u001b[0;32mif\u001b[0m \u001b[0mlen\u001b[0m\u001b[0;34m(\u001b[0m\u001b[0minf\u001b[0m\u001b[0;34m)\u001b[0m\u001b[0;34m>\u001b[0m\u001b[0;36m0\u001b[0m\u001b[0;34m:\u001b[0m\u001b[0;34m\u001b[0m\u001b[0;34m\u001b[0m\u001b[0m\n\u001b[1;32m      8\u001b[0m       \u001b[0mpredict\u001b[0m\u001b[0;34m.\u001b[0m\u001b[0mextend\u001b[0m\u001b[0;34m(\u001b[0m\u001b[0minf\u001b[0m\u001b[0;34m)\u001b[0m\u001b[0;34m\u001b[0m\u001b[0;34m\u001b[0m\u001b[0m\n",
            "\u001b[0;32m<ipython-input-43-1b038001cc09>\u001b[0m in \u001b[0;36minference_function\u001b[0;34m(c, th)\u001b[0m\n\u001b[1;32m      3\u001b[0m \u001b[0;32mdef\u001b[0m \u001b[0minference_function\u001b[0m\u001b[0;34m(\u001b[0m\u001b[0mc\u001b[0m\u001b[0;34m,\u001b[0m\u001b[0mth\u001b[0m\u001b[0;34m)\u001b[0m\u001b[0;34m:\u001b[0m\u001b[0;34m\u001b[0m\u001b[0;34m\u001b[0m\u001b[0m\n\u001b[1;32m      4\u001b[0m   \u001b[0mres\u001b[0m\u001b[0;34m=\u001b[0m\u001b[0;34m[\u001b[0m\u001b[0;34m]\u001b[0m\u001b[0;34m\u001b[0m\u001b[0;34m\u001b[0m\u001b[0m\n\u001b[0;32m----> 5\u001b[0;31m   \u001b[0mtokens\u001b[0m\u001b[0;34m=\u001b[0m\u001b[0mtokenize_couple\u001b[0m\u001b[0;34m(\u001b[0m\u001b[0mc\u001b[0m\u001b[0;34m)\u001b[0m\u001b[0;34m\u001b[0m\u001b[0;34m\u001b[0m\u001b[0m\n\u001b[0m\u001b[1;32m      6\u001b[0m   \u001b[0mx\u001b[0m \u001b[0;34m=\u001b[0m \u001b[0;34m[\u001b[0m\u001b[0mnp\u001b[0m\u001b[0;34m.\u001b[0m\u001b[0marray\u001b[0m\u001b[0;34m(\u001b[0m\u001b[0;34m[\u001b[0m\u001b[0mtokens\u001b[0m\u001b[0;34m[\u001b[0m\u001b[0;34m'input_ids'\u001b[0m\u001b[0;34m]\u001b[0m\u001b[0;34m]\u001b[0m\u001b[0;34m)\u001b[0m\u001b[0;34m,\u001b[0m \u001b[0mnp\u001b[0m\u001b[0;34m.\u001b[0m\u001b[0marray\u001b[0m\u001b[0;34m(\u001b[0m\u001b[0;34m[\u001b[0m\u001b[0mtokens\u001b[0m\u001b[0;34m[\u001b[0m\u001b[0;34m'token_type_ids'\u001b[0m\u001b[0;34m]\u001b[0m\u001b[0;34m]\u001b[0m\u001b[0;34m)\u001b[0m\u001b[0;34m,\u001b[0m \u001b[0mnp\u001b[0m\u001b[0;34m.\u001b[0m\u001b[0marray\u001b[0m\u001b[0;34m(\u001b[0m\u001b[0;34m[\u001b[0m\u001b[0mtokens\u001b[0m\u001b[0;34m[\u001b[0m\u001b[0;34m'attention_mask'\u001b[0m\u001b[0;34m]\u001b[0m\u001b[0;34m]\u001b[0m\u001b[0;34m)\u001b[0m\u001b[0;34m]\u001b[0m\u001b[0;34m\u001b[0m\u001b[0;34m\u001b[0m\u001b[0m\n\u001b[1;32m      7\u001b[0m   \u001b[0mout2\u001b[0m \u001b[0;34m=\u001b[0m \u001b[0mner_model\u001b[0m\u001b[0;34m.\u001b[0m\u001b[0mpredict\u001b[0m\u001b[0;34m(\u001b[0m\u001b[0mx\u001b[0m\u001b[0;34m,\u001b[0m\u001b[0mverbose\u001b[0m\u001b[0;34m=\u001b[0m\u001b[0;36m0\u001b[0m\u001b[0;34m,\u001b[0m\u001b[0;34m)\u001b[0m\u001b[0;34m\u001b[0m\u001b[0;34m\u001b[0m\u001b[0m\n",
            "\u001b[0;32m<ipython-input-47-bad57c11a90c>\u001b[0m in \u001b[0;36mtokenize_couple\u001b[0;34m(ex)\u001b[0m\n\u001b[1;32m      1\u001b[0m \u001b[0;32mdef\u001b[0m \u001b[0mtokenize_couple\u001b[0m\u001b[0;34m(\u001b[0m\u001b[0mex\u001b[0m\u001b[0;34m)\u001b[0m\u001b[0;34m:\u001b[0m\u001b[0;34m\u001b[0m\u001b[0;34m\u001b[0m\u001b[0m\n\u001b[0;32m----> 2\u001b[0;31m   \u001b[0mdct\u001b[0m\u001b[0;34m=\u001b[0m\u001b[0mslow_tokenizer\u001b[0m\u001b[0;34m(\u001b[0m\u001b[0mex\u001b[0m\u001b[0;34m[\u001b[0m\u001b[0;36m0\u001b[0m\u001b[0;34m]\u001b[0m\u001b[0;34m,\u001b[0m \u001b[0mmax_length\u001b[0m\u001b[0;34m=\u001b[0m\u001b[0mmax_len_txt\u001b[0m\u001b[0;34m,\u001b[0m \u001b[0mpadding\u001b[0m\u001b[0;34m=\u001b[0m\u001b[0;34m'max_length'\u001b[0m\u001b[0;34m)\u001b[0m\u001b[0;34m\u001b[0m\u001b[0;34m\u001b[0m\u001b[0m\n\u001b[0m\u001b[1;32m      3\u001b[0m   \u001b[0mdct2\u001b[0m\u001b[0;34m=\u001b[0m\u001b[0mslow_tokenizer\u001b[0m\u001b[0;34m(\u001b[0m\u001b[0mex\u001b[0m\u001b[0;34m[\u001b[0m\u001b[0;36m1\u001b[0m\u001b[0;34m]\u001b[0m\u001b[0;34m+\u001b[0m\u001b[0;34m\"[SEP]\"\u001b[0m\u001b[0;34m,\u001b[0m\u001b[0madd_special_tokens\u001b[0m\u001b[0;34m=\u001b[0m\u001b[0;32mFalse\u001b[0m\u001b[0;34m,\u001b[0m\u001b[0mmax_length\u001b[0m\u001b[0;34m=\u001b[0m\u001b[0mquery_len\u001b[0m\u001b[0;34m,\u001b[0m \u001b[0mpadding\u001b[0m\u001b[0;34m=\u001b[0m\u001b[0;34m'max_length'\u001b[0m\u001b[0;34m)\u001b[0m\u001b[0;34m\u001b[0m\u001b[0;34m\u001b[0m\u001b[0m\n\u001b[1;32m      4\u001b[0m   \u001b[0mdct2\u001b[0m\u001b[0;34m[\u001b[0m\u001b[0;34m'token_type_ids'\u001b[0m\u001b[0;34m]\u001b[0m\u001b[0;34m=\u001b[0m\u001b[0;34m[\u001b[0m\u001b[0;36m1\u001b[0m \u001b[0;32mfor\u001b[0m \u001b[0mi\u001b[0m \u001b[0;32min\u001b[0m \u001b[0mrange\u001b[0m\u001b[0;34m(\u001b[0m\u001b[0mquery_len\u001b[0m\u001b[0;34m)\u001b[0m\u001b[0;34m]\u001b[0m\u001b[0;34m\u001b[0m\u001b[0;34m\u001b[0m\u001b[0m\n\u001b[1;32m      5\u001b[0m   \u001b[0mdct\u001b[0m\u001b[0;34m[\u001b[0m\u001b[0;34m'input_ids'\u001b[0m\u001b[0;34m]\u001b[0m\u001b[0;34m.\u001b[0m\u001b[0mextend\u001b[0m\u001b[0;34m(\u001b[0m\u001b[0mdct2\u001b[0m\u001b[0;34m[\u001b[0m\u001b[0;34m'input_ids'\u001b[0m\u001b[0;34m]\u001b[0m\u001b[0;34m)\u001b[0m\u001b[0;34m\u001b[0m\u001b[0;34m\u001b[0m\u001b[0m\n",
            "\u001b[0;31mNameError\u001b[0m: name 'max_len_txt' is not defined"
          ]
        }
      ]
    },
    {
      "cell_type": "code",
      "source": [
        "import os\n",
        "\n",
        "def jaccardIndex(predict, target):\n",
        "  predict = list(map(str,predict))\n",
        "  target = list(map(str,target))\n",
        "  predict = set(predict)\n",
        "  target = set(target)\n",
        "  \n",
        "  inter = len(predict.intersection(target))\n",
        "  union = len(predict.union(target))\n",
        "  if union==0:\n",
        "    return 1\n",
        "  return inter / union"
      ],
      "metadata": {
        "id": "HgN2Qkd8TBfY"
      },
      "execution_count": null,
      "outputs": []
    },
    {
      "cell_type": "code",
      "source": [
        "import os\n",
        "\n",
        "def precision(predict, target):\n",
        "  predict = list(map(str,predict))\n",
        "  target = list(map(str,target))\n",
        "  predict = set(predict)\n",
        "  target = set(target)\n",
        "  \n",
        "  inter = len(predict.intersection(target))\n",
        "  num_predict = len(predict)\n",
        "  if num_predict==0:\n",
        "    return 1\n",
        "  return inter / num_predict"
      ],
      "metadata": {
        "id": "C3LB5x96Wjn9"
      },
      "execution_count": null,
      "outputs": []
    },
    {
      "cell_type": "code",
      "source": [
        "import os\n",
        "\n",
        "def recall(predict, target):\n",
        "  predict = list(map(str,predict))\n",
        "  target = list(map(str,target))\n",
        "  predict = set(predict)\n",
        "  target = set(target)\n",
        "  \n",
        "  inter = len(predict.intersection(target))\n",
        "  num_target = len(target)\n",
        "  if num_target==0:\n",
        "    return 1\n",
        "  return inter / num_target"
      ],
      "metadata": {
        "id": "Yhj7vzWuWykC"
      },
      "execution_count": null,
      "outputs": []
    },
    {
      "cell_type": "code",
      "source": [
        "import os\n",
        "\n",
        "def f1score(predict, target):\n",
        "  return (2 * precision(predict, target) * recall(predict, target)) / (precision(predict, target) + recall(predict, target))"
      ],
      "metadata": {
        "id": "w48ndgrQAKc5"
      },
      "execution_count": null,
      "outputs": []
    },
    {
      "cell_type": "code",
      "source": [
        "import zipfile\n",
        "import pandas as pd\n",
        "import xml.etree.ElementTree as ET\n",
        "!pip install tensorflow_text\n",
        "\n",
        "dataset_path = \"/content/drive/MyDrive/HLT/RestaurantTS.zip\"\n",
        "with zipfile.ZipFile(dataset_path,\"r\") as zip_ref:\n",
        "  zip_ref.extractall(\"./dataset\")"
      ],
      "metadata": {
        "id": "by5Roihfl4g0"
      },
      "execution_count": null,
      "outputs": []
    },
    {
      "cell_type": "code",
      "source": [
        "import numpy as np\n",
        "\n",
        "def evaluate_restaurants():\n",
        "  \"\"\"\n",
        "    Mean of Jaccard index over the sentences\n",
        "  \"\"\"\n",
        "\n",
        "  xml_path = \"/content/dataset/ABSA15_Restaurants_Test.xml\"\n",
        "  mytree = ET.parse(xml_path)\n",
        "  reviews = mytree.getroot()\n",
        "  input = []\n",
        "  all_opinions = []\n",
        "  for rew in reviews:\n",
        "    for sent in rew[0]: #cicle on single sentence in review.\n",
        "      txt = sent[0].text\n",
        "      if len(sent)>1:\n",
        "        input.append(txt)\n",
        "        sent_opinions = []\n",
        "        for opinion in sent[1]:\n",
        "          op_dict = opinion.attrib\n",
        "          sent_opinions.append(op_dict)\n",
        "        all_opinions.append(sent_opinions)\n",
        "\n",
        "  JI = 0\n",
        "  PR = 0\n",
        "  RC = 0\n",
        "  F1 = 0\n",
        "  tot = len(input)\n",
        "  i = 0\n",
        "  for sent_txt, opinions_target in zip(input, all_opinions):\n",
        "    predict = get_opinions(sent_txt)\n",
        "    i += 1\n",
        "    JI += jaccardIndex(predict, opinions_target)\n",
        "    PR += precision(predict, opinions_target)\n",
        "    RC += recall(predict, opinions_target)\n",
        "    F1 += f1score(predict, opinions_target)\n",
        "    print(\"Observed={}\".format(i/tot))\n",
        "    print(\"Jaccard={} Precision={} Recall={} F1-score={}\".format(JI/i,PR/i,RC/i,F1/i))\n",
        "\n",
        "  MJI = JI/tot\n",
        "  MPR = PR/tot\n",
        "  MRC = RC/tot\n",
        "  MF1 = F1/tot\n",
        "\n",
        "  return MJI,MPR,MRC,MF1"
      ],
      "metadata": {
        "id": "ivxBt7gRlylP"
      },
      "execution_count": null,
      "outputs": []
    },
    {
      "cell_type": "code",
      "source": [
        "j,p,r,f = evaluate_restaurants()\n",
        "print(\"Jaccard:{} Precision:{} Recall:{} F1:{}\".format(j,p,r,f))"
      ],
      "metadata": {
        "colab": {
          "base_uri": "https://localhost:8080/"
        },
        "id": "g9gyyU_ufSix",
        "outputId": "c8d93e36-7253-4cba-d0bd-7c22fc2b091a"
      },
      "execution_count": null,
      "outputs": [
        {
          "output_type": "stream",
          "name": "stdout",
          "text": [
            "0.0\n",
            "J=0.0 P=0.0 R=0.0\n",
            "0.001718213058419244\n",
            "J=0.5 P=0.5 R=0.5\n",
            "0.003436426116838488\n",
            "J=0.5 P=0.5 R=0.6666666666666666\n",
            "0.005154639175257732\n",
            "J=0.5 P=0.5 R=0.75\n",
            "0.006872852233676976\n",
            "J=0.5 P=0.5 R=0.8\n",
            "0.00859106529209622\n",
            "J=0.44047619047619047 P=0.44047619047619047 R=0.8333333333333334\n",
            "0.010309278350515464\n",
            "J=0.401360544217687 P=0.401360544217687 R=0.8571428571428571\n",
            "0.012027491408934709\n",
            "J=0.35119047619047616 P=0.35119047619047616 R=0.75\n",
            "0.013745704467353952\n",
            "J=0.3677248677248677 P=0.3677248677248677 R=0.7777777777777778\n",
            "0.015463917525773196\n",
            "J=0.33095238095238094 P=0.33095238095238094 R=0.7\n",
            "0.01718213058419244\n",
            "J=0.3463203463203463 P=0.3463203463203463 R=0.7272727272727273\n",
            "0.018900343642611683\n",
            "J=0.35912698412698413 P=0.35912698412698413 R=0.75\n",
            "0.020618556701030927\n",
            "J=0.4084249084249084 P=0.4084249084249084 R=0.7692307692307693\n",
            "0.022336769759450172\n",
            "J=0.4149659863945578 P=0.4149659863945578 R=0.7857142857142857\n",
            "0.024054982817869417\n",
            "J=0.3873015873015873 P=0.45396825396825397 R=0.7333333333333333\n",
            "0.02577319587628866\n",
            "J=0.3943452380952381 P=0.4568452380952381 R=0.75\n",
            "0.027491408934707903\n",
            "J=0.3711484593837535 P=0.4299719887955182 R=0.7058823529411765\n",
            "0.029209621993127148\n",
            "J=0.3727513227513228 P=0.4283068783068783 R=0.7222222222222222\n",
            "0.030927835051546393\n",
            "J=0.3531328320802005 P=0.40576441102756894 R=0.6842105263157895\n",
            "0.03264604810996564\n",
            "J=0.3854761904761905 P=0.43547619047619046 R=0.7\n",
            "0.03436426116838488\n",
            "J=0.3909297052154195 P=0.4385487528344671 R=0.7142857142857143\n",
            "0.03608247422680412\n",
            "J=0.37770562770562766 P=0.42366522366522363 R=0.7045454545454546\n",
            "0.037800687285223365\n",
            "J=0.3612836438923395 P=0.4052449965493443 R=0.6739130434782609\n",
            "0.03951890034364261\n",
            "J=0.3628968253968254 P=0.405026455026455 R=0.6875\n",
            "0.041237113402061855\n",
            "J=0.3563809523809523 P=0.39682539682539675 R=0.7\n",
            "0.0429553264604811\n",
            "J=0.3426739926739926 P=0.3815628815628815 R=0.6730769230769231\n",
            "0.044673539518900345\n",
            "J=0.3447971781305114 P=0.385949441504997 R=0.6728395061728395\n",
            "0.04639175257731959\n",
            "J=0.33248299319727886 P=0.3721655328798185 R=0.6488095238095238\n",
            "0.048109965635738834\n",
            "J=0.3253284072249589 P=0.36364258347016964 R=0.6609195402298851\n",
            "0.04982817869415808\n",
            "J=0.3144841269841269 P=0.35152116402116396 R=0.638888888888889\n",
            "0.05154639175257732\n",
            "J=0.320468509984639 P=0.356310803891449 R=0.6505376344086022\n",
            "0.05326460481099656\n",
            "J=0.310453869047619 P=0.3451760912698412 R=0.6302083333333334\n",
            "0.054982817869415807\n",
            "J=0.3111471861471861 P=0.3448172198172198 R=0.6414141414141414\n",
            "0.05670103092783505\n",
            "J=0.30787815126050416 P=0.3420284780578898 R=0.6372549019607844\n",
            "0.058419243986254296\n",
            "J=0.3034772370486656 P=0.3366518402232688 R=0.6476190476190476\n",
            "0.06013745704467354\n",
            "J=0.30893620268620264 P=0.34118928910595575 R=0.6574074074074074\n",
            "0.061855670103092786\n",
            "J=0.30959558459558456 P=0.340976965976966 R=0.6666666666666667\n",
            "0.06357388316151202\n",
            "J=0.308027279737806 P=0.34077581774950194 R=0.662280701754386\n",
            "0.06529209621993128\n",
            "J=0.30012914435991356 P=0.35767900190977114 R=0.6452991452991453\n",
            "0.06701030927835051\n",
            "J=0.30512591575091574 P=0.36123702686202686 R=0.6541666666666667\n",
            "0.06872852233676977\n",
            "J=0.30987894219601536 P=0.3646214896214896 R=0.6626016260162602\n",
            "0.070446735395189\n",
            "J=0.3104373800802372 P=0.3654638351066922 R=0.6626984126984128\n",
            "0.07216494845360824\n",
            "J=0.314845813101627 P=0.36859258312746684 R=0.6705426356589148\n",
            "0.07388316151202749\n",
            "J=0.315265984015984 P=0.3677912365412366 R=0.6780303030303031\n",
            "0.07560137457044673\n",
            "J=0.3156674806674807 P=0.36702550535883866 R=0.6851851851851852\n",
            "0.07731958762886598\n",
            "J=0.3088051441312311 P=0.3590466900249509 R=0.6702898550724639\n",
            "0.07903780068728522\n",
            "J=0.3128731197880134 P=0.36204569662016467 R=0.6773049645390071\n",
            "0.08075601374570447\n",
            "J=0.31677159645909647 P=0.3649197446072446 R=0.6840277777777778\n",
            "0.08247422680412371\n",
            "J=0.3148420173930378 P=0.36200755027285636 R=0.6904761904761906\n",
            "0.08419243986254296\n",
            "J=0.31254517704517704 P=0.3587673992673992 R=0.6966666666666668\n",
            "0.0859106529209622\n",
            "J=0.3260246833776245 P=0.37134058751705806 R=0.7026143790849674\n",
            "0.08762886597938144\n",
            "J=0.31975497792805485 P=0.36419942237249925 R=0.6891025641025641\n",
            "0.08934707903780069\n",
            "J=0.31372186513695943 P=0.3573277351579238 R=0.6761006289308177\n",
            "0.09106529209621993\n",
            "J=0.3140850404739293 P=0.35688339438339434 R=0.6820987654320988\n",
            "0.09278350515463918\n",
            "J=0.31746531246531245 P=0.3594855144855144 R=0.6878787878787879\n",
            "0.09450171821305842\n",
            "J=0.32072486045700327 P=0.3619947017268445 R=0.693452380952381\n",
            "0.09621993127147767\n",
            "J=0.3150981085191611 P=0.3556439174860227 R=0.6812865497076024\n",
            "0.0979381443298969\n",
            "J=0.3096653825102101 P=0.3495121258052292 R=0.6695402298850575\n",
            "0.09965635738831616\n",
            "J=0.3086541048405455 P=0.34782547960514054 R=0.6751412429378532\n",
            "0.1013745704467354\n",
            "J=0.3035098697598697 P=0.3420283882783882 R=0.663888888888889\n",
            "0.10309278350515463\n",
            "J=0.30058347845233085 P=0.33847054584759495 R=0.6693989071038252\n",
            "0.10481099656357389\n",
            "J=0.29976761589664813 P=0.33704360155973057 R=0.674731182795699\n",
            "0.10652920962199312\n",
            "J=0.2981840029459077 P=0.33486830629687764 R=0.6798941798941799\n",
            "0.10824742268041238\n",
            "J=0.29743112789987786 P=0.33354223901098895 R=0.6848958333333334\n",
            "0.10996563573883161\n",
            "J=0.2928552643937259 P=0.34379543533389684 R=0.6743589743589744\n",
            "0.11168384879725086\n",
            "J=0.29599382099382093 P=0.34616217116217113 R=0.6792929292929293\n",
            "0.1134020618556701\n",
            "J=0.30650137590436094 P=0.3559209447269148 R=0.6840796019900498\n",
            "0.11512027491408934\n",
            "J=0.3093469439057674 P=0.3580397543632837 R=0.6887254901960784\n",
            "0.11683848797250859\n",
            "J=0.3084868432694519 P=0.3576816902903859 R=0.6859903381642513\n",
            "0.11855670103092783\n",
            "J=0.30884179312750737 P=0.3573338566195708 R=0.6904761904761905\n",
            "0.12027491408934708\n",
            "J=0.31153416223838754 P=0.35934323892070363 R=0.6948356807511737\n",
            "0.12199312714776632\n",
            "J=0.3072072988739655 P=0.3543523606023605 R=0.6851851851851852\n",
            "0.12371134020618557\n",
            "J=0.30397745329252174 P=0.3504766922575141 R=0.6894977168949772\n",
            "0.1254295532646048\n",
            "J=0.3066264066264066 P=0.35249727749727744 R=0.6936936936936937\n",
            "0.12714776632302405\n",
            "J=0.3047602767602767 P=0.35001953601953595 R=0.6977777777777778\n",
            "0.12886597938144329\n",
            "J=0.30184676434676433 P=0.3468760041128462 R=0.6918859649122807\n",
            "0.13058419243986255\n",
            "J=0.30442018299161155 P=0.34886462743605595 R=0.6958874458874459\n",
            "0.1323024054982818\n",
            "J=0.3037224883378729 P=0.34759713221251676 R=0.6997863247863249\n",
            "0.13402061855670103\n",
            "J=0.3062070138019505 P=0.3495262824376748 R=0.7035864978902954\n",
            "0.13573883161512026\n",
            "J=0.3036294261294261 P=0.3465460927960927 R=0.7010416666666667\n",
            "0.13745704467353953\n",
            "J=0.3029673344488159 P=0.34535416572453603 R=0.7047325102880658\n",
            "0.13917525773195877\n",
            "J=0.2992726108579767 P=0.3411425295571637 R=0.6961382113821138\n",
            "0.140893470790378\n",
            "J=0.29566691675125406 P=0.3370323785986436 R=0.6877510040160643\n",
            "0.14261168384879724\n",
            "J=0.2980994534565963 P=0.3389724693296121 R=0.691468253968254\n",
            "0.14432989690721648\n",
            "J=0.2945924010629893 P=0.33498455792573434 R=0.6833333333333333\n",
            "0.14604810996563575\n",
            "J=0.2911669080273731 P=0.3310893886475281 R=0.6753875968992248\n",
            "0.14776632302405499\n",
            "J=0.2887043352560594 P=0.3283286955700748 R=0.671455938697318\n",
            "0.14948453608247422\n",
            "J=0.2854236041736042 P=0.32459768766586944 R=0.6638257575757577\n",
            "0.15120274914089346\n",
            "J=0.2822165973851367 P=0.32095052263591584 R=0.656367041198502\n",
            "0.15292096219931273\n",
            "J=0.27908085741419075 P=0.3284955168288501 R=0.6490740740740741\n",
            "0.15463917525773196\n",
            "J=0.27601403480524356 P=0.324885675984577 R=0.641941391941392\n",
            "0.1563573883161512\n",
            "J=0.27301388225301265 P=0.3213543099412664 R=0.6349637681159421\n",
            "0.15807560137457044\n",
            "J=0.27007824911050715 P=0.3178988872537259 R=0.628136200716846\n",
            "0.15979381443298968\n",
            "J=0.27252422518379965 P=0.31983613313400544 R=0.6320921985815603\n",
            "0.16151202749140894\n",
            "J=0.27176081228712806 P=0.31880861828230245 R=0.6324561403508773\n",
            "0.16323024054982818\n",
            "J=0.2724021927146927 P=0.3189599173974173 R=0.6362847222222222\n",
            "0.16494845360824742\n",
            "J=0.2695939226867062 P=0.3156716708263099 R=0.6297250859106529\n",
            "0.16666666666666666\n",
            "J=0.2668429642919439 P=0.31245053132808226 R=0.6232993197278912\n",
            "0.16838487972508592\n",
            "J=0.26583108249774917 P=0.31097796703857306 R=0.6271043771043772\n",
            "0.17010309278350516\n",
            "J=0.27317277167277165 P=0.3178681873681873 R=0.6308333333333334\n",
            "0.1718213058419244\n",
            "J=0.27136818077412134 P=0.31562106760126557 R=0.6344884488448845\n",
            "0.17353951890034364\n",
            "J=0.26870770841359076 P=0.3125267434090963 R=0.6282679738562092\n",
            "0.17525773195876287\n",
            "J=0.2693351416652387 P=0.31272874913651605 R=0.6318770226537218\n",
            "0.17697594501718214\n",
            "J=0.2667453806876883 P=0.30972174193328034 R=0.6258012820512822\n",
            "0.17869415807560138\n",
            "J=0.2642049484906627 P=0.3067720110577253 R=0.61984126984127\n",
            "0.18041237113402062\n",
            "J=0.2617124489765999 P=0.303877935481709 R=0.613993710691824\n",
            "0.18213058419243985\n",
            "J=0.2592665382385008 P=0.30103795477627243 R=0.6082554517133957\n",
            "0.18384879725085912\n",
            "J=0.2568659221436999 P=0.2982505663061218 R=0.6026234567901235\n",
            "0.18556701030927836\n",
            "J=0.2590965100139412 P=0.30010147854184543 R=0.6062691131498472\n",
            "0.1872852233676976\n",
            "J=0.25901381446835986 P=0.29964601055510137 R=0.609848484848485\n",
            "0.18900343642611683\n",
            "J=0.25848215848215844 P=0.29894849894849884 R=0.6103603603603605\n",
            "0.19072164948453607\n",
            "J=0.25617428206713916 P=0.296279315922173 R=0.6049107142857144\n",
            "0.19243986254295534\n",
            "J=0.25769992053177887 P=0.29808215383436615 R=0.6061946902654869\n",
            "0.19415807560137457\n",
            "J=0.2642113247376405 P=0.30423932792353836 R=0.6096491228070177\n",
            "0.1958762886597938\n",
            "J=0.26365296539209576 P=0.3033328989850728 R=0.6130434782608697\n",
            "0.19759450171821305\n",
            "J=0.270000784655957 P=0.30933864985589116 R=0.6163793103448277\n",
            "0.19931271477663232\n",
            "J=0.27054208849080635 P=0.30954373262065565 R=0.6196581196581198\n",
            "0.20103092783505155\n",
            "J=0.27248664706291814 P=0.3111577687848874 R=0.6228813559322035\n",
            "0.2027491408934708\n",
            "J=0.2701968433060869 P=0.30854299761862786 R=0.6176470588235295\n",
            "0.20446735395189003\n",
            "J=0.2700285362785362 P=0.3080551393051393 R=0.6208333333333335\n",
            "0.20618556701030927\n",
            "J=0.2677968954828458 P=0.30550922906294803 R=0.6157024793388431\n",
            "0.20790378006872853\n",
            "J=0.27379856027397004 P=0.3112017763657108 R=0.6188524590163935\n",
            "0.20962199312714777\n",
            "J=0.2715725557188971 P=0.3086716806229001 R=0.6138211382113822\n",
            "0.211340206185567\n",
            "J=0.26938245446309955 P=0.30618239287594123 R=0.6088709677419356\n",
            "0.21305841924398625\n",
            "J=0.2698940614940614 P=0.3063996003996004 R=0.6120000000000001\n",
            "0.21477663230240548\n",
            "J=0.26775204513299744 P=0.3039678575392861 R=0.6071428571428572\n",
            "0.21649484536082475\n",
            "J=0.26761226525006043 P=0.30419908175813687 R=0.6062992125984253\n",
            "0.218213058419244\n",
            "J=0.26552154442779435 P=0.30182252643190144 R=0.6015625000000001\n",
            "0.21993127147766323\n",
            "J=0.26346323788184245 P=0.2994828169246774 R=0.5968992248062016\n",
            "0.22164948453608246\n",
            "J=0.2614365975904437 P=0.2971791029483337 R=0.5923076923076924\n",
            "0.22336769759450173\n",
            "J=0.2613492953187609 P=0.2974550894398223 R=0.5916030534351147\n",
            "0.22508591065292097\n",
            "J=0.2593693764148309 P=0.29520164179255093 R=0.5871212121212123\n",
            "0.2268041237113402\n",
            "J=0.2586723635595815 P=0.29423521340814573 R=0.5902255639097745\n",
            "0.22852233676975944\n",
            "J=0.2567419727867488 P=0.2920394282334581 R=0.5858208955223881\n",
            "0.23024054982817868\n",
            "J=0.25484018039573586 P=0.28987617320950654 R=0.5814814814814816\n",
            "0.23195876288659795\n",
            "J=0.2538854731869437 P=0.28866384840649545 R=0.5845588235294119\n",
            "0.23367697594501718\n",
            "J=0.25203229455054266 P=0.286556813016667 R=0.5802919708029198\n",
            "0.23539518900343642\n",
            "J=0.25141370304413774 P=0.2857978374282722 R=0.5809178743961354\n",
            "0.23711340206185566\n",
            "J=0.24960497136756118 P=0.28374173787842855 R=0.57673860911271\n",
            "0.23883161512027493\n",
            "J=0.2506792215720786 P=0.2845721540364397 R=0.5797619047619049\n",
            "0.24054982817869416\n",
            "J=0.24890135475241848 P=0.28255391180923095 R=0.5756501182033098\n",
            "0.2422680412371134\n",
            "J=0.24761801187857518 P=0.28115094998897816 R=0.5733568075117372\n",
            "0.24398625429553264\n",
            "J=0.24625447038954576 P=0.2795733598181151 R=0.572843822843823\n",
            "0.24570446735395188\n",
            "J=0.2514888143451739 P=0.28457632259715593 R=0.5758101851851853\n",
            "0.24742268041237114\n",
            "J=0.2514785466600348 P=0.2843378651999342 R=0.5787356321839082\n",
            "0.24914089347079038\n",
            "J=0.25318074839524 P=0.2869565556209392 R=0.5793378995433791\n",
            "0.2508591065292096\n",
            "J=0.25315911065105473 P=0.2867051504806607 R=0.582199546485261\n",
            "0.25257731958762886\n",
            "J=0.2531377653088179 P=0.2864571427071427 R=0.5850225225225227\n",
            "0.2542955326460481\n",
            "J=0.2547945588302352 P=0.28789031624602096 R=0.5878076062639822\n",
            "0.25601374570446733\n",
            "J=0.254429261771367 P=0.2876377141377141 R=0.5872222222222224\n",
            "0.25773195876288657\n",
            "J=0.2560555580510268 P=0.289044086891769 R=0.5899558498896249\n",
            "0.25945017182130586\n",
            "J=0.26094992937963846 P=0.2937214284253758 R=0.59265350877193\n",
            "0.2611683848797251\n",
            "J=0.26251234814186303 P=0.29506965438337984 R=0.5953159041394337\n",
            "0.26288659793814434\n",
            "J=0.26297222466908043 P=0.29531811983110684 R=0.5979437229437231\n",
            "0.2646048109965636\n",
            "J=0.26127562967121537 P=0.2998644545418739 R=0.5940860215053765\n"
          ]
        }
      ]
    },
    {
      "cell_type": "code",
      "source": [
        "opinions = get_opinions(\"I recommend this place to everyone.\")"
      ],
      "metadata": {
        "id": "Vh5d72Aiy7pE"
      },
      "execution_count": null,
      "outputs": []
    },
    {
      "cell_type": "code",
      "source": [
        "opinions"
      ],
      "metadata": {
        "colab": {
          "base_uri": "https://localhost:8080/"
        },
        "id": "O5vBH8yz3BwP",
        "outputId": "d48a7a84-9c6b-444a-ad76-6bcda20e4a52"
      },
      "execution_count": null,
      "outputs": [
        {
          "output_type": "execute_result",
          "data": {
            "text/plain": [
              "[{'category': 'RESTAURANT#GENERAL',\n",
              "  'from': '17',\n",
              "  'polarity': 'positive',\n",
              "  'target': 'place',\n",
              "  'to': '22'}]"
            ]
          },
          "metadata": {},
          "execution_count": 86
        }
      ]
    },
    {
      "cell_type": "code",
      "source": [
        "target = [{'target':\"pastas\", 'category':\"FOOD#QUALITY\", 'polarity':\"positive\", 'from':4, 'to':10},\n",
        "{'target':\"risottos\", 'category':\"FOOD#QUALITY\", 'polarity':\"positive\", 'from':31, 'to':39},\n",
        "{'target':\"sepia\", 'category':\"FOOD#QUALITY\", 'polarity':\"positive\", 'from':58, 'to':63},\n",
        "{'target':\"braised rabbit\", 'category':\"FOOD#QUALITY\", 'polarity':\"positive\", 'from':87, 'to':101}]"
      ],
      "metadata": {
        "id": "wHXtDgZEzP5R"
      },
      "execution_count": null,
      "outputs": []
    },
    {
      "cell_type": "code",
      "source": [
        "precision(opinions,target)"
      ],
      "metadata": {
        "colab": {
          "base_uri": "https://localhost:8080/"
        },
        "id": "6FAhfsWfxt2t",
        "outputId": "e8acd46d-3991-4398-c24d-8971e0f9ba48"
      },
      "execution_count": null,
      "outputs": [
        {
          "output_type": "execute_result",
          "data": {
            "text/plain": [
              "0.5"
            ]
          },
          "metadata": {},
          "execution_count": 63
        }
      ]
    }
  ],
  "metadata": {
    "colab": {
      "collapsed_sections": [
        "UMGHVW79BznX",
        "vSlujw-M33Su",
        "RXpxaJE7Vq77",
        "BtJhqPqWZ5CK",
        "zzzzWSjepudC"
      ],
      "name": "hlt_project.ipynb",
      "provenance": []
    },
    "kernelspec": {
      "display_name": "Python 3",
      "name": "python3"
    },
    "language_info": {
      "name": "python"
    },
    "widgets": {
      "application/vnd.jupyter.widget-state+json": {
        "10a4469cbeb540ff8d961d23b1dc58df": {
          "model_module": "@jupyter-widgets/controls",
          "model_name": "HBoxModel",
          "model_module_version": "1.5.0",
          "state": {
            "_dom_classes": [],
            "_model_module": "@jupyter-widgets/controls",
            "_model_module_version": "1.5.0",
            "_model_name": "HBoxModel",
            "_view_count": null,
            "_view_module": "@jupyter-widgets/controls",
            "_view_module_version": "1.5.0",
            "_view_name": "HBoxView",
            "box_style": "",
            "children": [
              "IPY_MODEL_95d064bf3eb246d2861fa0a9dfb19ed9",
              "IPY_MODEL_76a8eb371869447488dcc44d8cd315b1",
              "IPY_MODEL_28aa9491c51e4d63994e4c165dff661f"
            ],
            "layout": "IPY_MODEL_792e7c63bdf248c89ff9ef615752867e"
          }
        },
        "95d064bf3eb246d2861fa0a9dfb19ed9": {
          "model_module": "@jupyter-widgets/controls",
          "model_name": "HTMLModel",
          "model_module_version": "1.5.0",
          "state": {
            "_dom_classes": [],
            "_model_module": "@jupyter-widgets/controls",
            "_model_module_version": "1.5.0",
            "_model_name": "HTMLModel",
            "_view_count": null,
            "_view_module": "@jupyter-widgets/controls",
            "_view_module_version": "1.5.0",
            "_view_name": "HTMLView",
            "description": "",
            "description_tooltip": null,
            "layout": "IPY_MODEL_00a41a671d3c4d39927d3c88dd2f4a36",
            "placeholder": "​",
            "style": "IPY_MODEL_dec923fa743f4f46b4f4644702c43fc2",
            "value": "Downloading: 100%"
          }
        },
        "76a8eb371869447488dcc44d8cd315b1": {
          "model_module": "@jupyter-widgets/controls",
          "model_name": "FloatProgressModel",
          "model_module_version": "1.5.0",
          "state": {
            "_dom_classes": [],
            "_model_module": "@jupyter-widgets/controls",
            "_model_module_version": "1.5.0",
            "_model_name": "FloatProgressModel",
            "_view_count": null,
            "_view_module": "@jupyter-widgets/controls",
            "_view_module_version": "1.5.0",
            "_view_name": "ProgressView",
            "bar_style": "success",
            "description": "",
            "description_tooltip": null,
            "layout": "IPY_MODEL_1cad7d52892e46a6af14a1f6393faafc",
            "max": 536063208,
            "min": 0,
            "orientation": "horizontal",
            "style": "IPY_MODEL_c6988e819ce54ad99a847e7e8ada2706",
            "value": 536063208
          }
        },
        "28aa9491c51e4d63994e4c165dff661f": {
          "model_module": "@jupyter-widgets/controls",
          "model_name": "HTMLModel",
          "model_module_version": "1.5.0",
          "state": {
            "_dom_classes": [],
            "_model_module": "@jupyter-widgets/controls",
            "_model_module_version": "1.5.0",
            "_model_name": "HTMLModel",
            "_view_count": null,
            "_view_module": "@jupyter-widgets/controls",
            "_view_module_version": "1.5.0",
            "_view_name": "HTMLView",
            "description": "",
            "description_tooltip": null,
            "layout": "IPY_MODEL_fdfbfd3a5dae45ce89c91eac4870a009",
            "placeholder": "​",
            "style": "IPY_MODEL_59652c3a3a37432b8c05c52f00af132f",
            "value": " 511M/511M [00:23&lt;00:00, 25.1MB/s]"
          }
        },
        "792e7c63bdf248c89ff9ef615752867e": {
          "model_module": "@jupyter-widgets/base",
          "model_name": "LayoutModel",
          "model_module_version": "1.2.0",
          "state": {
            "_model_module": "@jupyter-widgets/base",
            "_model_module_version": "1.2.0",
            "_model_name": "LayoutModel",
            "_view_count": null,
            "_view_module": "@jupyter-widgets/base",
            "_view_module_version": "1.2.0",
            "_view_name": "LayoutView",
            "align_content": null,
            "align_items": null,
            "align_self": null,
            "border": null,
            "bottom": null,
            "display": null,
            "flex": null,
            "flex_flow": null,
            "grid_area": null,
            "grid_auto_columns": null,
            "grid_auto_flow": null,
            "grid_auto_rows": null,
            "grid_column": null,
            "grid_gap": null,
            "grid_row": null,
            "grid_template_areas": null,
            "grid_template_columns": null,
            "grid_template_rows": null,
            "height": null,
            "justify_content": null,
            "justify_items": null,
            "left": null,
            "margin": null,
            "max_height": null,
            "max_width": null,
            "min_height": null,
            "min_width": null,
            "object_fit": null,
            "object_position": null,
            "order": null,
            "overflow": null,
            "overflow_x": null,
            "overflow_y": null,
            "padding": null,
            "right": null,
            "top": null,
            "visibility": null,
            "width": null
          }
        },
        "00a41a671d3c4d39927d3c88dd2f4a36": {
          "model_module": "@jupyter-widgets/base",
          "model_name": "LayoutModel",
          "model_module_version": "1.2.0",
          "state": {
            "_model_module": "@jupyter-widgets/base",
            "_model_module_version": "1.2.0",
            "_model_name": "LayoutModel",
            "_view_count": null,
            "_view_module": "@jupyter-widgets/base",
            "_view_module_version": "1.2.0",
            "_view_name": "LayoutView",
            "align_content": null,
            "align_items": null,
            "align_self": null,
            "border": null,
            "bottom": null,
            "display": null,
            "flex": null,
            "flex_flow": null,
            "grid_area": null,
            "grid_auto_columns": null,
            "grid_auto_flow": null,
            "grid_auto_rows": null,
            "grid_column": null,
            "grid_gap": null,
            "grid_row": null,
            "grid_template_areas": null,
            "grid_template_columns": null,
            "grid_template_rows": null,
            "height": null,
            "justify_content": null,
            "justify_items": null,
            "left": null,
            "margin": null,
            "max_height": null,
            "max_width": null,
            "min_height": null,
            "min_width": null,
            "object_fit": null,
            "object_position": null,
            "order": null,
            "overflow": null,
            "overflow_x": null,
            "overflow_y": null,
            "padding": null,
            "right": null,
            "top": null,
            "visibility": null,
            "width": null
          }
        },
        "dec923fa743f4f46b4f4644702c43fc2": {
          "model_module": "@jupyter-widgets/controls",
          "model_name": "DescriptionStyleModel",
          "model_module_version": "1.5.0",
          "state": {
            "_model_module": "@jupyter-widgets/controls",
            "_model_module_version": "1.5.0",
            "_model_name": "DescriptionStyleModel",
            "_view_count": null,
            "_view_module": "@jupyter-widgets/base",
            "_view_module_version": "1.2.0",
            "_view_name": "StyleView",
            "description_width": ""
          }
        },
        "1cad7d52892e46a6af14a1f6393faafc": {
          "model_module": "@jupyter-widgets/base",
          "model_name": "LayoutModel",
          "model_module_version": "1.2.0",
          "state": {
            "_model_module": "@jupyter-widgets/base",
            "_model_module_version": "1.2.0",
            "_model_name": "LayoutModel",
            "_view_count": null,
            "_view_module": "@jupyter-widgets/base",
            "_view_module_version": "1.2.0",
            "_view_name": "LayoutView",
            "align_content": null,
            "align_items": null,
            "align_self": null,
            "border": null,
            "bottom": null,
            "display": null,
            "flex": null,
            "flex_flow": null,
            "grid_area": null,
            "grid_auto_columns": null,
            "grid_auto_flow": null,
            "grid_auto_rows": null,
            "grid_column": null,
            "grid_gap": null,
            "grid_row": null,
            "grid_template_areas": null,
            "grid_template_columns": null,
            "grid_template_rows": null,
            "height": null,
            "justify_content": null,
            "justify_items": null,
            "left": null,
            "margin": null,
            "max_height": null,
            "max_width": null,
            "min_height": null,
            "min_width": null,
            "object_fit": null,
            "object_position": null,
            "order": null,
            "overflow": null,
            "overflow_x": null,
            "overflow_y": null,
            "padding": null,
            "right": null,
            "top": null,
            "visibility": null,
            "width": null
          }
        },
        "c6988e819ce54ad99a847e7e8ada2706": {
          "model_module": "@jupyter-widgets/controls",
          "model_name": "ProgressStyleModel",
          "model_module_version": "1.5.0",
          "state": {
            "_model_module": "@jupyter-widgets/controls",
            "_model_module_version": "1.5.0",
            "_model_name": "ProgressStyleModel",
            "_view_count": null,
            "_view_module": "@jupyter-widgets/base",
            "_view_module_version": "1.2.0",
            "_view_name": "StyleView",
            "bar_color": null,
            "description_width": ""
          }
        },
        "fdfbfd3a5dae45ce89c91eac4870a009": {
          "model_module": "@jupyter-widgets/base",
          "model_name": "LayoutModel",
          "model_module_version": "1.2.0",
          "state": {
            "_model_module": "@jupyter-widgets/base",
            "_model_module_version": "1.2.0",
            "_model_name": "LayoutModel",
            "_view_count": null,
            "_view_module": "@jupyter-widgets/base",
            "_view_module_version": "1.2.0",
            "_view_name": "LayoutView",
            "align_content": null,
            "align_items": null,
            "align_self": null,
            "border": null,
            "bottom": null,
            "display": null,
            "flex": null,
            "flex_flow": null,
            "grid_area": null,
            "grid_auto_columns": null,
            "grid_auto_flow": null,
            "grid_auto_rows": null,
            "grid_column": null,
            "grid_gap": null,
            "grid_row": null,
            "grid_template_areas": null,
            "grid_template_columns": null,
            "grid_template_rows": null,
            "height": null,
            "justify_content": null,
            "justify_items": null,
            "left": null,
            "margin": null,
            "max_height": null,
            "max_width": null,
            "min_height": null,
            "min_width": null,
            "object_fit": null,
            "object_position": null,
            "order": null,
            "overflow": null,
            "overflow_x": null,
            "overflow_y": null,
            "padding": null,
            "right": null,
            "top": null,
            "visibility": null,
            "width": null
          }
        },
        "59652c3a3a37432b8c05c52f00af132f": {
          "model_module": "@jupyter-widgets/controls",
          "model_name": "DescriptionStyleModel",
          "model_module_version": "1.5.0",
          "state": {
            "_model_module": "@jupyter-widgets/controls",
            "_model_module_version": "1.5.0",
            "_model_name": "DescriptionStyleModel",
            "_view_count": null,
            "_view_module": "@jupyter-widgets/base",
            "_view_module_version": "1.2.0",
            "_view_name": "StyleView",
            "description_width": ""
          }
        },
        "77b9ac899d724d0eb4246ba47061eb71": {
          "model_module": "@jupyter-widgets/controls",
          "model_name": "HBoxModel",
          "model_module_version": "1.5.0",
          "state": {
            "_dom_classes": [],
            "_model_module": "@jupyter-widgets/controls",
            "_model_module_version": "1.5.0",
            "_model_name": "HBoxModel",
            "_view_count": null,
            "_view_module": "@jupyter-widgets/controls",
            "_view_module_version": "1.5.0",
            "_view_name": "HBoxView",
            "box_style": "",
            "children": [
              "IPY_MODEL_b1f31b25e15149b89f6e04827439b1f2",
              "IPY_MODEL_fcec08fd554a4284aafa08eeba9a9fed",
              "IPY_MODEL_9e5b0ae4e386465b892af86c37e21fb7"
            ],
            "layout": "IPY_MODEL_05022614f2f945dfbb79c7ecda2b5cf8"
          }
        },
        "b1f31b25e15149b89f6e04827439b1f2": {
          "model_module": "@jupyter-widgets/controls",
          "model_name": "HTMLModel",
          "model_module_version": "1.5.0",
          "state": {
            "_dom_classes": [],
            "_model_module": "@jupyter-widgets/controls",
            "_model_module_version": "1.5.0",
            "_model_name": "HTMLModel",
            "_view_count": null,
            "_view_module": "@jupyter-widgets/controls",
            "_view_module_version": "1.5.0",
            "_view_name": "HTMLView",
            "description": "",
            "description_tooltip": null,
            "layout": "IPY_MODEL_9d5593ff4a6a4653b23eda14d497ccff",
            "placeholder": "​",
            "style": "IPY_MODEL_8da2cbc75ffe4c649838d0dc7a0a1990",
            "value": "Downloading: 100%"
          }
        },
        "fcec08fd554a4284aafa08eeba9a9fed": {
          "model_module": "@jupyter-widgets/controls",
          "model_name": "FloatProgressModel",
          "model_module_version": "1.5.0",
          "state": {
            "_dom_classes": [],
            "_model_module": "@jupyter-widgets/controls",
            "_model_module_version": "1.5.0",
            "_model_name": "FloatProgressModel",
            "_view_count": null,
            "_view_module": "@jupyter-widgets/controls",
            "_view_module_version": "1.5.0",
            "_view_name": "ProgressView",
            "bar_style": "success",
            "description": "",
            "description_tooltip": null,
            "layout": "IPY_MODEL_bd36a07085aa40a08adba7844b9e25f6",
            "max": 536063208,
            "min": 0,
            "orientation": "horizontal",
            "style": "IPY_MODEL_1397738b8e794d28ad66d22f5fc2a1d1",
            "value": 536063208
          }
        },
        "9e5b0ae4e386465b892af86c37e21fb7": {
          "model_module": "@jupyter-widgets/controls",
          "model_name": "HTMLModel",
          "model_module_version": "1.5.0",
          "state": {
            "_dom_classes": [],
            "_model_module": "@jupyter-widgets/controls",
            "_model_module_version": "1.5.0",
            "_model_name": "HTMLModel",
            "_view_count": null,
            "_view_module": "@jupyter-widgets/controls",
            "_view_module_version": "1.5.0",
            "_view_name": "HTMLView",
            "description": "",
            "description_tooltip": null,
            "layout": "IPY_MODEL_26f0dcf3c5624240983563ad63954490",
            "placeholder": "​",
            "style": "IPY_MODEL_dc07f6b87a8d441d8ffe8d7998629e0f",
            "value": " 511M/511M [00:24&lt;00:00, 26.3MB/s]"
          }
        },
        "05022614f2f945dfbb79c7ecda2b5cf8": {
          "model_module": "@jupyter-widgets/base",
          "model_name": "LayoutModel",
          "model_module_version": "1.2.0",
          "state": {
            "_model_module": "@jupyter-widgets/base",
            "_model_module_version": "1.2.0",
            "_model_name": "LayoutModel",
            "_view_count": null,
            "_view_module": "@jupyter-widgets/base",
            "_view_module_version": "1.2.0",
            "_view_name": "LayoutView",
            "align_content": null,
            "align_items": null,
            "align_self": null,
            "border": null,
            "bottom": null,
            "display": null,
            "flex": null,
            "flex_flow": null,
            "grid_area": null,
            "grid_auto_columns": null,
            "grid_auto_flow": null,
            "grid_auto_rows": null,
            "grid_column": null,
            "grid_gap": null,
            "grid_row": null,
            "grid_template_areas": null,
            "grid_template_columns": null,
            "grid_template_rows": null,
            "height": null,
            "justify_content": null,
            "justify_items": null,
            "left": null,
            "margin": null,
            "max_height": null,
            "max_width": null,
            "min_height": null,
            "min_width": null,
            "object_fit": null,
            "object_position": null,
            "order": null,
            "overflow": null,
            "overflow_x": null,
            "overflow_y": null,
            "padding": null,
            "right": null,
            "top": null,
            "visibility": null,
            "width": null
          }
        },
        "9d5593ff4a6a4653b23eda14d497ccff": {
          "model_module": "@jupyter-widgets/base",
          "model_name": "LayoutModel",
          "model_module_version": "1.2.0",
          "state": {
            "_model_module": "@jupyter-widgets/base",
            "_model_module_version": "1.2.0",
            "_model_name": "LayoutModel",
            "_view_count": null,
            "_view_module": "@jupyter-widgets/base",
            "_view_module_version": "1.2.0",
            "_view_name": "LayoutView",
            "align_content": null,
            "align_items": null,
            "align_self": null,
            "border": null,
            "bottom": null,
            "display": null,
            "flex": null,
            "flex_flow": null,
            "grid_area": null,
            "grid_auto_columns": null,
            "grid_auto_flow": null,
            "grid_auto_rows": null,
            "grid_column": null,
            "grid_gap": null,
            "grid_row": null,
            "grid_template_areas": null,
            "grid_template_columns": null,
            "grid_template_rows": null,
            "height": null,
            "justify_content": null,
            "justify_items": null,
            "left": null,
            "margin": null,
            "max_height": null,
            "max_width": null,
            "min_height": null,
            "min_width": null,
            "object_fit": null,
            "object_position": null,
            "order": null,
            "overflow": null,
            "overflow_x": null,
            "overflow_y": null,
            "padding": null,
            "right": null,
            "top": null,
            "visibility": null,
            "width": null
          }
        },
        "8da2cbc75ffe4c649838d0dc7a0a1990": {
          "model_module": "@jupyter-widgets/controls",
          "model_name": "DescriptionStyleModel",
          "model_module_version": "1.5.0",
          "state": {
            "_model_module": "@jupyter-widgets/controls",
            "_model_module_version": "1.5.0",
            "_model_name": "DescriptionStyleModel",
            "_view_count": null,
            "_view_module": "@jupyter-widgets/base",
            "_view_module_version": "1.2.0",
            "_view_name": "StyleView",
            "description_width": ""
          }
        },
        "bd36a07085aa40a08adba7844b9e25f6": {
          "model_module": "@jupyter-widgets/base",
          "model_name": "LayoutModel",
          "model_module_version": "1.2.0",
          "state": {
            "_model_module": "@jupyter-widgets/base",
            "_model_module_version": "1.2.0",
            "_model_name": "LayoutModel",
            "_view_count": null,
            "_view_module": "@jupyter-widgets/base",
            "_view_module_version": "1.2.0",
            "_view_name": "LayoutView",
            "align_content": null,
            "align_items": null,
            "align_self": null,
            "border": null,
            "bottom": null,
            "display": null,
            "flex": null,
            "flex_flow": null,
            "grid_area": null,
            "grid_auto_columns": null,
            "grid_auto_flow": null,
            "grid_auto_rows": null,
            "grid_column": null,
            "grid_gap": null,
            "grid_row": null,
            "grid_template_areas": null,
            "grid_template_columns": null,
            "grid_template_rows": null,
            "height": null,
            "justify_content": null,
            "justify_items": null,
            "left": null,
            "margin": null,
            "max_height": null,
            "max_width": null,
            "min_height": null,
            "min_width": null,
            "object_fit": null,
            "object_position": null,
            "order": null,
            "overflow": null,
            "overflow_x": null,
            "overflow_y": null,
            "padding": null,
            "right": null,
            "top": null,
            "visibility": null,
            "width": null
          }
        },
        "1397738b8e794d28ad66d22f5fc2a1d1": {
          "model_module": "@jupyter-widgets/controls",
          "model_name": "ProgressStyleModel",
          "model_module_version": "1.5.0",
          "state": {
            "_model_module": "@jupyter-widgets/controls",
            "_model_module_version": "1.5.0",
            "_model_name": "ProgressStyleModel",
            "_view_count": null,
            "_view_module": "@jupyter-widgets/base",
            "_view_module_version": "1.2.0",
            "_view_name": "StyleView",
            "bar_color": null,
            "description_width": ""
          }
        },
        "26f0dcf3c5624240983563ad63954490": {
          "model_module": "@jupyter-widgets/base",
          "model_name": "LayoutModel",
          "model_module_version": "1.2.0",
          "state": {
            "_model_module": "@jupyter-widgets/base",
            "_model_module_version": "1.2.0",
            "_model_name": "LayoutModel",
            "_view_count": null,
            "_view_module": "@jupyter-widgets/base",
            "_view_module_version": "1.2.0",
            "_view_name": "LayoutView",
            "align_content": null,
            "align_items": null,
            "align_self": null,
            "border": null,
            "bottom": null,
            "display": null,
            "flex": null,
            "flex_flow": null,
            "grid_area": null,
            "grid_auto_columns": null,
            "grid_auto_flow": null,
            "grid_auto_rows": null,
            "grid_column": null,
            "grid_gap": null,
            "grid_row": null,
            "grid_template_areas": null,
            "grid_template_columns": null,
            "grid_template_rows": null,
            "height": null,
            "justify_content": null,
            "justify_items": null,
            "left": null,
            "margin": null,
            "max_height": null,
            "max_width": null,
            "min_height": null,
            "min_width": null,
            "object_fit": null,
            "object_position": null,
            "order": null,
            "overflow": null,
            "overflow_x": null,
            "overflow_y": null,
            "padding": null,
            "right": null,
            "top": null,
            "visibility": null,
            "width": null
          }
        },
        "dc07f6b87a8d441d8ffe8d7998629e0f": {
          "model_module": "@jupyter-widgets/controls",
          "model_name": "DescriptionStyleModel",
          "model_module_version": "1.5.0",
          "state": {
            "_model_module": "@jupyter-widgets/controls",
            "_model_module_version": "1.5.0",
            "_model_name": "DescriptionStyleModel",
            "_view_count": null,
            "_view_module": "@jupyter-widgets/base",
            "_view_module_version": "1.2.0",
            "_view_name": "StyleView",
            "description_width": ""
          }
        }
      }
    }
  },
  "nbformat": 4,
  "nbformat_minor": 0
}